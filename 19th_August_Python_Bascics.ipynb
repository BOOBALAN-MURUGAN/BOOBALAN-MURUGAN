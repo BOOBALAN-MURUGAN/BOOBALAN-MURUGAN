{
 "cells": [
  {
   "cell_type": "markdown",
   "id": "d17d3a0e-025f-4d7b-88a3-c175fa4a41fc",
   "metadata": {},
   "source": [
    "#Python Basics Variable"
   ]
  },
  {
   "cell_type": "markdown",
   "id": "a09b2ca7-a261-440e-bf02-aac5fc404f8c",
   "metadata": {},
   "source": [
    "Declare two variables, x and y, and assign them integer values. Swap the values of these variables without using any temporary variable."
   ]
  },
  {
   "cell_type": "code",
   "execution_count": 1,
   "id": "6b38b087-c092-4913-abfc-4d197bd9e25f",
   "metadata": {},
   "outputs": [
    {
     "name": "stdout",
     "output_type": "stream",
     "text": [
      "200 100\n"
     ]
    }
   ],
   "source": [
    "#Assigning integer value for X and Y\n",
    "X , Y = 100, 200\n",
    "\n",
    "#Swaping the value without creating other variable\n",
    "X, Y = Y, X\n",
    "\n",
    "#print the swapped variable\n",
    "print(X, Y)"
   ]
  },
  {
   "cell_type": "markdown",
   "id": "1c41c496-b047-4963-abd8-7cbec4e7d7b7",
   "metadata": {},
   "source": [
    "Create a program that calculates the area of a rectangle. Take the length and width as inputs from the user and store them in variables. Calculate and display the area."
   ]
  },
  {
   "cell_type": "code",
   "execution_count": 2,
   "id": "4cc392a9-575e-4b81-ab23-18e6a981df96",
   "metadata": {},
   "outputs": [
    {
     "name": "stdin",
     "output_type": "stream",
     "text": [
      "Enter the value:   7\n",
      "Enter the value:   8\n"
     ]
    },
    {
     "name": "stdout",
     "output_type": "stream",
     "text": [
      "56\n"
     ]
    }
   ],
   "source": [
    "#Creating variable with input for Length and Width to take value from the user\n",
    "L = int(input(\"Enter the value:  \"))\n",
    "W = int(input(\"Enter the value:  \"))\n",
    "\n",
    "#Calculating area usin length and width\n",
    "Area = L*W\n",
    "\n",
    "#print the area space\n",
    "print(Area)"
   ]
  },
  {
   "cell_type": "markdown",
   "id": "b8b92391-4de4-43a1-bf65-c4bf5d00a723",
   "metadata": {},
   "source": [
    "Write a Python program that converts temperature from Celsius to Fahrenheit. Take the temperature in Celsius as input, store it in a variable, convert it to Fahrenheit, and display the result."
   ]
  },
  {
   "cell_type": "code",
   "execution_count": 3,
   "id": "c071699d-6f23-4776-934d-41f541799973",
   "metadata": {},
   "outputs": [
    {
     "name": "stdin",
     "output_type": "stream",
     "text": [
      "Enter the Celsius value :   35\n"
     ]
    },
    {
     "name": "stdout",
     "output_type": "stream",
     "text": [
      "95.0\n"
     ]
    }
   ],
   "source": [
    "#Creating variable with input to take Celsius\n",
    "C = int(input(\"Enter the Celsius value :  \"))\n",
    "\n",
    "#Converting Celsius to Fahrenheit using below formula\n",
    "Fahrenheit = C*1.8+32\n",
    "\n",
    "#printing the Fahrenheit\n",
    "print(Fahrenheit)"
   ]
  },
  {
   "cell_type": "code",
   "execution_count": null,
   "id": "c9cd65a4-9863-40c1-83f9-909b4c1bf30a",
   "metadata": {},
   "outputs": [],
   "source": []
  },
  {
   "cell_type": "markdown",
   "id": "351acf3d-8733-462b-b07e-0eb2393ac031",
   "metadata": {},
   "source": [
    "#String Based Questions"
   ]
  },
  {
   "cell_type": "markdown",
   "id": "4d6f6d26-d373-457b-a30f-438374509f85",
   "metadata": {},
   "source": [
    "Write a Python program that takes a string as input and prints the length of the string."
   ]
  },
  {
   "cell_type": "code",
   "execution_count": 4,
   "id": "e28fa346-1ebd-4edc-b7ed-b21fadd48a3b",
   "metadata": {},
   "outputs": [
    {
     "name": "stdin",
     "output_type": "stream",
     "text": [
      "Enter the text here:  I am doing data science course\n"
     ]
    },
    {
     "name": "stdout",
     "output_type": "stream",
     "text": [
      "30\n"
     ]
    }
   ],
   "source": [
    "#Taking string as input from the user\n",
    "S = str(input(\"Enter the text here: \"))\n",
    "\n",
    "#Claculating length of the string\n",
    "print(len(S))"
   ]
  },
  {
   "cell_type": "markdown",
   "id": "36143021-512a-41d2-b87a-22e281177629",
   "metadata": {},
   "source": [
    "Create a program that takes a sentence from the user and counts the number of vowels (a, e, i, o, u) in the string."
   ]
  },
  {
   "cell_type": "code",
   "execution_count": 5,
   "id": "0c5ce3cd-3ad4-446f-b352-a0f4dc8e1a27",
   "metadata": {},
   "outputs": [
    {
     "name": "stdin",
     "output_type": "stream",
     "text": [
      "Enter the sentence here:  I want to be a great data scientist in the company\n"
     ]
    },
    {
     "name": "stdout",
     "output_type": "stream",
     "text": [
      "a in 6 , e in 4 , i in 4 , O in 0 , U in 0\n"
     ]
    }
   ],
   "source": [
    "#Creating input for taking the sentence from the user\n",
    "S = str(input(\"Enter the sentence here: \"))\n",
    "\n",
    "#counting the vowels from the sentence\n",
    "print(\"a in\",S.lower().count('a'), \n",
    "      \", e in\",S.lower().count('e'), \n",
    "      \", i in\",S.lower().count('i'), \n",
    "      \", O in\",S.lower().count('O'), \n",
    "      \", U in\",S.lower().count('u'))"
   ]
  },
  {
   "cell_type": "markdown",
   "id": "8e2b41b0-fa68-4730-b184-bf1f3edbca27",
   "metadata": {},
   "source": [
    "Given a string, reverse the order of characters using string slicing and print the reversed string."
   ]
  },
  {
   "cell_type": "code",
   "execution_count": 6,
   "id": "ff19fac2-4e46-4352-a74d-831d1a9eb85d",
   "metadata": {},
   "outputs": [
    {
     "name": "stdout",
     "output_type": "stream",
     "text": [
      "ecneicS ataD\n"
     ]
    }
   ],
   "source": [
    "#Declaring the string value\n",
    "A = \"Data Science\"\n",
    "\n",
    "#printing the reversed string character\n",
    "print(A[::-1])"
   ]
  },
  {
   "cell_type": "markdown",
   "id": "8012e0eb-6874-4766-a43c-459ba1de3701",
   "metadata": {},
   "source": [
    "Write a program that takes a string as input and checks if it is a palindrome (reads the same forwards and backwards)."
   ]
  },
  {
   "cell_type": "code",
   "execution_count": 7,
   "id": "839a38c5-f842-49d3-ac7d-38f9393cd555",
   "metadata": {},
   "outputs": [
    {
     "name": "stdin",
     "output_type": "stream",
     "text": [
      "Enter a string here:  Level\n"
     ]
    },
    {
     "name": "stdout",
     "output_type": "stream",
     "text": [
      "The result of palindrome in the string is:  True\n"
     ]
    }
   ],
   "source": [
    "#Taking the string input\n",
    "S = str(input(\"Enter a string here: \")).lower()\n",
    "\n",
    "#reversing the string ward to check\n",
    "S1 = S[::-1]\n",
    "\n",
    "#printing the result\n",
    "print(\"The result of palindrome in the string is: \",S==S1)"
   ]
  },
  {
   "cell_type": "markdown",
   "id": "60c7d3bb-8755-4586-8e42-5fdb6d8fec92",
   "metadata": {},
   "source": [
    "Create a program that takes a string as input and removes all the spaces from it. Print the modified string without spaces."
   ]
  },
  {
   "cell_type": "code",
   "execution_count": 8,
   "id": "9c4d256e-492c-4963-95ed-c3e0c33721c3",
   "metadata": {},
   "outputs": [
    {
     "name": "stdin",
     "output_type": "stream",
     "text": [
      "Enter the string here:  I      Love     Data     Science\n"
     ]
    },
    {
     "name": "stdout",
     "output_type": "stream",
     "text": [
      "ILoveDataScience\n"
     ]
    }
   ],
   "source": [
    "#Taking the input from the user\n",
    "B  = str(input(\"Enter the string here: \"))\n",
    "\n",
    "#remove extra space from the string and print\n",
    "print(B.replace(' ',''))"
   ]
  }
 ],
 "metadata": {
  "kernelspec": {
   "display_name": "Python 3 (ipykernel)",
   "language": "python",
   "name": "python3"
  },
  "language_info": {
   "codemirror_mode": {
    "name": "ipython",
    "version": 3
   },
   "file_extension": ".py",
   "mimetype": "text/x-python",
   "name": "python",
   "nbconvert_exporter": "python",
   "pygments_lexer": "ipython3",
   "version": "3.10.8"
  }
 },
 "nbformat": 4,
 "nbformat_minor": 5
}
