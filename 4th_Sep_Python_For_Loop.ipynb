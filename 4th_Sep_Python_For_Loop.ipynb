{
 "cells": [
  {
   "cell_type": "markdown",
   "id": "e919aff9-21ad-4807-8130-7d1dc6b046e0",
   "metadata": {},
   "source": [
    "Basic If-Else Statements:"
   ]
  },
  {
   "cell_type": "markdown",
   "id": "1be96f44-a7ec-448c-889f-91a551d454ca",
   "metadata": {},
   "source": [
    "1. Write a Python program to check if a given number is positive or negative."
   ]
  },
  {
   "cell_type": "code",
   "execution_count": 2,
   "id": "4f67c220-03aa-45a1-87c6-870f68577120",
   "metadata": {},
   "outputs": [
    {
     "name": "stdout",
     "output_type": "stream",
     "text": [
      "Negative Value\n"
     ]
    }
   ],
   "source": [
    "def num(a):\n",
    "    if a<0:\n",
    "        print('Negative Value')\n",
    "    else:\n",
    "        print('Positive Value')\n",
    "num(-1)"
   ]
  },
  {
   "cell_type": "markdown",
   "id": "26964073-d429-43c9-ace7-834c8012bc63",
   "metadata": {},
   "source": [
    "2. Create a program that determines if a person is eligible to vote based on their age."
   ]
  },
  {
   "cell_type": "code",
   "execution_count": 3,
   "id": "0abae4d3-b1fb-4c8f-9337-cca9fa807839",
   "metadata": {},
   "outputs": [
    {
     "name": "stdin",
     "output_type": "stream",
     "text": [
      "Enter you age : 21\n"
     ]
    },
    {
     "name": "stdout",
     "output_type": "stream",
     "text": [
      "Eligible for vote\n"
     ]
    }
   ],
   "source": [
    "Age = int(input('Enter you age :'))\n",
    "\n",
    "def vote(a):\n",
    "    if a >= 18:\n",
    "        print('Eligible for vote')\n",
    "    else:\n",
    "        print('Not Eligible for vote')\n",
    "vote(Age)"
   ]
  },
  {
   "cell_type": "markdown",
   "id": "e532c436-0f4a-4973-b67d-f2426d44e2b9",
   "metadata": {},
   "source": [
    "3. Develop a program to find the maximum of two numbers using if-else statements."
   ]
  },
  {
   "cell_type": "code",
   "execution_count": 16,
   "id": "7d29936e-a022-461b-93e7-9ee61dd97f69",
   "metadata": {},
   "outputs": [
    {
     "name": "stdin",
     "output_type": "stream",
     "text": [
      "Enter a number 63\n"
     ]
    },
    {
     "name": "stdout",
     "output_type": "stream",
     "text": [
      "6\n"
     ]
    }
   ],
   "source": [
    "A = input('Enter a number')\n",
    "\n",
    "def mx(a):\n",
    "    a1 = [int(i) for i in a]\n",
    "    if a1[0] > a1[1]:\n",
    "        print(a1[0])\n",
    "    else:\n",
    "        print(a1[1])\n",
    "        \n",
    "mx(A)"
   ]
  },
  {
   "cell_type": "markdown",
   "id": "e740d3ce-6341-496e-b045-34a5a8e247da",
   "metadata": {},
   "source": [
    "4. Write a Python script to classify a given year as a leap year or not."
   ]
  },
  {
   "cell_type": "code",
   "execution_count": 22,
   "id": "9abe71f5-6872-4129-9e04-09c64360c8da",
   "metadata": {},
   "outputs": [
    {
     "name": "stdout",
     "output_type": "stream",
     "text": [
      "Leap Year\n"
     ]
    }
   ],
   "source": [
    "def LY(a):\n",
    "    A = list(range(4,10001,4))\n",
    "    if a in A:\n",
    "       print('Leap Year')\n",
    "    else:\n",
    "       print('Not a Leap Year')\n",
    "LY(2024)"
   ]
  },
  {
   "cell_type": "markdown",
   "id": "f675c355-1927-4ed8-b523-72df6dc98537",
   "metadata": {},
   "source": [
    "5. Create a program that checks whether a character is a vowel or a consonant."
   ]
  },
  {
   "cell_type": "code",
   "execution_count": 33,
   "id": "ee4d6c08-6414-4aea-b627-a6c105e2f094",
   "metadata": {},
   "outputs": [
    {
     "name": "stdout",
     "output_type": "stream",
     "text": [
      "Vowels\n"
     ]
    }
   ],
   "source": [
    "def ck(a):\n",
    "    A = [i for i in 'aeiou']\n",
    "    if a.lower() in A:\n",
    "        print('Vowels')\n",
    "    else:\n",
    "        print('consonant')\n",
    "\n",
    "ck('A')"
   ]
  },
  {
   "cell_type": "markdown",
   "id": "b44c5748-2d9e-49a2-93d6-9e124a7eecaf",
   "metadata": {},
   "source": [
    "6. Implement a program to determine whether a given number is even or odd."
   ]
  },
  {
   "cell_type": "code",
   "execution_count": 37,
   "id": "d980ca76-9a96-4127-b6b6-e30d4703f8ce",
   "metadata": {},
   "outputs": [
    {
     "name": "stdin",
     "output_type": "stream",
     "text": [
      "Enter a number here 56\n"
     ]
    },
    {
     "name": "stdout",
     "output_type": "stream",
     "text": [
      "Even Number\n"
     ]
    }
   ],
   "source": [
    "A = int(input('Enter a number here'))\n",
    "\n",
    "def lk(a):\n",
    "    if a%2 == 0:\n",
    "        print('Even Number')\n",
    "    else:\n",
    "        print('Odd Number')\n",
    "lk(A)"
   ]
  },
  {
   "cell_type": "markdown",
   "id": "b3cb3191-6c81-40db-a47c-851cd162c00f",
   "metadata": {},
   "source": [
    "7. Write a Python function to calculate the absolute value of a number without using the `abs()` function."
   ]
  },
  {
   "cell_type": "code",
   "execution_count": 43,
   "id": "f39e4caf-5001-43c9-8617-bb61d3fc6abf",
   "metadata": {},
   "outputs": [
    {
     "name": "stdin",
     "output_type": "stream",
     "text": [
      "Enter a value here -5\n"
     ]
    },
    {
     "name": "stdout",
     "output_type": "stream",
     "text": [
      "5\n"
     ]
    }
   ],
   "source": [
    "def ab(a):\n",
    "    if a < 0:\n",
    "        print(-1*a)\n",
    "    else:\n",
    "        print(a)\n",
    "\n",
    "C = int(input('Enter a value here'))\n",
    "ab(C)"
   ]
  },
  {
   "cell_type": "markdown",
   "id": "89024528-142d-4b4b-97ca-e327472459d1",
   "metadata": {},
   "source": [
    "8. Develop a program that determines the largest of three given numbers using if-else statements."
   ]
  },
  {
   "cell_type": "code",
   "execution_count": 52,
   "id": "b77ebd69-e9b7-4f5d-baa5-54e372ea871b",
   "metadata": {},
   "outputs": [
    {
     "name": "stdin",
     "output_type": "stream",
     "text": [
      "Enter a number 456\n"
     ]
    },
    {
     "name": "stdout",
     "output_type": "stream",
     "text": [
      "6\n"
     ]
    }
   ],
   "source": [
    "A = input('Enter a number')\n",
    "\n",
    "def lg(a):\n",
    "    a1 = [int(i) for i in a]\n",
    "    if a1[0] > a1[1]:\n",
    "        if  a1[0] > a1[2]:\n",
    "            print(a1[0])\n",
    "    elif a1[0] < a1[1] > a1[2]:\n",
    "        print(a1[1])\n",
    "    else:\n",
    "        print(a1[2])\n",
    "        \n",
    "lg(A)"
   ]
  },
  {
   "cell_type": "markdown",
   "id": "1cabf457-9790-4ee0-b6d6-75a9e5619f15",
   "metadata": {},
   "source": [
    "9. Create a program that checks if a given string is a palindrome."
   ]
  },
  {
   "cell_type": "code",
   "execution_count": 49,
   "id": "15c94779-e379-4294-a2ef-bb2392a0e163",
   "metadata": {},
   "outputs": [
    {
     "name": "stdin",
     "output_type": "stream",
     "text": [
      "Enter a word levvl\n"
     ]
    },
    {
     "name": "stdout",
     "output_type": "stream",
     "text": [
      "Non Palindrome\n"
     ]
    }
   ],
   "source": [
    "def pa(a):\n",
    "    if a == a[::-1]:\n",
    "        print('Palindrome')\n",
    "    else:\n",
    "        print('Non Palindrome')\n",
    "\n",
    "S = input('Enter a word')\n",
    "\n",
    "pa(S)"
   ]
  },
  {
   "cell_type": "markdown",
   "id": "f7d02e12-7a3e-424f-b3d9-101150a0ae4f",
   "metadata": {},
   "source": [
    "10. Write a Python program to calculate the grade based on a student's score."
   ]
  },
  {
   "cell_type": "code",
   "execution_count": 51,
   "id": "8b7f75ae-a9eb-4fda-afd6-f2b710162633",
   "metadata": {},
   "outputs": [
    {
     "name": "stdout",
     "output_type": "stream",
     "text": [
      "Grade B\n"
     ]
    }
   ],
   "source": [
    "def grade(a):\n",
    "    if a > 80:\n",
    "        print('Grade A')\n",
    "    elif a < 80 and a > 60:\n",
    "        print('Grade B')\n",
    "    else:\n",
    "        print('Grade C')\n",
    "\n",
    "grade(70)"
   ]
  },
  {
   "cell_type": "markdown",
   "id": "509f8e65-8fb5-4f25-b80f-05f9b6c6dc6b",
   "metadata": {},
   "source": [
    "#"
   ]
  },
  {
   "cell_type": "markdown",
   "id": "4f63e4e7-0e97-451c-83f7-b181f5ecede6",
   "metadata": {},
   "source": [
    "Nested If-Else Statements:"
   ]
  },
  {
   "cell_type": "markdown",
   "id": "6dbdf0d1-3c89-4e3c-abaf-f6a3a8e5a1dc",
   "metadata": {},
   "source": [
    "11. Write a program to find the largest among three numbers using nested if-else statements."
   ]
  },
  {
   "cell_type": "code",
   "execution_count": null,
   "id": "4a267cb6-0ef3-48ca-8eed-96c81825e366",
   "metadata": {},
   "outputs": [],
   "source": [
    "A = input('Enter a number')\n",
    "\n",
    "def lg(a):\n",
    "    a1 = [int(i) for i in a]\n",
    "    if a1[0] > a1[1] > a1[2]:\n",
    "        print(a1[0])\n",
    "    elif a1[0] < a1[1] > a1[2]:\n",
    "        print(a1[1])\n",
    "    else:\n",
    "        print(a1[2])\n",
    "        \n",
    "lg(A)"
   ]
  },
  {
   "cell_type": "markdown",
   "id": "5cff119f-9abc-45d4-b467-f4152a7f4ed3",
   "metadata": {},
   "source": [
    "12. Implement a program to determine if a triangle is equilateral, isosceles, or scalene."
   ]
  },
  {
   "cell_type": "code",
   "execution_count": 55,
   "id": "fbff3024-d0e7-4c0c-86f8-4c4ff8c18ac2",
   "metadata": {},
   "outputs": [
    {
     "name": "stdin",
     "output_type": "stream",
     "text": [
      "Enter a 3digit 445\n"
     ]
    },
    {
     "name": "stdout",
     "output_type": "stream",
     "text": [
      "isosceles\n"
     ]
    }
   ],
   "source": [
    "def tr(a):\n",
    "    D = [int(i) for i in a]\n",
    "    if D[0] == D[1] == D[2]:\n",
    "        print('Equilateral')\n",
    "    elif D[0] == D[1] != D[2]:\n",
    "        print('isosceles')\n",
    "    else:\n",
    "        print('Scalene')\n",
    "f = input('Enter a 3digit')\n",
    "tr(f)"
   ]
  },
  {
   "cell_type": "markdown",
   "id": "54a5cda2-9338-4224-9099-cd441ff72b71",
   "metadata": {},
   "source": [
    "13. Develop a program that checks if a year is a leap year and also if it is a century year."
   ]
  },
  {
   "cell_type": "code",
   "execution_count": 64,
   "id": "9866b49b-60a8-4c91-af04-33b64f18c91b",
   "metadata": {},
   "outputs": [
    {
     "name": "stdin",
     "output_type": "stream",
     "text": [
      "Enter year 2024\n"
     ]
    },
    {
     "name": "stdout",
     "output_type": "stream",
     "text": [
      "Leap Year and Not Century Year\n"
     ]
    }
   ],
   "source": [
    "def yr(a):\n",
    "    if a%4 == 0:\n",
    "        if a%100 == 0:\n",
    "            print('Leap and Century Year')\n",
    "        else:\n",
    "            print('Leap Year and Not Century Year')\n",
    "    else:\n",
    "        print('Not Leap & Century Year')\n",
    "\n",
    "d = int(input('Enter year'))\n",
    "\n",
    "yr(d)"
   ]
  },
  {
   "cell_type": "markdown",
   "id": "0baaaa3c-362d-4bfa-a1c8-46ece2e9e5ae",
   "metadata": {},
   "source": [
    "14. Write a Python script to determine if a number is positive, negative, or zero."
   ]
  },
  {
   "cell_type": "code",
   "execution_count": 66,
   "id": "d02241a9-0e13-4113-8d8f-49eb82ffea0f",
   "metadata": {},
   "outputs": [
    {
     "name": "stdin",
     "output_type": "stream",
     "text": [
      "Enter a number -1\n"
     ]
    },
    {
     "name": "stdout",
     "output_type": "stream",
     "text": [
      "Negative\n"
     ]
    }
   ],
   "source": [
    "def num(a):\n",
    "    if a==0:\n",
    "        print('Zero')\n",
    "    elif a > 0:\n",
    "        print('Positive')\n",
    "    else:\n",
    "        print('Negative')\n",
    "        \n",
    "D = int(input('Enter a number'))\n",
    "\n",
    "num(D)"
   ]
  },
  {
   "cell_type": "markdown",
   "id": "ead9732c-931b-452b-8caf-d70c1c88658f",
   "metadata": {},
   "source": [
    "15. Create a program to check if a person is a teenager (between 13 and 19 years old)."
   ]
  },
  {
   "cell_type": "code",
   "execution_count": 70,
   "id": "ca08370c-4766-4983-ab3f-e4316fa73c39",
   "metadata": {},
   "outputs": [
    {
     "name": "stdin",
     "output_type": "stream",
     "text": [
      "Enter your age 15\n"
     ]
    },
    {
     "name": "stdout",
     "output_type": "stream",
     "text": [
      "Teenager\n"
     ]
    }
   ],
   "source": [
    "def teen(age):\n",
    "    if age > 13:\n",
    "        if age < 19:\n",
    "            print('Teenager')\n",
    "        else:\n",
    "            print('Adult')\n",
    "    else:\n",
    "        print('child')\n",
    "        \n",
    "Age = int(input('Enter your age'))\n",
    "teen(Age)"
   ]
  },
  {
   "cell_type": "markdown",
   "id": "094c434a-8f05-4d43-9a87-5c93871a363b",
   "metadata": {},
   "source": [
    "16. Develop a program that determines the type of angle based on its measure (acute, obtuse, or right)."
   ]
  },
  {
   "cell_type": "code",
   "execution_count": 77,
   "id": "e0c8b310-2eb7-41c7-80a5-53d5dc151124",
   "metadata": {},
   "outputs": [
    {
     "name": "stdin",
     "output_type": "stream",
     "text": [
      "Enter a measure 170\n"
     ]
    },
    {
     "name": "stdout",
     "output_type": "stream",
     "text": [
      "Obtuse Angle\n"
     ]
    }
   ],
   "source": [
    "def angle(a):\n",
    "    if a < 90:\n",
    "        print('Acute Angle')\n",
    "    elif a == 90:\n",
    "        print('Right Angle')\n",
    "    elif a > 90 and a < 180:\n",
    "        print('Obtuse Angle')\n",
    "    else:\n",
    "        print('Straight Angle')\n",
    "        \n",
    "S = int(input('Enter a measure'))\n",
    "\n",
    "angle(S)"
   ]
  },
  {
   "cell_type": "markdown",
   "id": "5b53b9e6-326b-4d47-83c1-40bd416a23ad",
   "metadata": {},
   "source": [
    "17. Write a Python program to calculate the roots of a quadratic equation."
   ]
  },
  {
   "cell_type": "code",
   "execution_count": 79,
   "id": "4d51a69c-7dfd-40b9-a24d-c6b8453e58ec",
   "metadata": {},
   "outputs": [
    {
     "name": "stdin",
     "output_type": "stream",
     "text": [
      "Enter the coefficient a:  3\n",
      "Enter the coefficient b:  6\n",
      "Enter the coefficient c:  9\n"
     ]
    },
    {
     "name": "stdout",
     "output_type": "stream",
     "text": [
      "Root 1 = -1.00 + 1.41i\n",
      "Root 2 = -1.00 - 1.41i\n"
     ]
    }
   ],
   "source": [
    "a = float(input(\"Enter the coefficient a: \"))\n",
    "b = float(input(\"Enter the coefficient b: \"))\n",
    "c = float(input(\"Enter the coefficient c: \"))\n",
    "\n",
    "discriminant = b**2 - 4*a*c\n",
    "if discriminant > 0:\n",
    "    root1 = (-b + (discriminant ** 0.5)) / (2 * a)\n",
    "    root2 = (-b - (discriminant ** 0.5)) / (2 * a)\n",
    "    print(f\"Root 1 = {root1:.2f}\")\n",
    "    print(f\"Root 2 = {root2:.2f}\")\n",
    "elif discriminant == 0:\n",
    "    root = -b / (2 * a)\n",
    "    print(f\"Root = {root:.2f}\")\n",
    "else:\n",
    "    real_part = -b / (2 * a)\n",
    "    imaginary_part = (abs(discriminant) ** 0.5) / (2 * a)\n",
    "    print(f\"Root 1 = {real_part:.2f} + {imaginary_part:.2f}i\")\n",
    "    print(f\"Root 2 = {real_part:.2f} - {imaginary_part:.2f}i\")"
   ]
  },
  {
   "cell_type": "markdown",
   "id": "aaf6b4eb-97e4-4482-896f-1cf58fcbadac",
   "metadata": {},
   "source": [
    "18. Implement a program to determine the day of the week based on a user-provided number (1 for Monday, 2 for Tuesday, etc.)."
   ]
  },
  {
   "cell_type": "code",
   "execution_count": 81,
   "id": "9482e7b0-919e-4265-baf8-38f2937de581",
   "metadata": {},
   "outputs": [
    {
     "name": "stdin",
     "output_type": "stream",
     "text": [
      "Enter a number from 1 to 7 4\n"
     ]
    },
    {
     "data": {
      "text/plain": [
       "'Thrusday'"
      ]
     },
     "execution_count": 81,
     "metadata": {},
     "output_type": "execute_result"
    }
   ],
   "source": [
    "def day(s):\n",
    "    D = ['Monday','Tuesday','Wednesday','Thrusday','Friday','Saturday','Sunday']\n",
    "    S = -1\n",
    "    S+=s\n",
    "    return D[S]\n",
    "\n",
    "L = int(input('Enter a number from 1 to 7'))\n",
    "day(L)"
   ]
  },
  {
   "cell_type": "markdown",
   "id": "1275ab49-0f7e-4fcc-bfeb-55daa21c74ee",
   "metadata": {},
   "source": [
    "19. Create a program that determines if a year is a leap year and also if it is evenly divisible by 400."
   ]
  },
  {
   "cell_type": "code",
   "execution_count": 83,
   "id": "b48a80a0-7e0e-4ac6-8d91-88a89c328df8",
   "metadata": {},
   "outputs": [
    {
     "name": "stdin",
     "output_type": "stream",
     "text": [
      "Enter a year:  2002\n"
     ]
    },
    {
     "name": "stdout",
     "output_type": "stream",
     "text": [
      "2002 is not a leap year.\n"
     ]
    }
   ],
   "source": [
    "year = int(input(\"Enter a year: \"))\n",
    "\n",
    "if (year % 4 == 0 and year % 100 != 0) or (year % 400 == 0):\n",
    "    print(f\"{year} is a leap year.\")\n",
    "else:\n",
    "    print(f\"{year} is not a leap year.\")"
   ]
  },
  {
   "cell_type": "markdown",
   "id": "456beb24-06c2-46df-aec9-f2653ac40c5c",
   "metadata": {},
   "source": [
    "20. Develop a program that checks if a given number is prime or not using nested if-else statements."
   ]
  },
  {
   "cell_type": "code",
   "execution_count": 97,
   "id": "592be1b7-de6b-46f8-ad4a-331cb7d704d7",
   "metadata": {},
   "outputs": [
    {
     "name": "stdin",
     "output_type": "stream",
     "text": [
      "Enter a number 37\n"
     ]
    },
    {
     "data": {
      "text/plain": [
       "True"
      ]
     },
     "execution_count": 97,
     "metadata": {},
     "output_type": "execute_result"
    }
   ],
   "source": [
    "D = int(input('Enter a number'))\n",
    "\n",
    "def PM(s):\n",
    "    for i in range(2,s):\n",
    "        if s%i == 0:\n",
    "            return False\n",
    "    return True\n",
    "            \n",
    "PM(D)"
   ]
  },
  {
   "cell_type": "markdown",
   "id": "ab2749ad-73b6-452f-a041-d536f6bc3e0d",
   "metadata": {},
   "source": [
    "#"
   ]
  },
  {
   "cell_type": "markdown",
   "id": "917d7bf9-7d4e-4254-828c-dc1346ab7985",
   "metadata": {},
   "source": [
    "Elif Statements:"
   ]
  },
  {
   "cell_type": "markdown",
   "id": "0f53e2c5-afaa-43df-b4d0-3fdcfc7a87ac",
   "metadata": {},
   "source": [
    "21. Write a Python program to assign grades based on different ranges of scores using elif statements."
   ]
  },
  {
   "cell_type": "code",
   "execution_count": 1,
   "id": "f29050c0-dbd4-4dee-af72-a6624000bdde",
   "metadata": {},
   "outputs": [
    {
     "name": "stdout",
     "output_type": "stream",
     "text": [
      "Grade B\n"
     ]
    }
   ],
   "source": [
    "def grade(a):\n",
    "    if a > 80:\n",
    "        print('Grade A')\n",
    "    elif a < 80 and a > 60:\n",
    "        print('Grade B')\n",
    "    else:\n",
    "        print('Grade C')\n",
    "\n",
    "grade(70)"
   ]
  },
  {
   "cell_type": "markdown",
   "id": "fbcaba1d-901c-44a8-9edc-096abfb300f8",
   "metadata": {},
   "source": [
    "22. Implement a program to determine the type of a triangle based on its angles."
   ]
  },
  {
   "cell_type": "code",
   "execution_count": 2,
   "id": "c4469f89-c7d5-4ce2-86ff-114b9a8191b2",
   "metadata": {},
   "outputs": [
    {
     "name": "stdin",
     "output_type": "stream",
     "text": [
      "Enter a measure 120\n"
     ]
    },
    {
     "name": "stdout",
     "output_type": "stream",
     "text": [
      "Obtuse Angle\n"
     ]
    }
   ],
   "source": [
    "def angle(a):\n",
    "    if a < 90:\n",
    "        print('Acute Angle')\n",
    "    elif a == 90:\n",
    "        print('Right Angle')\n",
    "    elif a > 90 and a < 180:\n",
    "        print('Obtuse Angle')\n",
    "    else:\n",
    "        print('Straight Angle')\n",
    "        \n",
    "S = int(input('Enter a measure'))\n",
    "\n",
    "angle(S)"
   ]
  },
  {
   "cell_type": "markdown",
   "id": "4bcaf89f-9714-4290-a71d-bad06249593a",
   "metadata": {},
   "source": [
    "23. Develop a program to categorize a given person's BMI into underweight, normal, overweight, or obese using elif statements."
   ]
  },
  {
   "cell_type": "code",
   "execution_count": 7,
   "id": "77edb7f3-a881-447c-be96-8518b6f0d6ae",
   "metadata": {},
   "outputs": [
    {
     "name": "stdin",
     "output_type": "stream",
     "text": [
      "Enter a BMI here 24\n"
     ]
    },
    {
     "name": "stdout",
     "output_type": "stream",
     "text": [
      "Healthy weight\n"
     ]
    }
   ],
   "source": [
    "A = int(input('Enter a BMI here'))\n",
    "\n",
    "def BMI(f):\n",
    "    if f <= 18:\n",
    "        print('Underweight')\n",
    "    elif f > 18 and f <=24:\n",
    "        print('Healthy weight')\n",
    "    elif f > 24 and f <=30:\n",
    "        print('Overweight')\n",
    "    else:\n",
    "        print('Obese')\n",
    "BMI(A)        "
   ]
  },
  {
   "cell_type": "markdown",
   "id": "ae540737-d6db-4519-8add-c1b332ae7ae1",
   "metadata": {},
   "source": [
    "24. Create a program that determines whether a given number is positive, negative, or zero using elif statements."
   ]
  },
  {
   "cell_type": "code",
   "execution_count": 8,
   "id": "39562cdb-d9c4-46c8-8286-da251e7c1afe",
   "metadata": {},
   "outputs": [
    {
     "name": "stdin",
     "output_type": "stream",
     "text": [
      "Enter a number 5\n"
     ]
    },
    {
     "name": "stdout",
     "output_type": "stream",
     "text": [
      "Positive\n"
     ]
    }
   ],
   "source": [
    "def num(a):\n",
    "    if a==0:\n",
    "        print('Zero')\n",
    "    elif a > 0:\n",
    "        print('Positive')\n",
    "    else:\n",
    "        print('Negative')\n",
    "        \n",
    "D = int(input('Enter a number'))\n",
    "\n",
    "num(D)"
   ]
  },
  {
   "cell_type": "markdown",
   "id": "bbba5361-804b-4e4b-9c98-d5e1c358812b",
   "metadata": {},
   "source": [
    "25. Write a Python script to determine the type of a character (uppercase, lowercase, or special) using elif statements."
   ]
  },
  {
   "cell_type": "code",
   "execution_count": 12,
   "id": "74909ccc-d2ee-4b8d-88a1-a6874c70850b",
   "metadata": {},
   "outputs": [
    {
     "name": "stdin",
     "output_type": "stream",
     "text": [
      "Enter a character:  @\n"
     ]
    },
    {
     "name": "stdout",
     "output_type": "stream",
     "text": [
      "@ is a special character.\n"
     ]
    }
   ],
   "source": [
    "char = input(\"Enter a character: \")\n",
    "\n",
    "if char.isalpha():\n",
    "    if char.islower():\n",
    "        print(f\"{char} is a lowercase letter.\")\n",
    "    elif char.isupper():\n",
    "        print(f\"{char} is an uppercase letter.\")\n",
    "else:\n",
    "    print(f\"{char} is a special character.\")"
   ]
  },
  {
   "cell_type": "markdown",
   "id": "477d519d-5bbe-4831-81ee-37c2f1981314",
   "metadata": {},
   "source": [
    "26. Implement a program to calculate the discounted price based on different purchase amounts using elif statements."
   ]
  },
  {
   "cell_type": "code",
   "execution_count": 18,
   "id": "cde7ceca-478d-45d8-a520-cca0cbb1e012",
   "metadata": {},
   "outputs": [
    {
     "name": "stdin",
     "output_type": "stream",
     "text": [
      "Enter a amount here  4000\n"
     ]
    },
    {
     "name": "stdout",
     "output_type": "stream",
     "text": [
      "15% discount applied : 3400\n"
     ]
    }
   ],
   "source": [
    "Amount = int(input('Enter a amount here '))\n",
    "\n",
    "if Amount >= 5000:\n",
    "    print('20% discount applied :',int((Amount-(Amount*20/100))))\n",
    "elif Amount < 5000 and Amount >= 4000:\n",
    "    print('15% discount applied :',int((Amount-(Amount*15/100))))\n",
    "elif Amount < 4000 and Amount <= 3000:\n",
    "    print('10% discount applied :',int((Amount-(Amount*10/100))))\n",
    "elif Amount < 3000 and Amount >= 1000:\n",
    "    print('5% discount applied :',int((Amount-(Amount*5/100))))\n",
    "else:\n",
    "    print('Discount is not eligible')"
   ]
  },
  {
   "cell_type": "markdown",
   "id": "d8d773a9-b7b9-4f43-8cd9-67da05aa09dd",
   "metadata": {},
   "source": [
    "27. Develop a program to calculate the electricity bill based on different consumption slabs using elif statements."
   ]
  },
  {
   "cell_type": "code",
   "execution_count": 21,
   "id": "34ce78e7-6f62-4845-abb8-a694c8c5fce4",
   "metadata": {},
   "outputs": [
    {
     "name": "stdin",
     "output_type": "stream",
     "text": [
      "Enter the electricity consumption  400\n"
     ]
    },
    {
     "name": "stdout",
     "output_type": "stream",
     "text": [
      "Electricity Bill for 400 kWh: $800.0\n"
     ]
    }
   ],
   "source": [
    "Unit = int(input(\"Enter the electricity consumption \"))\n",
    "\n",
    "slab1 = 1.50  \n",
    "slab2 = 2.00  \n",
    "slab3 = 2.50  \n",
    "\n",
    "total_bill = 0.0\n",
    "\n",
    "if Unit <= 100:\n",
    "    total_bill = Unit * slab1\n",
    "elif Unit <= 300:\n",
    "    total_bill = (100 * slab1) + ((Unit - 100) * slab2)\n",
    "else:\n",
    "    total_bill = (100 * slab1) + (200 * slab2) + ((Unit - 300) * slab3)\n",
    "\n",
    "\n",
    "print(f\"Electricity Bill for {Unit} kWh: ${total_bill:}\")"
   ]
  },
  {
   "cell_type": "markdown",
   "id": "141c2bf2-9167-498b-8fa7-95ccd2b86eaf",
   "metadata": {},
   "source": [
    "28. Create a program to determine the type of quadrilateral based on its angles and sides using elif statements."
   ]
  },
  {
   "cell_type": "code",
   "execution_count": 22,
   "id": "31212465-cbf6-4f5e-90a7-ef5f098d463e",
   "metadata": {},
   "outputs": [
    {
     "name": "stdin",
     "output_type": "stream",
     "text": [
      "Enter the first angle in degrees:  90\n",
      "Enter the second angle in degrees:  90\n",
      "Enter the third angle in degrees:  90\n",
      "Enter the fourth angle in degrees:  90\n",
      "Enter the length of the first side:  5\n",
      "Enter the length of the second side:  5\n",
      "Enter the length of the third side:  5\n",
      "Enter the length of the fourth side:  5\n"
     ]
    },
    {
     "name": "stdout",
     "output_type": "stream",
     "text": [
      "It is a square.\n"
     ]
    }
   ],
   "source": [
    "angle1 = float(input(\"Enter the first angle in degrees: \"))\n",
    "angle2 = float(input(\"Enter the second angle in degrees: \"))\n",
    "angle3 = float(input(\"Enter the third angle in degrees: \"))\n",
    "angle4 = float(input(\"Enter the fourth angle in degrees: \"))\n",
    "\n",
    "side1 = float(input(\"Enter the length of the first side: \"))\n",
    "side2 = float(input(\"Enter the length of the second side: \"))\n",
    "side3 = float(input(\"Enter the length of the third side: \"))\n",
    "side4 = float(input(\"Enter the length of the fourth side: \"))\n",
    "\n",
    "if angle1 == angle2 == angle3 == angle4 == 90:\n",
    "    if side1 == side2 == side3 == side4:\n",
    "        print(\"It is a square.\")\n",
    "    else:\n",
    "        print(\"It is a rectangle.\")\n",
    "elif side1 == side2 == side3 == side4:\n",
    "    if angle1 == angle3 and angle2 == angle4:\n",
    "        print(\"It is a parallelogram.\")\n",
    "    elif angle1 == angle2 == angle3 == angle4:\n",
    "        print(\"It is a rhombus.\")\n",
    "    else:\n",
    "        print(\"It is a quadrilateral.\")\n",
    "else:\n",
    "    print(\"It is a quadrilateral.\")\n"
   ]
  },
  {
   "cell_type": "markdown",
   "id": "b9badd7d-bdf6-4c9c-a505-fdc70aaa3fb5",
   "metadata": {},
   "source": [
    "29. Write a Python script to determine the season based on a user-provided month using elif statements."
   ]
  },
  {
   "cell_type": "code",
   "execution_count": 23,
   "id": "448d4524-e985-481a-be81-48b22853f621",
   "metadata": {},
   "outputs": [
    {
     "name": "stdin",
     "output_type": "stream",
     "text": [
      "Enter a month (e.g., January, February, etc.):  may\n"
     ]
    },
    {
     "name": "stdout",
     "output_type": "stream",
     "text": [
      "The season for May is Spring.\n"
     ]
    }
   ],
   "source": [
    "month = input(\"Enter a month (e.g., January, February, etc.): \")\n",
    "\n",
    "month = month.lower()\n",
    "\n",
    "if month in (\"december\", \"january\", \"february\"):\n",
    "    season = \"Winter\"\n",
    "elif month in (\"march\", \"april\", \"may\"):\n",
    "    season = \"Spring\"\n",
    "elif month in (\"june\", \"july\", \"august\"):\n",
    "    season = \"Summer\"\n",
    "elif month in (\"september\", \"october\", \"november\"):\n",
    "    season = \"Fall\"\n",
    "else:\n",
    "    season = \"Invalid month\"\n",
    "\n",
    "print(f\"The season for {month.capitalize()} is {season}.\")\n"
   ]
  },
  {
   "cell_type": "markdown",
   "id": "960fd821-1889-435d-b81a-fbe7c370abe7",
   "metadata": {},
   "source": [
    "30. Implement a program to determine the type of a year (leap or common) and month (30 or 31 days) using elif statements."
   ]
  },
  {
   "cell_type": "code",
   "execution_count": 24,
   "id": "f1e1be22-6016-4329-ac6e-e8cd3eaedb39",
   "metadata": {},
   "outputs": [
    {
     "name": "stdin",
     "output_type": "stream",
     "text": [
      "Enter a year:  2024\n",
      "Enter a month (1-12):  2\n"
     ]
    },
    {
     "name": "stdout",
     "output_type": "stream",
     "text": [
      "2024 is a leap year.\n",
      "The month 2 has 29 days.\n"
     ]
    }
   ],
   "source": [
    "year = int(input(\"Enter a year: \"))\n",
    "month = int(input(\"Enter a month (1-12): \"))\n",
    "\n",
    "is_leap_year = (year % 4 == 0 and year % 100 != 0) or (year % 400 == 0)\n",
    "\n",
    "if month < 1 or month > 12:\n",
    "    print(\"Invalid month input. Please enter a month between 1 and 12.\")\n",
    "else:\n",
    "    if month in (1, 3, 5, 7, 8, 10, 12):\n",
    "        days_in_month = 31\n",
    "    elif month == 2:\n",
    "        if is_leap_year:\n",
    "            days_in_month = 29\n",
    "        else:\n",
    "            days_in_month = 28\n",
    "    else:\n",
    "        days_in_month = 30\n",
    "\n",
    "    if is_leap_year:\n",
    "        print(f\"{year} is a leap year.\")\n",
    "    else:\n",
    "        print(f\"{year} is a common year.\")\n",
    "\n",
    "    print(f\"The month {month} has {days_in_month} days.\")\n"
   ]
  },
  {
   "cell_type": "markdown",
   "id": "f6b3686a-8226-4f41-a060-6921c1010c22",
   "metadata": {},
   "source": [
    "#"
   ]
  },
  {
   "cell_type": "markdown",
   "id": "6d60c2c6-bf80-4d02-b650-7a7d2d62a8cd",
   "metadata": {},
   "source": [
    "Basic Level:"
   ]
  },
  {
   "cell_type": "markdown",
   "id": "df438e22-4d9e-4580-9f38-8bfd10778caa",
   "metadata": {},
   "source": [
    "1. Write a Python program that checks if a given number is positive, negative, or zero."
   ]
  },
  {
   "cell_type": "code",
   "execution_count": 1,
   "id": "191db958-5522-4de9-b5cc-d04e6ca5d1d6",
   "metadata": {},
   "outputs": [
    {
     "name": "stdin",
     "output_type": "stream",
     "text": [
      " -9\n"
     ]
    },
    {
     "name": "stdout",
     "output_type": "stream",
     "text": [
      "Negative\n"
     ]
    }
   ],
   "source": [
    "A = int(input())\n",
    "\n",
    "if A == 0:\n",
    "    print('Zero')\n",
    "elif A >0:\n",
    "    print('Positive')\n",
    "else:\n",
    "    print('Negative')"
   ]
  },
  {
   "cell_type": "markdown",
   "id": "4af85988-deba-4789-92e7-7684550eae36",
   "metadata": {},
   "source": [
    "2. Create a program to determine if a person is eligible to vote based on their age."
   ]
  },
  {
   "cell_type": "code",
   "execution_count": 2,
   "id": "55fe7c5a-545d-439d-93b9-d2c523ca0dd5",
   "metadata": {},
   "outputs": [
    {
     "name": "stdin",
     "output_type": "stream",
     "text": [
      " 14\n"
     ]
    },
    {
     "name": "stdout",
     "output_type": "stream",
     "text": [
      "Not Eligible for Vote\n"
     ]
    }
   ],
   "source": [
    "Age = int(input())\n",
    "if Age >=18:\n",
    "    print('Eligible for Vote')\n",
    "else:\n",
    "    print('Not Eligible for Vote')"
   ]
  },
  {
   "cell_type": "markdown",
   "id": "710846ce-ba52-482b-aac8-848ed94f44c7",
   "metadata": {},
   "source": [
    "3. Write a program to find the maximum of two given numbers using conditional statements."
   ]
  },
  {
   "cell_type": "code",
   "execution_count": 9,
   "id": "154fdc4b-3636-4fac-b3e6-d42b35a1db43",
   "metadata": {},
   "outputs": [
    {
     "name": "stdin",
     "output_type": "stream",
     "text": [
      " 52\n"
     ]
    },
    {
     "name": "stdout",
     "output_type": "stream",
     "text": [
      "Maximun Number:  5\n"
     ]
    }
   ],
   "source": [
    "A = int(input())\n",
    "S = [int(i) for i in str(A)]\n",
    "\n",
    "if S[0] > S[1]:\n",
    "    print('Maximun Number: ',S[0])\n",
    "else:\n",
    "    print('Maximun Number: ',S[1])"
   ]
  },
  {
   "cell_type": "markdown",
   "id": "4db3ef4d-fa35-4c47-af93-fb48ea69e039",
   "metadata": {},
   "source": [
    "4. Develop a program that calculates the grade of a student based on their exam score."
   ]
  },
  {
   "cell_type": "code",
   "execution_count": 12,
   "id": "36583fcd-4701-4b43-837b-c601725b853b",
   "metadata": {},
   "outputs": [
    {
     "name": "stdin",
     "output_type": "stream",
     "text": [
      " 42\n"
     ]
    },
    {
     "name": "stdout",
     "output_type": "stream",
     "text": [
      "Grade C\n"
     ]
    }
   ],
   "source": [
    "S = int(input())\n",
    "if S >= 80:\n",
    "    print('Grade A')\n",
    "elif S < 80 and S >= 60:\n",
    "    print('Grade B')\n",
    "elif S < 60 and S >= 40:\n",
    "    print('Grade C')\n",
    "else:\n",
    "    print('Grade D')"
   ]
  },
  {
   "cell_type": "markdown",
   "id": "0798840b-8586-4e8a-8b08-b9567d0bca8f",
   "metadata": {},
   "source": [
    "5. Create a program that checks if a year is a leap year or not."
   ]
  },
  {
   "cell_type": "code",
   "execution_count": 14,
   "id": "0840cd56-ad45-451b-90e4-e420bbd7a33f",
   "metadata": {},
   "outputs": [
    {
     "name": "stdin",
     "output_type": "stream",
     "text": [
      " 2023\n"
     ]
    },
    {
     "name": "stdout",
     "output_type": "stream",
     "text": [
      "Not Leap Year\n"
     ]
    }
   ],
   "source": [
    "Year = int(input())\n",
    "\n",
    "if Year%4 == 0:\n",
    "    print('Leap Year')\n",
    "else:\n",
    "    print('Not Leap Year')"
   ]
  },
  {
   "cell_type": "markdown",
   "id": "9731eb7c-32c4-4e90-b4d0-c4555ad84669",
   "metadata": {},
   "source": [
    "6. Write a program to classify a triangle based on its sides' lengths."
   ]
  },
  {
   "cell_type": "code",
   "execution_count": 21,
   "id": "18bcf536-8dc5-41d3-8583-e80086ec6d39",
   "metadata": {},
   "outputs": [
    {
     "name": "stdin",
     "output_type": "stream",
     "text": [
      "enter a three digit 224\n"
     ]
    },
    {
     "name": "stdout",
     "output_type": "stream",
     "text": [
      "isosceles Triangle\n"
     ]
    }
   ],
   "source": [
    "D = input('enter a three digit')\n",
    "S = [int(i) for i in D]\n",
    "A,B,C = S[0],S[1],S[2]\n",
    "\n",
    "if A == B == C:\n",
    "    print('Equilateral Triangle')\n",
    "elif A==B!=C or A!=B==C:\n",
    "    print('isosceles Triangle')\n",
    "else:\n",
    "    print('Scalene Triangle')"
   ]
  },
  {
   "cell_type": "markdown",
   "id": "0691350a-1e56-4195-bb93-5a23e1372812",
   "metadata": {},
   "source": [
    "7. Build a program that determines the largest of three given numbers."
   ]
  },
  {
   "cell_type": "code",
   "execution_count": 27,
   "id": "435839ee-08f2-4191-ab1a-be6bbfd58a2c",
   "metadata": {},
   "outputs": [
    {
     "name": "stdin",
     "output_type": "stream",
     "text": [
      " 432\n"
     ]
    },
    {
     "name": "stdout",
     "output_type": "stream",
     "text": [
      "Largest Number : 4\n"
     ]
    }
   ],
   "source": [
    "A = input()\n",
    "B = [int(i) for i in A]\n",
    "\n",
    "if B[0] < B[1] < B[2]:\n",
    "    print('Largest Number :',B[2])\n",
    "elif B[0] < B[1] > B[2]:\n",
    "    print('Largest Number :',B[1])\n",
    "else:\n",
    "    print('Largest Number :',B[0])"
   ]
  },
  {
   "cell_type": "markdown",
   "id": "fc8dd4c2-607b-4c7f-b89a-2cba2a7305c6",
   "metadata": {},
   "source": [
    "8. Develop a program that checks whether a character is a vowel or a consonant."
   ]
  },
  {
   "cell_type": "code",
   "execution_count": 31,
   "id": "41505f82-af38-4d84-856e-cdf4a93276c5",
   "metadata": {},
   "outputs": [
    {
     "name": "stdin",
     "output_type": "stream",
     "text": [
      " I\n"
     ]
    },
    {
     "name": "stdout",
     "output_type": "stream",
     "text": [
      " Vowel Character\n"
     ]
    }
   ],
   "source": [
    "A = input()\n",
    "B = [i for i in 'aeiou']\n",
    "\n",
    "if A.lower() in B:\n",
    "    print(' Vowel Character')\n",
    "else:\n",
    "    print(' Consonant Character')"
   ]
  },
  {
   "cell_type": "markdown",
   "id": "b8955f06-71fe-4154-aaf6-ccd21354eaea",
   "metadata": {},
   "source": [
    "9. Create a program to calculate the total cost of a shopping cart based on discounts."
   ]
  },
  {
   "cell_type": "code",
   "execution_count": 35,
   "id": "85c49600-895c-4203-a14f-caa110ff22a1",
   "metadata": {},
   "outputs": [
    {
     "name": "stdin",
     "output_type": "stream",
     "text": [
      " 500\n"
     ]
    },
    {
     "name": "stdout",
     "output_type": "stream",
     "text": [
      "5% discount applied:  475\n"
     ]
    }
   ],
   "source": [
    "A = int(input())\n",
    "if A >= 2000:\n",
    "    print('15% discount applied: ', A-int(A*15/100))\n",
    "elif A >= 1000 and A <2000 :\n",
    "    print('10% discount applied: ', A-int(A*10/100))\n",
    "else:\n",
    "    print('5% discount applied: ', A-int(A*5/100))"
   ]
  },
  {
   "cell_type": "markdown",
   "id": "c733dd0f-8780-454c-b382-8eb9c5c3fc5b",
   "metadata": {},
   "source": [
    "10. Write a program that checks if a given number is even or odd."
   ]
  },
  {
   "cell_type": "code",
   "execution_count": 37,
   "id": "a49c5860-3941-4ae1-a26d-f113ad68e981",
   "metadata": {},
   "outputs": [
    {
     "name": "stdin",
     "output_type": "stream",
     "text": [
      " 23\n"
     ]
    },
    {
     "name": "stdout",
     "output_type": "stream",
     "text": [
      "Odd Number\n"
     ]
    }
   ],
   "source": [
    "A = int(input())\n",
    "if A%2 ==0:\n",
    "    print(' Even Number')\n",
    "else:\n",
    "    print('Odd Number')"
   ]
  },
  {
   "cell_type": "markdown",
   "id": "748441bc-702c-4592-83cb-0d5730d39fee",
   "metadata": {},
   "source": [
    "#"
   ]
  },
  {
   "cell_type": "markdown",
   "id": "82332f03-66d2-43cb-a54d-b88aac938991",
   "metadata": {},
   "source": [
    "Intermediate Level:"
   ]
  },
  {
   "cell_type": "markdown",
   "id": "806086e5-083f-4a77-bb7a-da230b67cf3e",
   "metadata": {},
   "source": [
    "11. Write a program that calculates the roots of a quadratic equation ."
   ]
  },
  {
   "cell_type": "code",
   "execution_count": 40,
   "id": "f5febee9-e50b-43aa-819b-c7ab7405424f",
   "metadata": {},
   "outputs": [
    {
     "name": "stdout",
     "output_type": "stream",
     "text": [
      "The roots are\n",
      "(-2-4.47213595499958j)\n",
      "(-2+4.47213595499958j)\n"
     ]
    }
   ],
   "source": [
    "import cmath\n",
    "a, b, c = 1, 4, 24\n",
    "dis = (b**2) - (4 * a*c)\n",
    "\n",
    "ans1 = (-b-cmath.sqrt(dis))/(2 * a)\n",
    "ans2 = (-b + cmath.sqrt(dis))/(2 * a)\n",
    "\n",
    "print('The roots are')\n",
    "print(ans1)\n",
    "print(ans2)\n"
   ]
  },
  {
   "cell_type": "markdown",
   "id": "fc996ec7-56f8-46e2-9f18-3343a8e00b32",
   "metadata": {},
   "source": [
    "12. Create a program that determines the day of the week based on the day number (1-7)."
   ]
  },
  {
   "cell_type": "code",
   "execution_count": 55,
   "id": "44a85717-2a1a-4341-b3cd-1c876a1e1b3e",
   "metadata": {},
   "outputs": [
    {
     "name": "stdin",
     "output_type": "stream",
     "text": [
      "Enter a num :  4\n"
     ]
    },
    {
     "name": "stdout",
     "output_type": "stream",
     "text": [
      "Thrusday\n"
     ]
    }
   ],
   "source": [
    "A = int(input('Enter a num : '))\n",
    "B = ['Monday','Tuesday','Wednesday','Thrusday','Friday','Saturday','Sunday']\n",
    "C = [i for i in range(len(B))]\n",
    "if A in C:\n",
    "    print(B[A-1])\n",
    "else:\n",
    "    print('Enter a valid num from 1 to 7')"
   ]
  },
  {
   "cell_type": "markdown",
   "id": "c9a32b36-a97d-4fa3-a6f8-f708340b2e68",
   "metadata": {},
   "source": [
    "13. Develop a program that calculates the factorial of a given number using recursion."
   ]
  },
  {
   "cell_type": "code",
   "execution_count": 60,
   "id": "196942ed-8a6a-4a25-846c-945f3997b1e1",
   "metadata": {},
   "outputs": [
    {
     "name": "stdin",
     "output_type": "stream",
     "text": [
      " 5\n"
     ]
    },
    {
     "name": "stdout",
     "output_type": "stream",
     "text": [
      "Factorial of 5 is 120\n"
     ]
    }
   ],
   "source": [
    "A = int(input())\n",
    "S = 1\n",
    "for i in range(1,A+1):\n",
    "    S*=i\n",
    "print(f'Factorial of {A} is {S}')"
   ]
  },
  {
   "cell_type": "markdown",
   "id": "9cb2d752-65a3-4ee5-a08a-79c3b65f8f05",
   "metadata": {},
   "source": [
    "14. Write a program to find the largest among three numbers without using the `max()` function."
   ]
  },
  {
   "cell_type": "code",
   "execution_count": 74,
   "id": "6b99d22f-c128-4b8d-9cb7-7cf0f6e3a291",
   "metadata": {},
   "outputs": [
    {
     "name": "stdin",
     "output_type": "stream",
     "text": [
      " 123\n"
     ]
    },
    {
     "name": "stdout",
     "output_type": "stream",
     "text": [
      "Maximun Number is  3\n"
     ]
    }
   ],
   "source": [
    "A = input()\n",
    "T = [int(i) for i in A]\n",
    "if T[0] < T[1] < T[2]:\n",
    "    print('Maximun Number is ',T[2])\n",
    "elif T[0] < T[1] > T[2]:\n",
    "    print('Maximun Number is ',T[1])\n",
    "else:\n",
    "    print('Maximun Number is ',T[0])"
   ]
  },
  {
   "cell_type": "markdown",
   "id": "60ad700f-5d51-4965-8754-2164b1794a50",
   "metadata": {},
   "source": [
    "15. Create a program that simulates a basic ATM transaction menu"
   ]
  },
  {
   "cell_type": "code",
   "execution_count": 75,
   "id": "7284fbef-1db6-4a48-88de-5894aeb132b5",
   "metadata": {},
   "outputs": [
    {
     "name": "stdout",
     "output_type": "stream",
     "text": [
      "Welcome to the ATM\n",
      "1. Check Balance\n",
      "2. Make a Deposit\n",
      "3. Make a Withdrawal\n",
      "4. Exit\n"
     ]
    },
    {
     "name": "stdin",
     "output_type": "stream",
     "text": [
      "Enter your choice (1/2/3/4):  2\n",
      "Enter the deposit amount: $ 200\n"
     ]
    },
    {
     "name": "stdout",
     "output_type": "stream",
     "text": [
      "Deposit of $ 200 successful. Your new balance is $ 1200\n",
      "Welcome to the ATM\n",
      "1. Check Balance\n",
      "2. Make a Deposit\n",
      "3. Make a Withdrawal\n",
      "4. Exit\n"
     ]
    },
    {
     "name": "stdin",
     "output_type": "stream",
     "text": [
      "Enter your choice (1/2/3/4):  4\n"
     ]
    },
    {
     "name": "stdout",
     "output_type": "stream",
     "text": [
      "Thank you for using the ATM. Goodbye!\n"
     ]
    }
   ],
   "source": [
    "balance = 1000\n",
    "\n",
    "def display_menu():\n",
    "    print(\"Welcome to the ATM\")\n",
    "    print(\"1. Check Balance\")\n",
    "    print(\"2. Make a Deposit\")\n",
    "    print(\"3. Make a Withdrawal\")\n",
    "    print(\"4. Exit\")\n",
    "\n",
    "def check_balance():\n",
    "    print(\"Your account balance is $\", balance)\n",
    "\n",
    "def make_deposit():\n",
    "    global balance\n",
    "    deposit_amount = int(input(\"Enter the deposit amount: $\"))\n",
    "    balance += deposit_amount\n",
    "    print(\"Deposit of $\", deposit_amount, \"successful. Your new balance is $\", balance)\n",
    "\n",
    "def make_withdrawal():\n",
    "    global balance\n",
    "    withdrawal_amount = int(input(\"Enter the withdrawal amount: $\"))\n",
    "    if withdrawal_amount <= balance:\n",
    "        balance -= withdrawal_amount\n",
    "        print(\"Withdrawal of $\", withdrawal_amount, \"successful. Your new balance is $\", balance)\n",
    "    else:\n",
    "        print(\"Insufficient funds. Your balance is $\", balance)\n",
    "\n",
    "while True:\n",
    "    display_menu()\n",
    "    choice = input(\"Enter your choice (1/2/3/4): \")\n",
    "\n",
    "    if choice == '1':\n",
    "        check_balance()\n",
    "    elif choice == '2':\n",
    "        make_deposit()\n",
    "    elif choice == '3':\n",
    "        make_withdrawal()\n",
    "    elif choice == '4':\n",
    "        print(\"Thank you for using the ATM. Goodbye!\")\n",
    "        break\n",
    "    else:\n",
    "        print(\"Invalid choice. Please choose a valid option (1/2/3/4).\")"
   ]
  },
  {
   "cell_type": "markdown",
   "id": "7a427a7a-3842-4382-9f84-d12264e9de98",
   "metadata": {},
   "source": [
    "16. Build a program that checks if a given string is a palindrome or not."
   ]
  },
  {
   "cell_type": "code",
   "execution_count": 78,
   "id": "6e54a420-fb85-4920-bfe5-9c1b748e5fd8",
   "metadata": {},
   "outputs": [
    {
     "name": "stdin",
     "output_type": "stream",
     "text": [
      " level\n"
     ]
    },
    {
     "name": "stdout",
     "output_type": "stream",
     "text": [
      "Palindrome String\n"
     ]
    }
   ],
   "source": [
    "A = input()\n",
    "if A == A[::-1]:\n",
    "    print('Palindrome String')\n",
    "else:\n",
    "    print('Not Palindrome String')"
   ]
  },
  {
   "cell_type": "markdown",
   "id": "4184a3f8-d9fe-4f32-8053-ba503842a46b",
   "metadata": {},
   "source": [
    "17. Write a program that calculates the average of a list of numbers, excluding the smallest and largest values."
   ]
  },
  {
   "cell_type": "code",
   "execution_count": 84,
   "id": "7ab37252-ddac-4cec-9b85-f1ce513be9e3",
   "metadata": {},
   "outputs": [
    {
     "data": {
      "text/plain": [
       "5.5"
      ]
     },
     "execution_count": 84,
     "metadata": {},
     "output_type": "execute_result"
    }
   ],
   "source": [
    "A = list(range(1,11))\n",
    "def cal(a):\n",
    "    a.sort()\n",
    "    c = sum([i for i in a[1:-1]])\n",
    "    d = c/len(a[1:-1])\n",
    "    return d\n",
    "cal(A)"
   ]
  },
  {
   "cell_type": "markdown",
   "id": "55675496-547d-4e81-8a5c-58539549d449",
   "metadata": {},
   "source": [
    "18. Develop a program that converts a given temperature from Celsius to Fahrenheit."
   ]
  },
  {
   "cell_type": "code",
   "execution_count": 89,
   "id": "b1511961-8b10-4ed0-962b-7545430ac8bb",
   "metadata": {},
   "outputs": [
    {
     "name": "stdin",
     "output_type": "stream",
     "text": [
      " 35\n"
     ]
    },
    {
     "name": "stdout",
     "output_type": "stream",
     "text": [
      "Fahrenheit of Celsius is : 95\n"
     ]
    }
   ],
   "source": [
    "Cel = int(input())\n",
    "\n",
    "def cel(a):\n",
    "    return print('Fahrenheit of Celsius is :',int(a*1.8+32))\n",
    "\n",
    "cel(Cel)"
   ]
  },
  {
   "cell_type": "markdown",
   "id": "3fe36fd6-16d4-45fd-9396-564e0f96b4bf",
   "metadata": {},
   "source": [
    "19. Create a program that simulates a basic calculator for addition, subtraction, multiplication, and division."
   ]
  },
  {
   "cell_type": "code",
   "execution_count": 90,
   "id": "724ccc74-c68a-4533-a3fe-e5f16fa3f288",
   "metadata": {},
   "outputs": [
    {
     "name": "stdout",
     "output_type": "stream",
     "text": [
      "Select operation:\n",
      "1. Addition\n",
      "2. Subtraction\n",
      "3. Multiplication\n",
      "4. Division\n"
     ]
    },
    {
     "name": "stdin",
     "output_type": "stream",
     "text": [
      "Enter choice (1/2/3/4):  1\n",
      "Enter first number:  4\n",
      "Enter second number:  5\n"
     ]
    },
    {
     "name": "stdout",
     "output_type": "stream",
     "text": [
      "Result:  9.0\n"
     ]
    }
   ],
   "source": [
    "def add(x, y):\n",
    "    return x + y\n",
    "def subtract(x, y):\n",
    "    return x - y\n",
    "def multiply(x, y):\n",
    "    return x * y\n",
    "def divide(x, y):\n",
    "    if y == 0:\n",
    "        return \"Cannot divide by zero\"\n",
    "    return x / y\n",
    "\n",
    "print(\"Select operation:\")\n",
    "print(\"1. Addition\")\n",
    "print(\"2. Subtraction\")\n",
    "print(\"3. Multiplication\")\n",
    "print(\"4. Division\")\n",
    "\n",
    "choice = input(\"Enter choice (1/2/3/4): \")\n",
    "\n",
    "num1 = float(input(\"Enter first number: \"))\n",
    "num2 = float(input(\"Enter second number: \"))\n",
    "\n",
    "if choice == '1':\n",
    "    result = add(num1, num2)\n",
    "    print(\"Result: \", result)\n",
    "elif choice == '2':\n",
    "    result = subtract(num1, num2)\n",
    "    print(\"Result: \", result)\n",
    "elif choice == '3':\n",
    "    result = multiply(num1, num2)\n",
    "    print(\"Result: \", result)\n",
    "elif choice == '4':\n",
    "    result = divide(num1, num2)\n",
    "    print(\"Result: \", result)\n",
    "else:\n",
    "    print(\"Invalid input. Please select a valid operation (1/2/3/4).\")\n"
   ]
  },
  {
   "cell_type": "markdown",
   "id": "878c8fa6-0c33-413f-97f2-17b8abd1e341",
   "metadata": {},
   "source": [
    "20. Write a program that determines the roots of a cubic equation using the Cardano formula."
   ]
  },
  {
   "cell_type": "code",
   "execution_count": 91,
   "id": "f6e6a226-6c11-48dc-ac56-6456732557c5",
   "metadata": {},
   "outputs": [
    {
     "name": "stdin",
     "output_type": "stream",
     "text": [
      "Enter coefficient a:  4\n",
      "Enter coefficient b:  5\n",
      "Enter coefficient c:  6\n",
      "Enter coefficient d:  7\n"
     ]
    },
    {
     "name": "stdout",
     "output_type": "stream",
     "text": [
      "The roots of the cubic equation are:\n",
      "(0.4278653159014271+0.9443236276038641j)\n",
      "(-1.0518701343421721-1.2899700647007544j)\n",
      "(-0.6259951815592552+0.3456464370968902j)\n"
     ]
    }
   ],
   "source": [
    "import cmath \n",
    "\n",
    "def cubic_roots(a, b, c, d):\n",
    "    p = c / a - (b ** 2) / (3 * a ** 2)\n",
    "    q = (2 * b ** 3) / (27 * a ** 3) - (b * c) / (3 * a ** 2) + d / a\n",
    "\n",
    "    discriminant = (q ** 2) / 4 + (p ** 3) / 27\n",
    "\n",
    "    if discriminant > 0:\n",
    "        u = (-q / 2 + discriminant ** 0.5) ** (1 / 3)\n",
    "        v = (-q / 2 - discriminant ** 0.5) ** (1 / 3)\n",
    "        real_root1 = u + v - b / (3 * a)\n",
    "        real_root2 = -(u + v) / 2 - b / (3 * a) + (u - v) * (3 ** 0.5) / 2\n",
    "        real_root3 = -(u + v) / 2 - b / (3 * a) - (u - v) * (3 ** 0.5) / 2\n",
    "        return real_root1, real_root2, real_root3\n",
    "    elif discriminant == 0:\n",
    "        u = (-q / 2) ** (1 / 3)\n",
    "        real_root1 = 2 * u - b / (3 * a)\n",
    "        complex_root1 = -(u + b / (3 * a))\n",
    "        complex_root2 = (u + b / (3 * a)) * (3 ** 0.5) / 2\n",
    "        complex_root3 = (u + b / (3 * a)) * (3 ** 0.5) / 2 * cmath.sqrt(-1)\n",
    "        return real_root1, complex_root1, complex_root2, complex_root3\n",
    "    else:\n",
    "        r = ((-(q / 2) ** 2 + (discriminant) ** 3)) ** (1 / 6)\n",
    "        theta = cmath.phase(r)\n",
    "        real_root1 = 2 * r * cmath.cos(theta / 3) - b / (3 * a)\n",
    "        complex_root1 = -r * cmath.cos(theta / 3) - b / (3 * a) + (r * 3 ** 0.5 * cmath.sin(theta / 3))\n",
    "        complex_root2 = -r * cmath.cos(theta / 3) - b / (3 * a) - (r * 3 ** 0.5 * cmath.sin(theta / 3))\n",
    "        return real_root1, complex_root1, complex_root2\n",
    "\n",
    "a = float(input(\"Enter coefficient a: \"))\n",
    "b = float(input(\"Enter coefficient b: \"))\n",
    "c = float(input(\"Enter coefficient c: \"))\n",
    "d = float(input(\"Enter coefficient d: \"))\n",
    "\n",
    "roots = cubic_roots(a, b, c, d)\n",
    "\n",
    "print(\"The roots of the cubic equation are:\")\n",
    "for root in roots:\n",
    "    print(root)"
   ]
  },
  {
   "cell_type": "markdown",
   "id": "71fc6ed2-dfc9-417c-8589-0423e08ff497",
   "metadata": {},
   "source": [
    "#"
   ]
  },
  {
   "cell_type": "markdown",
   "id": "e9f34921-b5d6-4b02-84bc-3984d6c9bf8d",
   "metadata": {},
   "source": [
    "Advanced Level:"
   ]
  },
  {
   "cell_type": "markdown",
   "id": "d5d026c6-e7b9-408b-ad52-791d989c2b60",
   "metadata": {},
   "source": [
    "21. Create a program that calculates the income tax based on the user's income and tax brackets."
   ]
  },
  {
   "cell_type": "code",
   "execution_count": 93,
   "id": "f78df7a5-7dd8-49cf-98b6-8be93b8fb7a7",
   "metadata": {},
   "outputs": [
    {
     "name": "stdin",
     "output_type": "stream",
     "text": [
      "Enter a Annual income here : 1000000\n"
     ]
    },
    {
     "name": "stdout",
     "output_type": "stream",
     "text": [
      "15% Tax will be applied:  25044\n"
     ]
    }
   ],
   "source": [
    "Income = int(input('Enter a Annual income here :'))\n",
    "\n",
    "if Income <= 500000:\n",
    "    print('There is no Tax under 5 Lakhs')\n",
    "elif Income > 500000 and Income <= 600000 :\n",
    "    C = (Income - 300000)*5/100\n",
    "    print('5% Tax will be applied: ',int(C))\n",
    "elif Income > 600000 and Income <= 900000 :\n",
    "    D = ((Income - 600000)*10/100)+C\n",
    "    print('10% Tax will be applied: ',int(D))\n",
    "elif Income > 900000 and Income <= 1200000 :\n",
    "    E = ((Income - 900000)*15/100)+D\n",
    "    print('15% Tax will be applied: ',int(E))\n",
    "elif Income > 1200000:\n",
    "    F = ((Income - 900000)*20/100)+E\n",
    "    print('20% Tax will be applied: ',int(F))"
   ]
  },
  {
   "cell_type": "markdown",
   "id": "7b098da0-30fc-4906-8b92-fb72ade5ee6d",
   "metadata": {},
   "source": [
    "22. Write a program that simulates a rock-paper-scissors game against the computer."
   ]
  },
  {
   "cell_type": "code",
   "execution_count": 94,
   "id": "af2a219f-c8a4-4cc8-b4bb-847a40a02ae3",
   "metadata": {},
   "outputs": [
    {
     "name": "stdout",
     "output_type": "stream",
     "text": [
      "Welcome to Rock-Paper-Scissors!\n",
      "Enter your choice: rock, paper, scissors, or quit to exit\n"
     ]
    },
    {
     "name": "stdin",
     "output_type": "stream",
     "text": [
      " rock\n"
     ]
    },
    {
     "name": "stdout",
     "output_type": "stream",
     "text": [
      "Computer chose: scissors\n",
      "You win!\n",
      "Welcome to Rock-Paper-Scissors!\n",
      "Enter your choice: rock, paper, scissors, or quit to exit\n"
     ]
    },
    {
     "name": "stdin",
     "output_type": "stream",
     "text": [
      " quit\n"
     ]
    },
    {
     "name": "stdout",
     "output_type": "stream",
     "text": [
      "Thanks for playing. Goodbye!\n"
     ]
    }
   ],
   "source": [
    "import random\n",
    "\n",
    "def get_computer_choice():\n",
    "    choices = [\"rock\", \"paper\", \"scissors\"]\n",
    "    computer_choice = random.choice(choices)\n",
    "    return computer_choice\n",
    "\n",
    "def determine_winner(user_choice, computer_choice):\n",
    "    if user_choice == computer_choice:\n",
    "        return \"It's a tie!\"\n",
    "    elif user_choice == \"rock\":\n",
    "        if computer_choice == \"scissors\":\n",
    "            return \"You win!\"\n",
    "        else:\n",
    "            return \"Computer wins!\"\n",
    "    elif user_choice == \"paper\":\n",
    "        if computer_choice == \"rock\":\n",
    "            return \"You win!\"\n",
    "        else:\n",
    "            return \"Computer wins!\"\n",
    "    elif user_choice == \"scissors\":\n",
    "        if computer_choice == \"paper\":\n",
    "            return \"You win!\"\n",
    "        else:\n",
    "            return \"Computer wins!\"\n",
    "\n",
    "while True:\n",
    "    print(\"Welcome to Rock-Paper-Scissors!\")\n",
    "    print(\"Enter your choice: rock, paper, scissors, or quit to exit\")\n",
    "\n",
    "    user_choice = input().lower()\n",
    "\n",
    "    if user_choice == \"quit\":\n",
    "        print(\"Thanks for playing. Goodbye!\")\n",
    "        break\n",
    "    elif user_choice not in [\"rock\", \"paper\", \"scissors\"]:\n",
    "        print(\"Invalid choice. Please choose rock, paper, or scissors.\")\n",
    "        continue\n",
    "\n",
    "    computer_choice = get_computer_choice()\n",
    "    print(\"Computer chose:\", computer_choice)\n",
    "\n",
    "    result = determine_winner(user_choice, computer_choice)\n",
    "    print(result)\n"
   ]
  },
  {
   "cell_type": "markdown",
   "id": "c09eface-3e62-45db-9afd-e1a3676202ad",
   "metadata": {},
   "source": [
    "23. Develop a program that generates a random password based on user preferences (length, complexity)."
   ]
  },
  {
   "cell_type": "code",
   "execution_count": 95,
   "id": "aca9b0aa-8727-42a1-9cfb-e653dfc5da32",
   "metadata": {},
   "outputs": [
    {
     "name": "stdin",
     "output_type": "stream",
     "text": [
      "Enter the desired password length:  10\n",
      "Include uppercase letters? (yes/no):  no\n",
      "Include digits? (yes/no):  yes\n",
      "Include special characters? (yes/no):  no\n"
     ]
    },
    {
     "name": "stdout",
     "output_type": "stream",
     "text": [
      "Generated Password: ghdvduvczk\n"
     ]
    }
   ],
   "source": [
    "import random\n",
    "import string\n",
    "\n",
    "def generate_password(length, use_uppercase, use_digits, use_special_chars):\n",
    "    characters = string.ascii_lowercase\n",
    "    if use_uppercase:\n",
    "        characters += string.ascii_uppercase\n",
    "    if use_digits:\n",
    "        characters += string.digits\n",
    "    if use_special_chars:\n",
    "        characters += string.punctuation\n",
    "\n",
    "    if len(characters) == 0:\n",
    "        return \"Cannot generate a password with no character set selected.\"\n",
    "\n",
    "    password = ''.join(random.choice(characters) for _ in range(length))\n",
    "    return password\n",
    "\n",
    "length = int(input(\"Enter the desired password length: \"))\n",
    "use_uppercase = input(\"Include uppercase letters? (yes/no): \").lower() == 'yes'\n",
    "use_digits = input(\"Include digits? (yes/no): \").lower() == 'yes'\n",
    "use_special_chars = input(\"Include special characters? (yes/no): \").lower() == 'yes'\n",
    "\n",
    "password = generate_password(length, use_uppercase, use_digits, use_special_chars)\n",
    "print(\"Generated Password:\", password)\n"
   ]
  },
  {
   "cell_type": "markdown",
   "id": "57c730a9-5db7-49aa-946f-d31758b53ddd",
   "metadata": {},
   "source": [
    "25. Build a program that solves a linear equation for x, considering different cases."
   ]
  },
  {
   "cell_type": "code",
   "execution_count": 3,
   "id": "2dba3a74-b818-46ba-bc23-5a4d05430613",
   "metadata": {},
   "outputs": [
    {
     "name": "stdin",
     "output_type": "stream",
     "text": [
      "Enter the value of 'a':  5\n",
      "Enter the value of 'b':  4\n",
      "Enter the value of 'c':  6\n"
     ]
    },
    {
     "name": "stdout",
     "output_type": "stream",
     "text": [
      "Solution:\n",
      "x = 0.4\n"
     ]
    }
   ],
   "source": [
    "def solve_linear_equation(a, b, c):\n",
    "    if a == 0:\n",
    "        if b == c:\n",
    "            return \"Infinite solutions (x can be any real number)\"\n",
    "        else:\n",
    "            return \"No solution\"\n",
    "    else:\n",
    "        x = (c - b) / a\n",
    "        return f\"x = {x}\"\n",
    "\n",
    "a = float(input(\"Enter the value of 'a': \"))\n",
    "b = float(input(\"Enter the value of 'b': \"))\n",
    "c = float(input(\"Enter the value of 'c': \"))\n",
    "\n",
    "result = solve_linear_equation(a, b, c)\n",
    "\n",
    "print(\"Solution:\")\n",
    "print(result)"
   ]
  },
  {
   "cell_type": "markdown",
   "id": "cbe31ce5-2ae5-405d-9710-467baf5400b2",
   "metadata": {},
   "source": [
    "26. Write a program that simulates a basic quiz game with multiple-choice questions and scoring."
   ]
  },
  {
   "cell_type": "code",
   "execution_count": 4,
   "id": "bc008851-c435-4d32-844f-cb283e74cb18",
   "metadata": {},
   "outputs": [
    {
     "name": "stdout",
     "output_type": "stream",
     "text": [
      "Welcome to the Quiz Game!\n",
      "Answer the following questions:\n",
      "What is the capital of France?\n",
      "1. London\n",
      "2. Paris\n",
      "3. Berlin\n",
      "4. Madrid\n",
      "\n"
     ]
    },
    {
     "name": "stdin",
     "output_type": "stream",
     "text": [
      "Enter the number of your answer:  2\n"
     ]
    },
    {
     "name": "stdout",
     "output_type": "stream",
     "text": [
      "Correct!\n",
      "\n",
      "Which planet is known as the Red Planet?\n",
      "1. Venus\n",
      "2. Mars\n",
      "3. Jupiter\n",
      "4. Saturn\n",
      "\n"
     ]
    },
    {
     "name": "stdin",
     "output_type": "stream",
     "text": [
      "Enter the number of your answer:  1\n"
     ]
    },
    {
     "name": "stdout",
     "output_type": "stream",
     "text": [
      "Wrong! The correct answer was: 2\n",
      "\n",
      "What is the largest mammal in the world?\n",
      "1. Elephant\n",
      "2. Giraffe\n",
      "3. Blue Whale\n",
      "4. Lion\n",
      "\n"
     ]
    },
    {
     "name": "stdin",
     "output_type": "stream",
     "text": [
      "Enter the number of your answer:  1\n"
     ]
    },
    {
     "name": "stdout",
     "output_type": "stream",
     "text": [
      "Wrong! The correct answer was: 3\n",
      "\n",
      "Quiz completed! Your score: 1/3\n"
     ]
    }
   ],
   "source": [
    "class QuizQuestion:\n",
    "    def __init__(self, question, options, correct_option):\n",
    "        self.question = question\n",
    "        self.options = options\n",
    "        self.correct_option = correct_option\n",
    "\n",
    "    def display_question(self):\n",
    "        print(self.question)\n",
    "        for i, option in enumerate(self.options):\n",
    "            print(f\"{i + 1}. {option}\")\n",
    "        print()\n",
    "\n",
    "    def check_answer(self, user_answer):\n",
    "        return user_answer == self.correct_option\n",
    "\n",
    "\n",
    "class QuizGame:\n",
    "    def __init__(self):\n",
    "        self.questions = []\n",
    "        self.score = 0\n",
    "\n",
    "    def add_question(self, question, options, correct_option):\n",
    "        new_question = QuizQuestion(question, options, correct_option)\n",
    "        self.questions.append(new_question)\n",
    "\n",
    "    def start_game(self):\n",
    "        print(\"Welcome to the Quiz Game!\")\n",
    "        print(\"Answer the following questions:\")\n",
    "        for question in self.questions:\n",
    "            question.display_question()\n",
    "            user_answer = input(\"Enter the number of your answer: \")\n",
    "            try:\n",
    "                user_answer = int(user_answer)\n",
    "                if 1 <= user_answer <= len(question.options):\n",
    "                    if question.check_answer(user_answer):\n",
    "                        print(\"Correct!\\n\")\n",
    "                        self.score += 1\n",
    "                    else:\n",
    "                        print(f\"Wrong! The correct answer was: {question.correct_option}\\n\")\n",
    "                else:\n",
    "                    print(\"Invalid choice. Please select a valid option.\\n\")\n",
    "            except ValueError:\n",
    "                print(\"Invalid input. Please enter a number.\\n\")\n",
    "\n",
    "        print(f\"Quiz completed! Your score: {self.score}/{len(self.questions)}\")\n",
    "\n",
    "\n",
    "# Create a QuizGame instance\n",
    "quiz = QuizGame()\n",
    "\n",
    "# Add questions to the quiz\n",
    "quiz.add_question(\n",
    "    \"What is the capital of France?\",\n",
    "    [\"London\", \"Paris\", \"Berlin\", \"Madrid\"],\n",
    "    2,\n",
    ")\n",
    "\n",
    "quiz.add_question(\n",
    "    \"Which planet is known as the Red Planet?\",\n",
    "    [\"Venus\", \"Mars\", \"Jupiter\", \"Saturn\"],\n",
    "    2,\n",
    ")\n",
    "\n",
    "quiz.add_question(\n",
    "    \"What is the largest mammal in the world?\",\n",
    "    [\"Elephant\", \"Giraffe\", \"Blue Whale\", \"Lion\"],\n",
    "    3,\n",
    ")\n",
    "\n",
    "# Start the quiz\n",
    "quiz.start_game()"
   ]
  },
  {
   "cell_type": "markdown",
   "id": "57213dde-bc33-497f-9046-3fce7b509a46",
   "metadata": {},
   "source": [
    "27. Develop a program that determines whether a given year is a prime number or not."
   ]
  },
  {
   "cell_type": "code",
   "execution_count": 17,
   "id": "a91c6406-43e7-4b7b-b7a5-258674e722fb",
   "metadata": {},
   "outputs": [
    {
     "name": "stdin",
     "output_type": "stream",
     "text": [
      "Enter a year here : 2023\n"
     ]
    },
    {
     "data": {
      "text/plain": [
       "False"
      ]
     },
     "execution_count": 17,
     "metadata": {},
     "output_type": "execute_result"
    }
   ],
   "source": [
    "def PM(a):\n",
    "    for i in range(2,a):\n",
    "        if a%i ==0:\n",
    "            return False\n",
    "    return True\n",
    "S = int(input('Enter a year here :'))\n",
    "PM(S)"
   ]
  },
  {
   "cell_type": "markdown",
   "id": "04bee33e-cae5-4e49-8530-f3828b31f2d4",
   "metadata": {},
   "source": [
    "28. Create a program that sorts three numbers in ascending order using conditional statements."
   ]
  },
  {
   "cell_type": "code",
   "execution_count": 56,
   "id": "f2f6f652-bc53-47d1-8f08-f9a7335ea739",
   "metadata": {},
   "outputs": [
    {
     "name": "stdin",
     "output_type": "stream",
     "text": [
      "Enter a number here:  132\n"
     ]
    },
    {
     "name": "stdout",
     "output_type": "stream",
     "text": [
      "(1, 2, 3)\n"
     ]
    }
   ],
   "source": [
    "A = input('Enter a number here: ')\n",
    "S = [int(i) for i in A]\n",
    "\n",
    "if S[0] < S[1] < S[2]:\n",
    "    result = sorted(S)\n",
    "elif S[0] > S[1] > S[2]:\n",
    "    result = sorted(S, reverse=False)\n",
    "elif S[0] > S[1] < S[2]:\n",
    "    result = S[0], S[1], S[2] = S[1], S[2], S[0]\n",
    "else:\n",
    "    result = S[0], S[1], S[2] = S[0], S[2], S[1]\n",
    "\n",
    "print(result)"
   ]
  },
  {
   "cell_type": "markdown",
   "id": "57e93d07-3f91-448c-a4a3-b7ffdd0550f1",
   "metadata": {},
   "source": [
    "30. Write a program that calculates the BMI (Body Mass Index) and provides health recommendations based on the user's input."
   ]
  },
  {
   "cell_type": "code",
   "execution_count": 61,
   "id": "ecb5186c-ecc6-4573-a704-2f4d6010740c",
   "metadata": {},
   "outputs": [
    {
     "name": "stdout",
     "output_type": "stream",
     "text": [
      "BMI Calculator\n",
      "---------------\n"
     ]
    },
    {
     "name": "stdin",
     "output_type": "stream",
     "text": [
      "Enter your weight in kilograms:  75\n",
      "Enter your height in meters:  1.57\n"
     ]
    },
    {
     "name": "stdout",
     "output_type": "stream",
     "text": [
      "Your BMI is: 30.43\n",
      "You are classified as: Obese\n",
      "Recommendation: Seek medical advice and consider lifestyle changes.\n"
     ]
    }
   ],
   "source": [
    "def calculate_bmi(weight_kg, height_m):\n",
    "    return weight_kg / (height_m ** 2)\n",
    "\n",
    "def get_bmi_category(bmi):\n",
    "    if bmi < 18.5:\n",
    "        return \"Underweight\"\n",
    "    elif 18.5 <= bmi < 24.9:\n",
    "        return \"Normal Weight\"\n",
    "    elif 25 <= bmi < 29.9:\n",
    "        return \"Overweight\"\n",
    "    else:\n",
    "        return \"Obese\"\n",
    "\n",
    "def main():\n",
    "    print(\"BMI Calculator\")\n",
    "    print(\"---------------\")\n",
    "    weight_kg = int(input(\"Enter your weight in kilograms: \"))\n",
    "    height_m = float(input(\"Enter your height in meters: \"))\n",
    "\n",
    "    bmi = calculate_bmi(weight_kg, height_m)\n",
    "    bmi_category = get_bmi_category(bmi)\n",
    "\n",
    "    print(f\"Your BMI is: {bmi:.2f}\")\n",
    "    print(f\"You are classified as: {bmi_category}\")\n",
    "\n",
    "    if bmi_category == \"Underweight\":\n",
    "        print(\"Recommendation: Consider increasing your calorie intake and consult a doctor.\")\n",
    "    elif bmi_category == \"Normal Weight\":\n",
    "        print(\"Recommendation: Maintain a balanced diet and regular exercise routine.\")\n",
    "    elif bmi_category == \"Overweight\":\n",
    "        print(\"Recommendation: Focus on a healthy diet and increase physical activity.\")\n",
    "    else:\n",
    "        print(\"Recommendation: Seek medical advice and consider lifestyle changes.\")\n",
    "\n",
    "if __name__ == \"__main__\":\n",
    "    main()"
   ]
  },
  {
   "cell_type": "code",
   "execution_count": null,
   "id": "ccb1549d-efc1-4f1b-9498-d43c78ab4460",
   "metadata": {},
   "outputs": [],
   "source": []
  }
 ],
 "metadata": {
  "kernelspec": {
   "display_name": "Python 3 (ipykernel)",
   "language": "python",
   "name": "python3"
  },
  "language_info": {
   "codemirror_mode": {
    "name": "ipython",
    "version": 3
   },
   "file_extension": ".py",
   "mimetype": "text/x-python",
   "name": "python",
   "nbconvert_exporter": "python",
   "pygments_lexer": "ipython3",
   "version": "3.10.8"
  }
 },
 "nbformat": 4,
 "nbformat_minor": 5
}
