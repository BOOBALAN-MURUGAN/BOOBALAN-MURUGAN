{
 "cells": [
  {
   "cell_type": "markdown",
   "id": "8b0f21ce-b3ff-4c2c-b125-58fb38a57909",
   "metadata": {},
   "source": [
    "'''For Loop\n",
    "\n",
    "Assignment Questions'''"
   ]
  },
  {
   "cell_type": "markdown",
   "id": "a0f25612-0598-4c80-a703-d96770e26a15",
   "metadata": {},
   "source": [
    "Basic Level:"
   ]
  },
  {
   "cell_type": "markdown",
   "id": "fcfc7b1a-9e46-4630-b313-2b873c2f281a",
   "metadata": {},
   "source": [
    "1. Write a Python program to print the numbers from 1 to 10 using a `for` loop."
   ]
  },
  {
   "cell_type": "code",
   "execution_count": 6,
   "id": "56894d57-848c-461f-aaf4-1c4952bdb233",
   "metadata": {},
   "outputs": [
    {
     "name": "stdout",
     "output_type": "stream",
     "text": [
      "Number from 1 to 10 : [1, 2, 3, 4, 5, 6, 7, 8, 9, 10]\n"
     ]
    }
   ],
   "source": [
    "A = []\n",
    "for i in range(1,11):\n",
    "    A.append(i)\n",
    "print('Number from 1 to 10 :', A )"
   ]
  },
  {
   "cell_type": "markdown",
   "id": "551d1938-c7e7-4440-949d-fcbcbce880e9",
   "metadata": {},
   "source": [
    "2. Create a program that calculates the sum of all numbers in a list using a `for` loop."
   ]
  },
  {
   "cell_type": "code",
   "execution_count": 3,
   "id": "ec31fab8-69ab-4af0-994f-25e4b5d49022",
   "metadata": {},
   "outputs": [
    {
     "name": "stdout",
     "output_type": "stream",
     "text": [
      "Sum of all number : 55\n"
     ]
    }
   ],
   "source": [
    "A = 0\n",
    "for i in range(1,11):\n",
    "    A+=i\n",
    "print('Sum of all number :',A)"
   ]
  },
  {
   "cell_type": "markdown",
   "id": "38c822b3-e3e1-47bf-8483-12d0567d853d",
   "metadata": {},
   "source": [
    "3. Write a program to print the characters of a string in reverse order using a `for` loop."
   ]
  },
  {
   "cell_type": "code",
   "execution_count": 8,
   "id": "33cf1020-530b-4569-9c55-043fabca43b4",
   "metadata": {},
   "outputs": [
    {
     "name": "stdout",
     "output_type": "stream",
     "text": [
      "Reversed Char of String : ecneicS ataD\n"
     ]
    }
   ],
   "source": [
    "A = 'Data Science'\n",
    "B = ''\n",
    "\n",
    "for i in reversed(A):\n",
    "    B +=i\n",
    "print('Reversed Char of String :',B)    "
   ]
  },
  {
   "cell_type": "markdown",
   "id": "cced8bf2-1287-47e4-b8b6-5d453e3dc4a2",
   "metadata": {},
   "source": [
    "4. Develop a program that finds the factorial of a given number using a `for` loop."
   ]
  },
  {
   "cell_type": "code",
   "execution_count": 13,
   "id": "364ed203-5261-4072-8ab7-7801b0fbaf90",
   "metadata": {},
   "outputs": [
    {
     "name": "stdin",
     "output_type": "stream",
     "text": [
      "Enter a num here:  4\n"
     ]
    },
    {
     "name": "stdout",
     "output_type": "stream",
     "text": [
      "Factorial of 4 is : 24\n"
     ]
    }
   ],
   "source": [
    "A = int(input('Enter a num here: '))\n",
    "B = 1\n",
    "for i in range(1,A+1):\n",
    "    B *=i\n",
    "    \n",
    "print(f'Factorial of {A} is :', B)"
   ]
  },
  {
   "cell_type": "markdown",
   "id": "c42c2313-5021-495b-8ac0-5b3a30947205",
   "metadata": {},
   "source": [
    "5. Create a program to print the multiplication table of a given number using a `for` loop."
   ]
  },
  {
   "cell_type": "code",
   "execution_count": 20,
   "id": "50ff8066-f1db-4917-8767-ce15d02f9e2c",
   "metadata": {},
   "outputs": [
    {
     "name": "stdin",
     "output_type": "stream",
     "text": [
      "Enter a number:  5\n"
     ]
    },
    {
     "name": "stdout",
     "output_type": "stream",
     "text": [
      "5 x 1 = 5\n",
      "5 x 2 = 10\n",
      "5 x 3 = 15\n",
      "5 x 4 = 20\n",
      "5 x 5 = 25\n"
     ]
    }
   ],
   "source": [
    "A  = int(input(\"Enter a number: \"))\n",
    "for i in range(1, 5 + 1):\n",
    "    B = A * i\n",
    "    print(f\"{A} x {i} = {B}\")"
   ]
  },
  {
   "cell_type": "markdown",
   "id": "efd62fc1-eb0c-41fd-b2f8-a3622f428e80",
   "metadata": {},
   "source": [
    "6. Write a program that counts the number of even and odd numbers in a list using a `for` loop."
   ]
  },
  {
   "cell_type": "code",
   "execution_count": 22,
   "id": "31e6aab4-8377-4267-8dfa-52a82dc84a0a",
   "metadata": {},
   "outputs": [
    {
     "name": "stdout",
     "output_type": "stream",
     "text": [
      "Total even num in the list is 37 and Odd num is 38\n"
     ]
    }
   ],
   "source": [
    "A = 0\n",
    "B = 0\n",
    "C = list(range(1,75+1))\n",
    "\n",
    "for i in C:\n",
    "    if i%2 == 0:\n",
    "        A +=1\n",
    "    else:\n",
    "        B+=1\n",
    "print(f'Total even num in the list is {A} and Odd num is {B}')"
   ]
  },
  {
   "cell_type": "markdown",
   "id": "b5030fda-f652-4eb6-a743-73955f128c47",
   "metadata": {},
   "source": [
    "7. Develop a program that prints the squares of numbers from 1 to 5 using a `for` loop."
   ]
  },
  {
   "cell_type": "code",
   "execution_count": 32,
   "id": "60ace893-77bd-4c2c-9b37-aeba2631958e",
   "metadata": {},
   "outputs": [
    {
     "name": "stdout",
     "output_type": "stream",
     "text": [
      "Square number in the list is : [1, 4, 9, 16, 25]\n"
     ]
    }
   ],
   "source": [
    "C = []\n",
    "for i in range(1,5+1):\n",
    "    C.append(i*i)\n",
    "print('Square number in the list is :',C)"
   ]
  },
  {
   "cell_type": "markdown",
   "id": "7d7bd29a-ec7a-4372-b395-af67c31699b5",
   "metadata": {},
   "source": [
    "8. Create a program to find the length of a string without using the `len()` function."
   ]
  },
  {
   "cell_type": "code",
   "execution_count": 41,
   "id": "e451978a-1268-41ce-a599-877963c3acbb",
   "metadata": {},
   "outputs": [
    {
     "name": "stdout",
     "output_type": "stream",
     "text": [
      "Length of the string is  : 12\n"
     ]
    }
   ],
   "source": [
    "A = 'Data Science'\n",
    "B = 0\n",
    "for i in set(A):\n",
    "    B += A.count(i)\n",
    "print('Length of the string is  :',B)"
   ]
  },
  {
   "cell_type": "markdown",
   "id": "44b72707-dd0e-4558-ad25-0fe2389ee82a",
   "metadata": {},
   "source": [
    "9. Write a program that calculates the average of a list of numbers using a `for` loop."
   ]
  },
  {
   "cell_type": "code",
   "execution_count": 48,
   "id": "49595088-7052-4b9f-b0e6-8e5c50246e18",
   "metadata": {},
   "outputs": [
    {
     "name": "stdout",
     "output_type": "stream",
     "text": [
      "Average of the list is : 5.5\n"
     ]
    }
   ],
   "source": [
    "List = list(range(1,11))\n",
    "A = 0\n",
    "for i in List:\n",
    "    A += i/len(List)\n",
    "print('Average of the list is :' ,A)"
   ]
  },
  {
   "cell_type": "markdown",
   "id": "544b4963-5ea3-4888-880b-b0aa0325a2ba",
   "metadata": {},
   "source": [
    "10. Develop a program that prints the first `n` Fibonacci numbers using a `for` loop."
   ]
  },
  {
   "cell_type": "code",
   "execution_count": 63,
   "id": "92e2936f-de58-4a13-a488-41f81e47fe99",
   "metadata": {},
   "outputs": [
    {
     "name": "stdin",
     "output_type": "stream",
     "text": [
      "Enter the value 100\n"
     ]
    },
    {
     "name": "stdout",
     "output_type": "stream",
     "text": [
      "first 100 fibonacci number is :[0, 1, 1, 2, 3, 5, 8, 13, 21, 34, 55, 89]\n"
     ]
    }
   ],
   "source": [
    "A = int(input('Enter the value'))\n",
    "a = [0,1]\n",
    "for _ in range(A):\n",
    "    b = a[-1]+a[-2]\n",
    "    if b >= 100:\n",
    "        break\n",
    "    a.append(b)\n",
    "print(f'first {A} fibonacci number is :{a}')"
   ]
  },
  {
   "cell_type": "markdown",
   "id": "44b766bc-3d50-4f25-ad2c-ec7a999eff5d",
   "metadata": {},
   "source": [
    "#"
   ]
  },
  {
   "cell_type": "markdown",
   "id": "fdb69046-7ccf-4c54-8437-8b729f08d639",
   "metadata": {},
   "source": [
    "Intermediate Level:"
   ]
  },
  {
   "cell_type": "markdown",
   "id": "97413384-c19e-4538-8be5-4a231a68fb6e",
   "metadata": {},
   "source": [
    "11. Write a program to check if a given list contains any duplicates using a `for` loop."
   ]
  },
  {
   "cell_type": "code",
   "execution_count": 85,
   "id": "bdd9a265-6f5b-4e8d-92aa-c181971fc820",
   "metadata": {},
   "outputs": [
    {
     "name": "stdout",
     "output_type": "stream",
     "text": [
      "There is no Duplicate\n"
     ]
    }
   ],
   "source": [
    "A = [1,2,3,4,5,6,7,8]\n",
    "B = []\n",
    "C = False\n",
    "for i in A:\n",
    "    if i not in B:\n",
    "        B.append(i)\n",
    "    else :\n",
    "        print(f'Duplicate value {i} is found')\n",
    "        C = True\n",
    "if not C:\n",
    "    print('There is no Duplicate')"
   ]
  },
  {
   "cell_type": "markdown",
   "id": "0bf93569-7e4f-496c-8ff2-f0d68fd8ff8b",
   "metadata": {},
   "source": [
    "12. Create a program that prints the prime numbers in a given range using a `for` loop."
   ]
  },
  {
   "cell_type": "code",
   "execution_count": 129,
   "id": "20007ca2-37d5-487b-94e9-a64e882649b4",
   "metadata": {},
   "outputs": [
    {
     "name": "stdin",
     "output_type": "stream",
     "text": [
      "Enter the value  100\n"
     ]
    },
    {
     "name": "stdout",
     "output_type": "stream",
     "text": [
      "Prime number:  [2, 3, 5, 7, 11, 13, 17, 19, 23, 29, 31, 37, 41, 43, 47, 53, 59, 61, 67, 71, 73, 79, 83, 89, 97]\n"
     ]
    }
   ],
   "source": [
    "n = int(input('Enter the value '))\n",
    "A = []\n",
    "for i in range(2,n+1):\n",
    "    prime = True\n",
    "    for j in range(2,i):\n",
    "            if (i%j) == 0:\n",
    "                prime = False\n",
    "                break\n",
    "    if prime:\n",
    "        A.append(i)\n",
    "print('Prime number: ',A)"
   ]
  },
  {
   "cell_type": "markdown",
   "id": "df1bef4e-ac28-40f3-9932-aa1d85396c5f",
   "metadata": {},
   "source": [
    "13. Develop a program that counts the number of vowels in a string using a `for` loop."
   ]
  },
  {
   "cell_type": "code",
   "execution_count": 152,
   "id": "c27ed792-b7a2-41fa-a807-ba463d381402",
   "metadata": {},
   "outputs": [
    {
     "name": "stdout",
     "output_type": "stream",
     "text": [
      "Vowel Count for a: 2\n",
      "Vowel Count for i: 1\n",
      "Vowel Count for e: 2\n"
     ]
    }
   ],
   "source": [
    "A = 'Data Science'\n",
    "A = A.lower()\n",
    "vowel_count = {}\n",
    "\n",
    "for i in A:\n",
    "    if i in 'aeiou':\n",
    "        if i in vowel_count:\n",
    "            vowel_count[i] += 1\n",
    "        else:\n",
    "            vowel_count[i] = 1\n",
    "\n",
    "for vowel, count in vowel_count.items():\n",
    "    print(f'Vowel Count for {vowel}: {count}')"
   ]
  },
  {
   "cell_type": "markdown",
   "id": "40c91e0c-23f6-4812-a417-07196d15d98d",
   "metadata": {},
   "source": [
    "14. Write a program to find the maximum element in a 2D list using a nested `for` loop."
   ]
  },
  {
   "cell_type": "code",
   "execution_count": 6,
   "id": "1b67718b-8e48-4f4b-ac9e-c4fe0256995e",
   "metadata": {},
   "outputs": [
    {
     "name": "stdout",
     "output_type": "stream",
     "text": [
      "Maximun element in 2D list is : 15\n"
     ]
    }
   ],
   "source": [
    "A = [[1,2,3],[15,5,6],[7,11]]\n",
    "B = [C for i in A for C in i]\n",
    "D = max(B)\n",
    "print('Maximun element in 2D list is :',D)"
   ]
  },
  {
   "cell_type": "markdown",
   "id": "fc196daf-ae8e-481d-911b-ab94284b4afe",
   "metadata": {},
   "source": [
    "15. Create a program that removes all occurrences of a specific element from a list using a `for` loop."
   ]
  },
  {
   "cell_type": "code",
   "execution_count": 9,
   "id": "a472b12c-db80-41bd-a537-2c1187735749",
   "metadata": {},
   "outputs": [
    {
     "name": "stdout",
     "output_type": "stream",
     "text": [
      "Removed Occurrence:  [1, 2, 4, 5, 6, 6, 7, 1, 8, 6]\n"
     ]
    }
   ],
   "source": [
    "S = [1,2,3,3,4,5,6,6,7,1,8,6]\n",
    "Remove_Element = 3\n",
    "B = []\n",
    "for i in S:\n",
    "    if i != Remove_Element:\n",
    "        B.append(i)\n",
    "print('Removed Occurrence: ',B)"
   ]
  },
  {
   "cell_type": "markdown",
   "id": "6a2871ad-dd8e-487b-9603-c890aa11af62",
   "metadata": {},
   "source": [
    "16. Develop a program that generates a multiplication table for numbers from 1 to 5 using a nested `for` loop."
   ]
  },
  {
   "cell_type": "code",
   "execution_count": 7,
   "id": "9f9a4cc6-9813-48ff-88bf-31c6d6ac815a",
   "metadata": {},
   "outputs": [
    {
     "name": "stdout",
     "output_type": "stream",
     "text": [
      "Multiplcation table of 1 :\n",
      "1 x 1 = 1\n",
      "1 x 2 = 2\n",
      "1 x 3 = 3\n",
      "1 x 4 = 4\n",
      "1 x 5 = 5\n",
      "Multiplcation table of 2 :\n",
      "2 x 1 = 2\n",
      "2 x 2 = 4\n",
      "2 x 3 = 6\n",
      "2 x 4 = 8\n",
      "2 x 5 = 10\n",
      "Multiplcation table of 3 :\n",
      "3 x 1 = 3\n",
      "3 x 2 = 6\n",
      "3 x 3 = 9\n",
      "3 x 4 = 12\n",
      "3 x 5 = 15\n",
      "Multiplcation table of 4 :\n",
      "4 x 1 = 4\n",
      "4 x 2 = 8\n",
      "4 x 3 = 12\n",
      "4 x 4 = 16\n",
      "4 x 5 = 20\n",
      "Multiplcation table of 5 :\n",
      "5 x 1 = 5\n",
      "5 x 2 = 10\n",
      "5 x 3 = 15\n",
      "5 x 4 = 20\n",
      "5 x 5 = 25\n"
     ]
    }
   ],
   "source": [
    "C = list(range(1,6))\n",
    "B = list(range(1,6))\n",
    "\n",
    "for i in B:\n",
    "    print(f'Multiplcation table of {i} :')\n",
    "    for j in C:\n",
    "        A = i*j\n",
    "        print(f'{i} x {j} = {A}')  "
   ]
  },
  {
   "cell_type": "markdown",
   "id": "637b004b-6fde-4e4c-b0e5-44467432f1f2",
   "metadata": {},
   "source": [
    "17. Write a program that converts a list of Fahrenheit temperatures to Celsius using a `for` loop."
   ]
  },
  {
   "cell_type": "code",
   "execution_count": 12,
   "id": "3f8e1ac7-a066-4d20-bf86-f9498e41ca79",
   "metadata": {},
   "outputs": [
    {
     "name": "stdout",
     "output_type": "stream",
     "text": [
      "Fahrenheit to Celsius [{32: 0}, {36: 2}, {40: 4}, {55: 12}, {61: 16}, {72: 22}]\n"
     ]
    }
   ],
   "source": [
    "A = [32, 36, 40, 55, 61, 72]\n",
    "\n",
    "def F2C(A):\n",
    "    B = []\n",
    "    for i in A:\n",
    "        C = (i-32)*5/9\n",
    "        B.append({i:int(C)})\n",
    "    return B\n",
    "\n",
    "print('Fahrenheit to Celsius',F2C(A))"
   ]
  },
  {
   "cell_type": "markdown",
   "id": "472f6828-ed0d-4bab-922a-61c6f2d48a3f",
   "metadata": {},
   "source": [
    "18. Create a program to print the common elements from two lists using a `for` loop."
   ]
  },
  {
   "cell_type": "code",
   "execution_count": 13,
   "id": "8d457ed9-b5ec-403f-afe5-e6f501743dc2",
   "metadata": {},
   "outputs": [
    {
     "name": "stdout",
     "output_type": "stream",
     "text": [
      "Common Element [1, 6]\n"
     ]
    }
   ],
   "source": [
    "A = [1,2,3,4,5,6]\n",
    "B = [6,7,8,9,0,1]\n",
    "\n",
    "def com(a, b):\n",
    "    C =[]\n",
    "    for i in a:\n",
    "        if i in b:\n",
    "            C.append(i)\n",
    "    return C\n",
    "\n",
    "print('Common Element',com(A,B))"
   ]
  },
  {
   "cell_type": "markdown",
   "id": "bdbc544a-f02f-47f5-b084-1b593608d3ef",
   "metadata": {},
   "source": [
    "19. Develop a program that prints the pattern of right-angled triangles using a `for` loop. Use ‘*’ to draw the\n",
    "pattern"
   ]
  },
  {
   "cell_type": "code",
   "execution_count": 17,
   "id": "ba2d6dce-6c5e-49ac-820f-e2a4a444c791",
   "metadata": {},
   "outputs": [
    {
     "name": "stdin",
     "output_type": "stream",
     "text": [
      "Enter the patten *\n"
     ]
    },
    {
     "name": "stdout",
     "output_type": "stream",
     "text": [
      "*\n",
      "***\n",
      "*****\n",
      "*******\n",
      "*********\n",
      "***********\n",
      "*************\n",
      "***************\n",
      "*****************\n",
      "*******************\n"
     ]
    }
   ],
   "source": [
    "S = input('Enter the patten')\n",
    "\n",
    "def pat(S):\n",
    "    for i in range(1,21,2):\n",
    "        c = S*i\n",
    "        print(c)\n",
    "    return\n",
    "\n",
    "pat(S)"
   ]
  },
  {
   "cell_type": "markdown",
   "id": "62437e8f-94f7-4d6c-8942-fc58ef079d1a",
   "metadata": {},
   "source": [
    "20. Write a program to find the greatest common divisor (GCD) of two numbers using a `for` loop."
   ]
  },
  {
   "cell_type": "code",
   "execution_count": 33,
   "id": "57ccc3d3-5279-47e8-8b55-53d9ff1ed0b9",
   "metadata": {},
   "outputs": [
    {
     "name": "stdout",
     "output_type": "stream",
     "text": [
      "GCD of this 2 number is : 12\n"
     ]
    }
   ],
   "source": [
    "def GCD(a,b):\n",
    "    if a < b:\n",
    "        a, b = b, a    \n",
    "    for i in range(b,1,-1):\n",
    "        if a%i == 0 and b%i == 0:\n",
    "            return i\n",
    "\n",
    "print('GCD of this 2 number is :',GCD(36,60))"
   ]
  },
  {
   "cell_type": "markdown",
   "id": "33dfc6b3-c44b-4168-bccf-eabe939175ed",
   "metadata": {},
   "source": [
    "#"
   ]
  },
  {
   "cell_type": "markdown",
   "id": "b1235367-8fe3-41ef-ada6-14b695e2bb08",
   "metadata": {},
   "source": [
    "Advanced Level:"
   ]
  },
  {
   "cell_type": "markdown",
   "id": "3bbeb9cc-eff3-40eb-91ef-ff9ae00fc8db",
   "metadata": {},
   "source": [
    "21. Create a program that calculates the sum of the digits of numbers in a list using a list comprehension."
   ]
  },
  {
   "cell_type": "code",
   "execution_count": 56,
   "id": "a8790b0b-6ef9-46e0-b1d6-41d69feb6440",
   "metadata": {},
   "outputs": [
    {
     "name": "stdout",
     "output_type": "stream",
     "text": [
      "Number 232, sum of digits: 7\n",
      "Number 456, sum of digits: 15\n",
      "Number 2919, sum of digits: 21\n",
      "Number 1223, sum of digits: 8\n"
     ]
    }
   ],
   "source": [
    "A = [232, 456, 2919, 1223]\n",
    "\n",
    "def LC(a):\n",
    "    for i in a:\n",
    "        digit_sum = 0\n",
    "        for j in str(i):\n",
    "            digit_sum += int(j)\n",
    "        print(f'Number {i}, sum of digits: {digit_sum}')\n",
    "\n",
    "LC(A)"
   ]
  },
  {
   "cell_type": "markdown",
   "id": "dfba6dd6-08c1-4f07-a12d-4241913f6aef",
   "metadata": {},
   "source": [
    "22. Write a program to find the prime factors of a given number using a `for` loop and list comprehension."
   ]
  },
  {
   "cell_type": "code",
   "execution_count": 80,
   "id": "88531cbb-2e1e-4cbd-85ab-6b5850a79f09",
   "metadata": {},
   "outputs": [
    {
     "name": "stdout",
     "output_type": "stream",
     "text": [
      "[[2, 2, 2, 5], [3, 11], [2, 5], [2, 2, 3]]\n"
     ]
    }
   ],
   "source": [
    "B = [40,33,10,12]\n",
    "\n",
    "def PF(B):\n",
    "    d = 2\n",
    "    s= []\n",
    "    while d <=B:\n",
    "        if B%d ==0:\n",
    "            s.append(d)\n",
    "            B //= d\n",
    "        else:\n",
    "            d+=1\n",
    "    return s\n",
    "D = [PF(i) for i in B]\n",
    "print(D)"
   ]
  },
  {
   "cell_type": "markdown",
   "id": "a41f68a0-0c88-4a02-9db1-2258bc709251",
   "metadata": {},
   "source": [
    "23. Develop a program that extracts unique elements from a list and stores them in a new list using a list comprehension."
   ]
  },
  {
   "cell_type": "code",
   "execution_count": 81,
   "id": "5bb18a83-81de-4067-b620-de0b20f35d89",
   "metadata": {},
   "outputs": [
    {
     "name": "stdout",
     "output_type": "stream",
     "text": [
      "Unique Value:  [1, 2, 3, 4, 5, 6, 9]\n"
     ]
    }
   ],
   "source": [
    "def new(a):\n",
    "    b=[]\n",
    "    for i in a:\n",
    "        if i not in b:\n",
    "            b.append(i)\n",
    "    return b\n",
    "A = [1,2,3,4,4,5,5,6,1,2,9]\n",
    "print('Unique Value: ', new(A))"
   ]
  },
  {
   "cell_type": "markdown",
   "id": "6a5502db-ca32-458c-8945-578c98a3d7ff",
   "metadata": {},
   "source": [
    "24. Create a program that generates a list of all palindromic numbers up to a specified limit using a list comprehension."
   ]
  },
  {
   "cell_type": "code",
   "execution_count": 84,
   "id": "b059f530-d07b-4b09-99e6-f5795b8f18f4",
   "metadata": {},
   "outputs": [
    {
     "name": "stdout",
     "output_type": "stream",
     "text": [
      "Palindromic numbers [11, 121]\n"
     ]
    }
   ],
   "source": [
    "def pal(a):\n",
    "    c = []\n",
    "    for i in a:\n",
    "        if (str(i) == str(i)[::-1]):\n",
    "            c.append(i)\n",
    "    return c\n",
    "\n",
    "A = [23,11,121,145]\n",
    "\n",
    "print('Palindromic numbers',pal(A))"
   ]
  },
  {
   "cell_type": "markdown",
   "id": "dece7c30-4a0b-44d2-b900-f6b4362c8c00",
   "metadata": {},
   "source": [
    "25. Write a program to flatten a nested list using list comprehension."
   ]
  },
  {
   "cell_type": "code",
   "execution_count": 93,
   "id": "5cfe6711-a31a-4428-b03a-373e7f7a98ef",
   "metadata": {},
   "outputs": [
    {
     "data": {
      "text/plain": [
       "[1, 2, 3, 4, 5, 6, 7, 8, 9]"
      ]
     },
     "execution_count": 93,
     "metadata": {},
     "output_type": "execute_result"
    }
   ],
   "source": [
    "V = [1,2,[3,4],[5,6,7,[8,9]]]\n",
    "\n",
    "def nes(V):\n",
    "    S = []\n",
    "    for i in V:\n",
    "        if isinstance(i,list):\n",
    "            S.extend(nes(i))\n",
    "        else:\n",
    "            S.append(i)\n",
    "    return S\n",
    "nes(V)"
   ]
  },
  {
   "cell_type": "markdown",
   "id": "c00e9f2b-75e8-4687-8651-147f9a34cfee",
   "metadata": {},
   "source": [
    "26. Develop a program that computes the sum of even and odd numbers in a list separately using list comprehension."
   ]
  },
  {
   "cell_type": "code",
   "execution_count": 101,
   "id": "bed90deb-f187-4075-a632-789ccc6dedfd",
   "metadata": {},
   "outputs": [
    {
     "name": "stdout",
     "output_type": "stream",
     "text": [
      "Odd Number [5, 9, 11, 29, 55] sum is :109 and even_num [2, 4, 26, 40] sum is 72\n"
     ]
    }
   ],
   "source": [
    "def com(a):\n",
    "    even_num =[]\n",
    "    odd_num = []\n",
    "    for i in a:\n",
    "        if i in list(range(2,10000001,2)):\n",
    "            even_num.append(i)\n",
    "        else:\n",
    "            odd_num.append(i)\n",
    "    return print(f'Odd Number {odd_num} sum is :{sum(odd_num)} and even_num {even_num} sum is {sum(even_num)}')\n",
    "S = [2,5,4,9,11,26,29,40,55]\n",
    "com(S)"
   ]
  },
  {
   "cell_type": "markdown",
   "id": "9b2b521b-8eff-4d59-bd4b-c05f2d313b1b",
   "metadata": {},
   "source": [
    "27. Create a program that generates a list of squares of odd numbers between 1 and 10 using list comprehension."
   ]
  },
  {
   "cell_type": "code",
   "execution_count": 102,
   "id": "35fd6a08-026c-40de-ad71-ffd43f836bcf",
   "metadata": {},
   "outputs": [
    {
     "data": {
      "text/plain": [
       "[1, 2, 9, 4, 25, 6, 49, 8, 81, 10]"
      ]
     },
     "execution_count": 102,
     "metadata": {},
     "output_type": "execute_result"
    }
   ],
   "source": [
    "def sq(a):\n",
    "    num =[]\n",
    "    for i in a:\n",
    "        if i%2==0:\n",
    "            num.append(i)\n",
    "        else:\n",
    "            f = i*i\n",
    "            num.append(f)\n",
    "    return num\n",
    "\n",
    "A= [1,2,3,4,5,6,7,8,9,10]\n",
    "sq(A)"
   ]
  },
  {
   "cell_type": "markdown",
   "id": "4c9ddccc-9885-4f42-920c-8805fcb8b8f6",
   "metadata": {},
   "source": [
    "28. Write a program that combines two lists into a dictionary using list comprehension."
   ]
  },
  {
   "cell_type": "code",
   "execution_count": 120,
   "id": "83210f33-4cf0-4408-9423-b3ded73a135b",
   "metadata": {},
   "outputs": [
    {
     "data": {
      "text/plain": [
       "{1: 2, 3: 4, 5: 6, 7: 8, 9: 10}"
      ]
     },
     "execution_count": 120,
     "metadata": {},
     "output_type": "execute_result"
    }
   ],
   "source": [
    "A = list(range(1,11,2))\n",
    "B = list(range(2,11,2))\n",
    "\n",
    "def dic(a,b):\n",
    "    g = {a[i]:b[i] for i in range(len(a)) for i in range(len(b))}\n",
    "    return g\n",
    "dic(A,B) "
   ]
  },
  {
   "cell_type": "markdown",
   "id": "aab4ce08-9889-4874-937c-a15784f5ccb1",
   "metadata": {},
   "source": [
    "29. Develop a program that extracts the vowels from a string and stores them in a list using list comprehension."
   ]
  },
  {
   "cell_type": "code",
   "execution_count": 16,
   "id": "cf2edb65-4832-47c2-9a58-387f421381ea",
   "metadata": {},
   "outputs": [
    {
     "data": {
      "text/plain": [
       "['a', 'e', 'a', 'a', 'a', 'e']"
      ]
     },
     "execution_count": 16,
     "metadata": {},
     "output_type": "execute_result"
    }
   ],
   "source": [
    "S = ['Apple','Banana','Cherry']\n",
    "def VE(a):\n",
    "    s = []\n",
    "    C = 'aeiou'\n",
    "    for i in a:\n",
    "        for j in i.lower():\n",
    "            if j in C:\n",
    "                s.append(j)\n",
    "    return s\n",
    "VE(S)"
   ]
  },
  {
   "cell_type": "markdown",
   "id": "cbb7c888-3cd6-4eb4-86b5-cfb5681f3984",
   "metadata": {},
   "source": [
    "30. Create a program that removes all non-numeric characters from a list of strings using list comprehension."
   ]
  },
  {
   "cell_type": "code",
   "execution_count": 26,
   "id": "5b0e4b9f-280f-43f2-823b-afaa101b5cb0",
   "metadata": {},
   "outputs": [
    {
     "name": "stdout",
     "output_type": "stream",
     "text": [
      "['25', '1', '007']\n"
     ]
    }
   ],
   "source": [
    "A = ['25A', '1st','James007']\n",
    "s = [''.join(e for e in i if e.isdigit()) for i in A ]\n",
    "print(s)"
   ]
  },
  {
   "cell_type": "markdown",
   "id": "29a3a53d-21fb-4cfa-b7c8-29f703f57c7e",
   "metadata": {},
   "source": [
    "#"
   ]
  },
  {
   "cell_type": "markdown",
   "id": "03a86c50-d39b-49be-acb5-c7ea11fbb144",
   "metadata": {},
   "source": [
    "Challenge Level:"
   ]
  },
  {
   "cell_type": "markdown",
   "id": "3c229445-25bb-4644-b196-45898c029612",
   "metadata": {},
   "source": [
    "31. Write a program to generate a list of prime numbers using the Sieve of Eratosthenes algorithm and list\n",
    "comprehension."
   ]
  },
  {
   "cell_type": "code",
   "execution_count": 15,
   "id": "6957578d-a813-499a-ae63-c79c5f10f44c",
   "metadata": {},
   "outputs": [
    {
     "name": "stdout",
     "output_type": "stream",
     "text": [
      "[2, 3, 5, 7, 11, 13, 17, 19, 23, 29, 31, 37, 41, 43, 47, 53, 59, 61, 67, 71, 73, 79, 83, 89, 97]\n"
     ]
    }
   ],
   "source": [
    "def SE(c):\n",
    "    s = [True]*(c+1)\n",
    "    s[0]=s[1]=False\n",
    "    for i in range(2,(int(c**0.5)+1)):\n",
    "            if s[i]:\n",
    "                for d in range(i*i,c+1,i):\n",
    "                    s[d]=False\n",
    "    prime = [l for l in range(2,c+1) if s[l]]\n",
    "    return prime\n",
    "\n",
    "A = SE(100)     \n",
    "print(A)"
   ]
  },
  {
   "cell_type": "markdown",
   "id": "19dad32c-eb98-4484-8127-6e3277d2502e",
   "metadata": {},
   "source": [
    "32. Create a program that generates a list of all Pythagorean triplets up to a specified limit using list\n",
    "comprehension."
   ]
  },
  {
   "cell_type": "code",
   "execution_count": 20,
   "id": "14be9d88-a151-489f-b519-2797a50aff6d",
   "metadata": {},
   "outputs": [
    {
     "data": {
      "text/plain": [
       "[(3, 4, 5), (5, 12, 13), (6, 8, 10), (8, 15, 17), (9, 12, 15), (12, 16, 20)]"
      ]
     },
     "execution_count": 20,
     "metadata": {},
     "output_type": "execute_result"
    }
   ],
   "source": [
    "A = 20\n",
    "\n",
    "def PT(a):\n",
    "    c=[]\n",
    "    for j in range(1,a+1):\n",
    "        for k in range(j,a+1):\n",
    "            for l in range(k,a+1):\n",
    "                if j**2+k**2 ==l**2:\n",
    "                    c.append((j,k,l))\n",
    "    return c\n",
    "PT(A)"
   ]
  },
  {
   "cell_type": "markdown",
   "id": "e927cfd0-9871-447d-b6e0-ee7e25a35518",
   "metadata": {},
   "source": [
    "33. Develop a program that generates a list of all possible combinations of two lists using list comprehension."
   ]
  },
  {
   "cell_type": "code",
   "execution_count": 31,
   "id": "95ef4661-4f6e-458d-8969-9cab69aa5ae7",
   "metadata": {},
   "outputs": [
    {
     "name": "stdout",
     "output_type": "stream",
     "text": [
      "[(1, 'a'), (1, 'b'), (1, 'c'), (2, 'a'), (2, 'b'), (2, 'c'), (3, 'a'), (3, 'b'), (3, 'c')]\n"
     ]
    }
   ],
   "source": [
    "def com(a,b):\n",
    "    c = []\n",
    "    for i in a:\n",
    "        for j in b:\n",
    "            if (i,j) not in c:\n",
    "                c.append((i,j))\n",
    "    return c\n",
    "A = [1,2,3]\n",
    "B = ['a','b','c']\n",
    "S= com(A,B)\n",
    "print(S)"
   ]
  },
  {
   "cell_type": "markdown",
   "id": "c75767e7-41ff-4de5-a422-e25d3e9d30d7",
   "metadata": {},
   "source": [
    "34. Write a program that calculates the mean, median, and mode of a list of numbers using list comprehension."
   ]
  },
  {
   "cell_type": "code",
   "execution_count": 33,
   "id": "d7028c4b-6dd8-49a4-9396-95fa855a24ac",
   "metadata": {},
   "outputs": [
    {
     "data": {
      "text/plain": [
       "([8.294117647058824], [8], [7, 8])"
      ]
     },
     "execution_count": 33,
     "metadata": {},
     "output_type": "execute_result"
    }
   ],
   "source": [
    "A = [1,2,3,4,5,6,7,7,8,8,9,11,12,13,14,15,16]\n",
    "\n",
    "def cal(a):\n",
    "    a.sort()\n",
    "    B = len(a)\n",
    "    mean = [sum(a)/B]\n",
    "    median = [(A[B//2-1]+A[B//2])/2  if B%2 ==0 else A[B//2]]\n",
    "    G = {i:a.count(i) for i in set(a)}\n",
    "    T = max(G.values())\n",
    "    mode = [o for o, p in G.items() if p==T]\n",
    "    return mean, median, mode\n",
    "cal(A)"
   ]
  },
  {
   "cell_type": "markdown",
   "id": "4a773799-1853-4e45-8266-0de542bb5e9f",
   "metadata": {},
   "source": [
    "35. Create a program that generates Pascal's triangle up to a specified number of rows using list comprehension."
   ]
  },
  {
   "cell_type": "code",
   "execution_count": 66,
   "id": "df960bec-5890-46f0-a532-c53bf734d30e",
   "metadata": {},
   "outputs": [
    {
     "name": "stdin",
     "output_type": "stream",
     "text": [
      "Enter the number of rows for Pascal's triangle:  6\n"
     ]
    },
    {
     "name": "stdout",
     "output_type": "stream",
     "text": [
      "        1         \n",
      "       1 1        \n",
      "      1 2 1       \n",
      "     1 3 3 1      \n",
      "    1 4 6 4 1     \n",
      "  1 5 10 10 5 1   \n"
     ]
    }
   ],
   "source": [
    "def pascals_triangle(num_rows):\n",
    "    triangle = [[1]]\n",
    "    for _ in range(1, num_rows):\n",
    "        prev_row = triangle[-1]\n",
    "        new_row = [1] + [prev_row[i] + prev_row[i + 1] for i in range(len(prev_row) - 1)] + [1]\n",
    "        triangle.append(new_row)\n",
    "    return triangle\n",
    "\n",
    "def print_pascals_triangle(triangle):\n",
    "    for row in triangle:\n",
    "        print(' '.join(map(str, row)).center(len(triangle[-1]*3)))\n",
    "\n",
    "num_rows = int(input(\"Enter the number of rows for Pascal's triangle: \"))\n",
    "\n",
    "pascals_triangle = pascals_triangle(num_rows)\n",
    "print_pascals_triangle(pascals_triangle)"
   ]
  },
  {
   "cell_type": "markdown",
   "id": "4e6cc34a-b953-4f6b-8ac9-079ce790fb97",
   "metadata": {},
   "source": [
    "36. Develop a program that calculates the sum of the digits of a factorial of numbers from 1 to 5 using list\n",
    "comprehension."
   ]
  },
  {
   "cell_type": "code",
   "execution_count": 73,
   "id": "1019b414-4d81-447d-a1f4-5562929d92e6",
   "metadata": {},
   "outputs": [
    {
     "data": {
      "text/plain": [
       "[1, 2, 6, 24, 120]"
      ]
     },
     "execution_count": 73,
     "metadata": {},
     "output_type": "execute_result"
    }
   ],
   "source": [
    "def fac(s):\n",
    "    a = []\n",
    "    d = 1\n",
    "    for i in range(1,s+1):\n",
    "        d *= i\n",
    "        a.append(d)\n",
    "    return a\n",
    "fac(5)"
   ]
  },
  {
   "cell_type": "markdown",
   "id": "03818621-7302-461b-8683-b20d0f272a6b",
   "metadata": {},
   "source": [
    "37. Write a program that finds the longest word in a sentence using list comprehension."
   ]
  },
  {
   "cell_type": "code",
   "execution_count": 86,
   "id": "4bd1b94e-3746-445a-b4cf-f9b47c628058",
   "metadata": {},
   "outputs": [
    {
     "data": {
      "text/plain": [
       "['Banana']"
      ]
     },
     "execution_count": 86,
     "metadata": {},
     "output_type": "execute_result"
    }
   ],
   "source": [
    "A = \"Apple Banana Grape gova\"\n",
    "\n",
    "def long(a):\n",
    "    A = a.split()\n",
    "    S = [max(A, key = lambda x: len(x))]\n",
    "    return S\n",
    "\n",
    "long(A)"
   ]
  },
  {
   "cell_type": "markdown",
   "id": "717661af-0734-4186-8f36-8a9a884c129c",
   "metadata": {},
   "source": [
    "38. Create a program that filters a list of strings to include only those with more than three vowels using list\n",
    "comprehension."
   ]
  },
  {
   "cell_type": "code",
   "execution_count": 93,
   "id": "8a9e21c2-123e-45c4-bd82-7a539927aba7",
   "metadata": {},
   "outputs": [
    {
     "name": "stdout",
     "output_type": "stream",
     "text": [
      "['Programming']\n"
     ]
    }
   ],
   "source": [
    "def count_vowels(string):\n",
    "    vowels = \"AEIOUaeiou\"\n",
    "    return sum(1 for char in string if char in vowels)\n",
    "\n",
    "S = [\"Hello\", \"Python\", \"Programming\", \"I\", \"like\", \"apples\"]\n",
    "\n",
    "filt = [s for s in S if count_vowels(s) >= 3]\n",
    "\n",
    "print(filt)"
   ]
  },
  {
   "cell_type": "markdown",
   "id": "17b900b1-49dc-4094-b3c4-e5bb68fee581",
   "metadata": {},
   "source": [
    "39. Develop a program that calculates the sum of the digits of numbers from 1 to 1000 using list comprehension."
   ]
  },
  {
   "cell_type": "code",
   "execution_count": 109,
   "id": "d47cf319-ae70-40d2-a6ba-a13d3441884f",
   "metadata": {},
   "outputs": [
    {
     "name": "stdout",
     "output_type": "stream",
     "text": [
      "Sum of digits from 1 to 1000: 13501\n"
     ]
    }
   ],
   "source": [
    "def sum_of_digits(number):\n",
    "    return sum(int(digit) for digit in str(number))\n",
    "\n",
    "sums = [sum_of_digits(number) for number in range(1, 1001)]\n",
    "\n",
    "total_sum = sum(sums)\n",
    "\n",
    "print(f\"Sum of digits from 1 to 1000: {total_sum}\")\n"
   ]
  },
  {
   "cell_type": "markdown",
   "id": "039ad0b3-a75e-47ec-833e-785b27124160",
   "metadata": {},
   "source": [
    "40. Write a program that generates a list of prime palindromic numbers using list comprehension."
   ]
  },
  {
   "cell_type": "code",
   "execution_count": 110,
   "id": "a0680566-9018-4e7c-8b0e-1ccf43b0ac1c",
   "metadata": {},
   "outputs": [
    {
     "name": "stdout",
     "output_type": "stream",
     "text": [
      "[2, 3, 5, 7, 11, 101, 131, 151, 181, 191, 313, 353, 373, 383, 727, 757, 787, 797, 919, 929]\n"
     ]
    }
   ],
   "source": [
    "def is_prime(number):\n",
    "    if number < 2:\n",
    "        return False\n",
    "    if number == 2:\n",
    "        return True\n",
    "    if number % 2 == 0:\n",
    "        return False\n",
    "    for i in range(3, int(number**0.5) + 1, 2):\n",
    "        if number % i == 0:\n",
    "            return False\n",
    "    return True\n",
    "\n",
    "limit = 1000\n",
    "prime_palindromic_numbers = [num for num in range(2, limit) if is_prime(num) and str(num) == str(num)[::-1]]\n",
    "\n",
    "print(prime_palindromic_numbers)\n"
   ]
  },
  {
   "cell_type": "code",
   "execution_count": null,
   "id": "246a10ff-b09f-4bd3-93c1-441ca93129f5",
   "metadata": {},
   "outputs": [],
   "source": []
  }
 ],
 "metadata": {
  "kernelspec": {
   "display_name": "Python 3 (ipykernel)",
   "language": "python",
   "name": "python3"
  },
  "language_info": {
   "codemirror_mode": {
    "name": "ipython",
    "version": 3
   },
   "file_extension": ".py",
   "mimetype": "text/x-python",
   "name": "python",
   "nbconvert_exporter": "python",
   "pygments_lexer": "ipython3",
   "version": "3.10.8"
  }
 },
 "nbformat": 4,
 "nbformat_minor": 5
}
