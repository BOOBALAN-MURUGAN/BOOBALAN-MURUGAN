{
 "cells": [
  {
   "cell_type": "markdown",
   "id": "28ca0428-828d-4239-b08b-bc000b772f22",
   "metadata": {},
   "source": [
    "#String Based Assignment Problem"
   ]
  },
  {
   "cell_type": "markdown",
   "id": "4957dc3f-f47d-4a95-b1ed-dcb960d5aa69",
   "metadata": {},
   "source": [
    "1. Write a program to reverse a string."
   ]
  },
  {
   "cell_type": "code",
   "execution_count": 3,
   "id": "f201c411-ca69-4f3b-9f45-9bbe2c3cb1e9",
   "metadata": {},
   "outputs": [
    {
     "name": "stdin",
     "output_type": "stream",
     "text": [
      "Enter a text here:   Hello\n"
     ]
    },
    {
     "name": "stdout",
     "output_type": "stream",
     "text": [
      "olleH\n"
     ]
    }
   ],
   "source": [
    "#creating the input method to take the text and apply reverse function\n",
    "A = str(input(\"Enter a text here:  \"))[::-1]\n",
    "print(A)"
   ]
  },
  {
   "cell_type": "markdown",
   "id": "3a5d1123-82b7-4d97-9fa4-1b29df4c9c44",
   "metadata": {},
   "source": [
    "2. Check if a string is a palindrome."
   ]
  },
  {
   "cell_type": "code",
   "execution_count": 4,
   "id": "e80292c8-2758-4f15-819a-174dfdd4622a",
   "metadata": {},
   "outputs": [
    {
     "name": "stdin",
     "output_type": "stream",
     "text": [
      "Enter here:   level\n"
     ]
    },
    {
     "name": "stdout",
     "output_type": "stream",
     "text": [
      "palindrome result is:  True\n"
     ]
    }
   ],
   "source": [
    "#Creating a string to check whether it is palindrome or not\n",
    "A = str(input(\"Enter here:  \"))\n",
    "B = A[::-1]\n",
    "print(\"palindrome result is: \",A==B)"
   ]
  },
  {
   "cell_type": "markdown",
   "id": "9e4d1fc2-390f-4995-a1af-418b9fd11864",
   "metadata": {},
   "source": [
    "3. Convert a string to uppercase.\n",
    "4. Convert a string to lowercase."
   ]
  },
  {
   "cell_type": "code",
   "execution_count": 8,
   "id": "b853dc68-71a2-4712-aa90-867c1decd5c1",
   "metadata": {},
   "outputs": [
    {
     "name": "stdin",
     "output_type": "stream",
     "text": [
      "Enter a text here:  Data Science\n",
      "Enter a text here:  Data Science\n"
     ]
    },
    {
     "name": "stdout",
     "output_type": "stream",
     "text": [
      "Uppercase result:  DATA SCIENCE    Lowercase result data science "
     ]
    }
   ],
   "source": [
    "A = str(input(\"Enter a text here: \")).upper()\n",
    "B = str(input(\"Enter a text here: \")).lower()\n",
    "print('Uppercase result: ',A,'  ','Lowercase result: ', B, end=\" \")"
   ]
  },
  {
   "cell_type": "markdown",
   "id": "ca71959f-fb64-4ebd-a263-3084234c63e6",
   "metadata": {},
   "source": [
    "5. Count the number of vowels in a string.\n",
    "6. Count the number of consonants in a string."
   ]
  },
  {
   "cell_type": "code",
   "execution_count": 30,
   "id": "9895decd-95f1-456b-a395-264857cbb6f7",
   "metadata": {},
   "outputs": [
    {
     "name": "stdin",
     "output_type": "stream",
     "text": [
      "Enter a text here:  Data science is my course\n"
     ]
    },
    {
     "name": "stdout",
     "output_type": "stream",
     "text": [
      "List of vowels:  {'a': 2, 'e': 3, 'i': 2, 'o': 1, 'u': 1}\n",
      "         \n",
      "List of consonant:  {'b': 0, 'c': 3, 'd': 1, 'f': 0, 'g': 0, 'h': 0, 'j': 0, 'k': 0, 'l': 0, 'm': 1, 'n': 1, 'p': 0, 'q': 0, 'r': 1, 's': 3, 't': 1, 'v': 0, 'w': 0, 'x': 0, 'y': 1, 'z': 0}\n"
     ]
    }
   ],
   "source": [
    "#Creating a function to count the vowels and consonant in the string\n",
    "S = str(input('Enter a text here: ')).lower()\n",
    "\n",
    "#Creating vowels and consonant list\n",
    "A = ['a','e','i','o','u']\n",
    "B = ['b','c','d','f','g','h','j','k','l','m','n','p','q','r','s','t','v','w','x','y','z']\n",
    "\n",
    "A1 = {r:S.count(r) for r in A}\n",
    "print('List of vowels: ',A1)\n",
    "\n",
    "print('         ')\n",
    "\n",
    "B1 = {r:S.count(r) for r in B}\n",
    "print('List of consonant: ',B1)"
   ]
  },
  {
   "cell_type": "markdown",
   "id": "43b0c6e3-60b6-4833-b5dc-85a1b273270e",
   "metadata": {},
   "source": [
    "7. Remove all whitespaces from a string."
   ]
  },
  {
   "cell_type": "code",
   "execution_count": 31,
   "id": "cadecd0a-1dba-40f2-8a9d-534911eaab91",
   "metadata": {},
   "outputs": [
    {
     "name": "stdout",
     "output_type": "stream",
     "text": [
      "Hello\n"
     ]
    }
   ],
   "source": [
    "A = \"   Hello   \"\n",
    "print(A.strip())"
   ]
  },
  {
   "cell_type": "markdown",
   "id": "ee623061-8455-4ee2-be72-fdaf0aa5a7d2",
   "metadata": {},
   "source": [
    "8. Find the length of a string without using the `len()` function."
   ]
  },
  {
   "cell_type": "code",
   "execution_count": 47,
   "id": "14bde048-7471-4322-ac29-f87e7cbfe647",
   "metadata": {},
   "outputs": [
    {
     "name": "stdout",
     "output_type": "stream",
     "text": [
      "12\n",
      "12\n"
     ]
    }
   ],
   "source": [
    "#Declare my string\n",
    "A  = 'data science'\n",
    "\n",
    "#Checking my len in the string\n",
    "print(len(A))\n",
    "\n",
    "#function without using len to find the len of string\n",
    "print(sum(1 for c in A))"
   ]
  },
  {
   "cell_type": "markdown",
   "id": "93ed33c0-bb5d-4d7a-a3d7-e8341275dad8",
   "metadata": {},
   "source": [
    "9. Check if a string contains a specific word."
   ]
  },
  {
   "cell_type": "code",
   "execution_count": 60,
   "id": "132e643a-d7e8-4eb9-b327-6e4d1f884ee8",
   "metadata": {},
   "outputs": [
    {
     "name": "stdin",
     "output_type": "stream",
     "text": [
      "enter a text here:   Data Science is the future\n",
      "which word need to find:  Science\n"
     ]
    },
    {
     "name": "stdout",
     "output_type": "stream",
     "text": [
      "String contain the word of:  Science\n"
     ]
    }
   ],
   "source": [
    "#Creating input feature for sentence and word check\n",
    "A = str(input(\"enter a text here:  \"))\n",
    "B = str(input(\"which word need to find: \"))\n",
    "\n",
    "if A.find(B) != -1:\n",
    "    print (\"String contain the word of: \", B)\n",
    "else:\n",
    "    print (\"String not contain the word of: \", B)"
   ]
  },
  {
   "cell_type": "markdown",
   "id": "d2d9518c-eb66-499a-9253-d13eb5f1d101",
   "metadata": {},
   "source": [
    "10. Replace a word in a string with another word."
   ]
  },
  {
   "cell_type": "code",
   "execution_count": 62,
   "id": "68fe47f5-cc96-422c-9660-80f122379d1f",
   "metadata": {},
   "outputs": [
    {
     "data": {
      "text/plain": [
       "'I like Data Science'"
      ]
     },
     "execution_count": 62,
     "metadata": {},
     "output_type": "execute_result"
    }
   ],
   "source": [
    "#Declare the string\n",
    "A = \"I Love Data Science\"\n",
    "A.replace('Love','like')"
   ]
  },
  {
   "cell_type": "markdown",
   "id": "305ae324-11a8-473d-b5dd-8780b16cbe03",
   "metadata": {},
   "source": [
    "11. Count the occurrences of a word in a string."
   ]
  },
  {
   "cell_type": "code",
   "execution_count": 33,
   "id": "9521f6ed-76b3-4ed2-8094-a56a55e4f87f",
   "metadata": {},
   "outputs": [
    {
     "name": "stdin",
     "output_type": "stream",
     "text": [
      "Enter a sentence here:  I would like to thank my mentor for teaching data science course and make me a expert in data science\n"
     ]
    },
    {
     "name": "stdout",
     "output_type": "stream",
     "text": [
      "[('thank', 1), ('for', 1), ('a', 9), ('me', 2), ('science', 2), ('like', 1), ('my', 1), ('teaching', 1), ('would', 1), ('i', 6), ('course', 1), ('make', 1), ('mentor', 1), ('in', 2), ('to', 2), ('data', 2), ('and', 1), ('expert', 1)]\n"
     ]
    }
   ],
   "source": [
    "#Creating a input for sentence \n",
    "A = str(input(\"Enter a sentence here: \")).lower()\n",
    "\n",
    "B = [(c,A.count(c)) for c in set(A.split())]\n",
    "\n",
    "print(B)"
   ]
  },
  {
   "cell_type": "markdown",
   "id": "7913fc2d-3ffb-44bd-9c65-460f530d5309",
   "metadata": {},
   "source": [
    "12. Find the first occurrence of a word in a string.\n",
    "13. Find the last occurrence of a word in a string."
   ]
  },
  {
   "cell_type": "code",
   "execution_count": 42,
   "id": "a0f0e311-9b6f-476a-ac9a-de4804bb2038",
   "metadata": {},
   "outputs": [
    {
     "name": "stdout",
     "output_type": "stream",
     "text": [
      "first occurance in the string:  16\n",
      "Last occurance in the string:  41\n"
     ]
    }
   ],
   "source": [
    "#Declare the string\n",
    "A = \"I am working on data science project and data analysis\"\n",
    "\n",
    "#printing the first and last occurance of the index in string \n",
    "print(\"first occurance in the string: \", A.find('data'))\n",
    "print(\"Last occurance in the string: \", A.rfind('data'))"
   ]
  },
  {
   "cell_type": "markdown",
   "id": "1764f963-5055-48af-901a-f4970968bffd",
   "metadata": {},
   "source": [
    "14. Split a string into a list of words.\n",
    "15. Join a list of words into a string."
   ]
  },
  {
   "cell_type": "code",
   "execution_count": 67,
   "id": "bf42568a-9d69-48d3-a710-e5be908686db",
   "metadata": {},
   "outputs": [
    {
     "name": "stdout",
     "output_type": "stream",
     "text": [
      "['I', 'am', 'very', 'much', 'eager', 'to', 'learn', 'the', 'data', 'science']\n",
      "I am very much eager to learn the data science\n"
     ]
    }
   ],
   "source": [
    "#Declare the string for split and join\n",
    "I = \"I am very much eager to learn the data science\"\n",
    "\n",
    "#Creating a string to list\n",
    "J =I.split()\n",
    "print(J)\n",
    "\n",
    "#convert list to join\n",
    "S = \" \".join(J)\n",
    "print(S)"
   ]
  },
  {
   "cell_type": "markdown",
   "id": "62ee4120-19f3-4904-b96d-9748ab2b7926",
   "metadata": {},
   "source": [
    "16. Convert a string where words are separated by spaces to one where words\n",
    "are separated by underscores."
   ]
  },
  {
   "cell_type": "code",
   "execution_count": 1,
   "id": "fd2282a7-42cf-4325-80e6-38c15844126f",
   "metadata": {},
   "outputs": [
    {
     "data": {
      "text/plain": [
       "'I_love_data_science'"
      ]
     },
     "execution_count": 1,
     "metadata": {},
     "output_type": "execute_result"
    }
   ],
   "source": [
    "S = \"I love data science\"\n",
    "S.replace(' ','_')"
   ]
  },
  {
   "cell_type": "markdown",
   "id": "7003964c-2874-45e0-842b-47437dee71d8",
   "metadata": {},
   "source": [
    "17. Check if a string starts with a specific word or phrase.\n",
    "18. Check if a string ends with a specific word or phrase."
   ]
  },
  {
   "cell_type": "code",
   "execution_count": 8,
   "id": "cc126e11-fad8-4a67-be71-6482638b085c",
   "metadata": {},
   "outputs": [
    {
     "name": "stdout",
     "output_type": "stream",
     "text": [
      "True\n",
      "True\n"
     ]
    }
   ],
   "source": [
    "S = 'I want to be an expert in the data science field'\n",
    "print(S.startswith('I'))\n",
    "print(S.endswith('field'))"
   ]
  },
  {
   "cell_type": "markdown",
   "id": "86cba81d-1f4e-4051-9ef2-0bd0d5c2e418",
   "metadata": {},
   "source": [
    "19. Convert a string to title case (e.g., \"hello world\" to \"Hello World\")."
   ]
  },
  {
   "cell_type": "code",
   "execution_count": 9,
   "id": "795c4763-b91d-44a9-aacb-019b3bc48332",
   "metadata": {},
   "outputs": [
    {
     "data": {
      "text/plain": [
       "'Data Science'"
      ]
     },
     "execution_count": 9,
     "metadata": {},
     "output_type": "execute_result"
    }
   ],
   "source": [
    "S = 'DATA SCIENCE'\n",
    "S.title()"
   ]
  },
  {
   "cell_type": "markdown",
   "id": "dbe29cd1-69c1-48e4-a973-0aa3d1cfae4b",
   "metadata": {},
   "source": [
    "20. Find the longest word in a string.\n",
    "21. Find the shortest word in a string.\n",
    "22. Reverse the order of words in a string."
   ]
  },
  {
   "cell_type": "code",
   "execution_count": 44,
   "id": "2c85b8bc-1131-4acd-8c53-9b5bca8eef02",
   "metadata": {},
   "outputs": [
    {
     "name": "stdout",
     "output_type": "stream",
     "text": [
      "Longest word is :  Leraning\n",
      "shortest word is :  a\n",
      "Reverse order of word :  company the in role major a palying Leraning Machine\n"
     ]
    }
   ],
   "source": [
    "S = \"Machine Leraning palying a major role in the company\"\n",
    "\n",
    "print('Longest word is : ', max(S.split(), key = len))\n",
    "print('shortest word is : ', min(S.split(), key = len))\n",
    "print('Reverse order of word : ', ' '.join(S.split()[::-1]))"
   ]
  },
  {
   "cell_type": "markdown",
   "id": "e3176d85-5ca4-4c5d-9e14-d17c2e6a92cd",
   "metadata": {},
   "source": [
    "23. Check if a string is alphanumeric.\n",
    "24. Extract all digits from a string.\n",
    "25. Extract all alphabets from a string."
   ]
  },
  {
   "cell_type": "code",
   "execution_count": 111,
   "id": "d7918dee-a276-4278-ab2c-a70a34cf95d9",
   "metadata": {},
   "outputs": [
    {
     "name": "stdout",
     "output_type": "stream",
     "text": [
      "Isalphanum in the string :  True\n",
      "Digit in the string :  ['1', '2']\n",
      "Alphabets in the string :  Ravi is class in the subject\n"
     ]
    }
   ],
   "source": [
    "S = \"Ravi is class 1st & 2nd in the subject\"\n",
    "print('Isalphanum in the string : ', (''.join(e for e in S if e.isalnum())).isalnum())\n",
    "print('Digit in the string : ', [s for s in S if s.isdigit()])\n",
    "D = S.split()\n",
    "print('Alphabets in the string : ',' '.join(s for s in D if s.isalpha()))"
   ]
  },
  {
   "cell_type": "markdown",
   "id": "5990ddfb-3e97-4654-8c54-88525d723cca",
   "metadata": {},
   "source": [
    "26. Count the number of uppercase letters in a string.\n",
    "27. Count the number of lowercase letters in a string."
   ]
  },
  {
   "cell_type": "code",
   "execution_count": 39,
   "id": "eb543f0b-29bb-41aa-b40c-1ce719b99369",
   "metadata": {},
   "outputs": [
    {
     "name": "stdout",
     "output_type": "stream",
     "text": [
      "Uppercase count in String:  11\n",
      "Lowercase count in String:  5\n"
     ]
    }
   ],
   "source": [
    "A = 'DATA SCIENCE is the FUTURE'\n",
    "\n",
    "print(\"Uppercase count in String: \",len(\"\".join(C for C in set(A) if C.isupper())))\n",
    "print(\"Lowercase count in String: \",len(\"\".join(C for C in set(A) if C.islower())))"
   ]
  },
  {
   "cell_type": "markdown",
   "id": "7997daeb-2b88-4754-b1d7-1b379d38ac3b",
   "metadata": {},
   "source": [
    "28. Swap the case of each character in a string.\n",
    "29. Remove a specific word from a string."
   ]
  },
  {
   "cell_type": "code",
   "execution_count": 42,
   "id": "a9d5a1c5-b6c9-4aca-8487-44578c2533b1",
   "metadata": {},
   "outputs": [
    {
     "name": "stdout",
     "output_type": "stream",
     "text": [
      "swapcase :  dATA sCIENCE\n",
      "Removed word:   Science\n"
     ]
    }
   ],
   "source": [
    "A = 'Data Science'\n",
    "\n",
    "print(\"swapcase : \",A.swapcase())\n",
    "print(\"Removed word: \",A.removeprefix('Data'))"
   ]
  },
  {
   "cell_type": "markdown",
   "id": "32b9848b-a309-443f-9639-2d7ad42a035d",
   "metadata": {},
   "source": [
    "30. Check if a string is a valid email address."
   ]
  },
  {
   "cell_type": "code",
   "execution_count": 48,
   "id": "7c63da98-608f-42f8-b9ac-ba8bf19e3734",
   "metadata": {},
   "outputs": [
    {
     "name": "stdout",
     "output_type": "stream",
     "text": [
      "boobalan.m001@gmail.com is a simple valid email address.\n"
     ]
    }
   ],
   "source": [
    "A = 'boobalan.m001@gmail.com'\n",
    "B = ['@outlook.com', '@gmail.com', '@yahoo.com']\n",
    "\n",
    "domain = A.split('@')[-1]\n",
    "\n",
    "if any(domain in email for email in B):\n",
    "    print(f\"{A} is a simple valid email address.\")\n",
    "else:\n",
    "    print(f\"{A} is not a valid email address.\")"
   ]
  },
  {
   "cell_type": "markdown",
   "id": "f0d385c3-564b-49ff-b64b-7776bb3b7f42",
   "metadata": {},
   "source": [
    "31. Extract the username from an email address string.\n",
    "32. Extract the domain name from an email address string.\n",
    "33. Replace multiple spaces in a string with a single space.\n",
    "34. Check if a string is a valid URL."
   ]
  },
  {
   "cell_type": "code",
   "execution_count": 8,
   "id": "a63942ea-5770-41b6-b940-74d949cb45d6",
   "metadata": {},
   "outputs": [
    {
     "name": "stdout",
     "output_type": "stream",
     "text": [
      "Username in string:  boobalan.m001\n",
      "domain in string:  gmail.com\n",
      "With single space :  This is the string with multiple space\n",
      "This URL is :  valid URL\n"
     ]
    }
   ],
   "source": [
    "A = 'boobalan.m001@gmail.com'\n",
    "\n",
    "print('Username in string: ',A.split('@')[0])\n",
    "print('domain in string: ',A.split('@')[-1])\n",
    "\n",
    "B = 'This   is the    string   with  multiple space'\n",
    "print('With single space : ',' '.join(B.split()))\n",
    "\n",
    "D = 'www.google.com'\n",
    "if 'www' in D:\n",
    "    print ('This URL is : ',\"valid URL\")\n",
    "else:\n",
    "    print ('This URL is : ',\"Not Valid URL\")"
   ]
  },
  {
   "cell_type": "markdown",
   "id": "b4e6c39f-012e-48c8-9a8d-f034221412e0",
   "metadata": {},
   "source": [
    "35. Extract the protocol (http or https) from a URL string.\n",
    "36. Find the frequency of each character in a string.\n",
    "37. Remove all punctuation from a string."
   ]
  },
  {
   "cell_type": "code",
   "execution_count": 22,
   "id": "ad51d401-c4a6-4e7b-95a4-bc48fb957fa4",
   "metadata": {},
   "outputs": [
    {
     "name": "stdout",
     "output_type": "stream",
     "text": [
      "Protocal from the URL : https\n",
      "Frequency of char :  [('l', 1), ('o', 3), ('p', 1), ('.', 2), ('h', 1), ('/', 2), ('e', 1), ('t', 2), (':', 1), ('c', 1), ('m', 1), ('w', 3), ('g', 2), ('s', 1)]\n",
      "Removed Punctuation :  httpswwwgooglecom\n"
     ]
    }
   ],
   "source": [
    "A = 'https://www.google.com'\n",
    "print('Protocal from the URL :',A[:(A.index('://'))])\n",
    "print('Frequency of char : ',([(b, A.count(b)) for b in set(A)]))\n",
    "print('Removed Punctuation : ', ''.join(e for e in A if e.isalnum()))"
   ]
  },
  {
   "cell_type": "markdown",
   "id": "574fe341-6c78-47cf-8c60-663011056818",
   "metadata": {},
   "source": [
    "38. Check if a string contains only digits.\n",
    "39. Check if a string contains only alphabets.\n",
    "40. Convert a string to a list of characters."
   ]
  },
  {
   "cell_type": "code",
   "execution_count": 36,
   "id": "2bab9384-80ad-4540-8ecd-53136117efa5",
   "metadata": {},
   "outputs": [
    {
     "name": "stdout",
     "output_type": "stream",
     "text": [
      "String contain only num : True\n",
      "String contain only alpha : True\n",
      "List of string : ['c', 'e', 'i', 'n', 's']\n"
     ]
    }
   ],
   "source": [
    "A = '87540'\n",
    "B = 'science'\n",
    "print('String contain only num :',A.isdigit())\n",
    "print('String contain only alpha :',B.isalpha())\n",
    "print('List of string :',([a for a in sorted(set(B))]))"
   ]
  },
  {
   "cell_type": "markdown",
   "id": "36ef3451-048f-4820-989c-6911c57aaf31",
   "metadata": {},
   "source": [
    "41. Check if two strings are anagrams."
   ]
  },
  {
   "cell_type": "code",
   "execution_count": 45,
   "id": "1816c3ac-51e8-4ff5-9a1c-eed25deb638e",
   "metadata": {},
   "outputs": [
    {
     "name": "stdout",
     "output_type": "stream",
     "text": [
      "Two strings are anagrams\n"
     ]
    }
   ],
   "source": [
    "A = 'listen'\n",
    "B = 'silent'\n",
    "\n",
    "if sorted(A)==sorted(B):\n",
    "    print('Two strings are anagrams')\n",
    "else:\n",
    "    print(\"Two strings are not anagrams\")"
   ]
  },
  {
   "cell_type": "markdown",
   "id": "b083d014-efd1-4612-8122-5bf9d2fc8531",
   "metadata": {},
   "source": [
    "42. Encode a string using a Caesar cipher.\n",
    "43. Decode a Caesar cipher encoded string."
   ]
  },
  {
   "cell_type": "code",
   "execution_count": 50,
   "id": "4f57aa34-0915-4539-b306-bf4e29009ae9",
   "metadata": {},
   "outputs": [
    {
     "name": "stdin",
     "output_type": "stream",
     "text": [
      "Enter a text here : Hello, World!\n",
      "Enter a num here : 5\n"
     ]
    },
    {
     "name": "stdout",
     "output_type": "stream",
     "text": [
      "Encoded word :  Mjqqt, Btwqi!\n",
      "Decoded word :  Hello, World!\n"
     ]
    }
   ],
   "source": [
    "A = str(input(\"Enter a text here :\"))\n",
    "B = int(input(\"Enter a num here :\"))\n",
    "\n",
    "def encrp(A , B):\n",
    "    record = \"\"\n",
    "    for i in A:\n",
    "        if i.isalpha():\n",
    "            num = 65 if i.isupper() else 97\n",
    "            encode = chr((ord(i) - num + B)%26 + num)\n",
    "            record += encode\n",
    "        else:\n",
    "            record += i\n",
    "    return record\n",
    "\n",
    "def Decrp(A,B):\n",
    "    return encrp(A,-B)\n",
    "\n",
    "C = encrp(A, B)\n",
    "\n",
    "print(\"Encoded word : \",encrp(A, B))\n",
    "print(\"Decoded word : \",Decrp(C, B))"
   ]
  },
  {
   "cell_type": "markdown",
   "id": "e03f6960-e018-4ae3-9143-8bd82d874a46",
   "metadata": {},
   "source": [
    "44. Find the most frequent word in a string.\n",
    "45. Find all unique words in a string.\n",
    "46. Count the number of syllables in a string."
   ]
  },
  {
   "cell_type": "code",
   "execution_count": 6,
   "id": "95e8aea5-3c6e-4126-85be-0e77988e7c16",
   "metadata": {},
   "outputs": [
    {
     "name": "stdout",
     "output_type": "stream",
     "text": [
      "Most frequent word(s): ['is', 'corporate', 'in']\n",
      "Frequency: 2\n"
     ]
    }
   ],
   "source": [
    "F = \"Data is fuel in corporate and most valuable in the corporate. Also data is more important\"\n",
    "\n",
    "word_list = [(word, F.count(word)) for word in set(F.split())]\n",
    "\n",
    "max_count = max(word_list, key=lambda x: x[1])[1]\n",
    "\n",
    "most_frequent_words = [word for word, count in word_list if count == max_count]\n",
    "\n",
    "print(\"Most frequent word(s):\", most_frequent_words)\n",
    "print(\"Frequency:\", max_count)"
   ]
  },
  {
   "cell_type": "code",
   "execution_count": 7,
   "id": "1058a470-79ae-469f-80f1-615d6da096d2",
   "metadata": {},
   "outputs": [
    {
     "name": "stdout",
     "output_type": "stream",
     "text": [
      "Unique word in the string {'Apple', 'Grape', 'Banana', 'Cherry'}\n"
     ]
    }
   ],
   "source": [
    "A = 'Apple Apple Banana Banana Grape Cherry'\n",
    "\n",
    "print('Unique word in the string', set(A.split()))"
   ]
  },
  {
   "cell_type": "code",
   "execution_count": 8,
   "id": "0ddbc287-c508-4159-9746-f2ab88b33aa2",
   "metadata": {},
   "outputs": [
    {
     "name": "stdout",
     "output_type": "stream",
     "text": [
      "Total syllables: 24\n"
     ]
    }
   ],
   "source": [
    "import re\n",
    "def count_syllables(word):\n",
    "    vowels = re.findall(r'[aeiouyAEIOUY]+', word)\n",
    "    return len(vowels)\n",
    "\n",
    "text = \"Data science is the future in the world and ervery where based on the data\"\n",
    "words = text.split()\n",
    "total_syllables = sum(count_syllables(word) for word in words)\n",
    "\n",
    "print(\"Total syllables:\", total_syllables)"
   ]
  },
  {
   "cell_type": "markdown",
   "id": "000973d6-9509-459d-a5fc-511bebf1528c",
   "metadata": {},
   "source": [
    "47. Check if a string contains any special characters.\n",
    "48. Remove the nth word from a string.\n",
    "49. Insert a word at the nth position in a string.\n",
    "50. Convert a CSV string to a list of lists."
   ]
  },
  {
   "cell_type": "code",
   "execution_count": 26,
   "id": "41a0acdd-4cb0-4e0d-9389-ca74a81fe2d5",
   "metadata": {},
   "outputs": [
    {
     "name": "stdout",
     "output_type": "stream",
     "text": [
      "String contains special characters.\n"
     ]
    }
   ],
   "source": [
    "import re\n",
    "def has_special_characters(input_string):\n",
    "    special_chars = re.compile(r'[!@#$%^&*()_+{}\\[\\]:;<>,.?~\\\\]')\n",
    "    return bool(special_chars.search(input_string))\n",
    "\n",
    "input_string = \"Hello, this is a boobalan murugan!\"\n",
    "if has_special_characters(input_string):\n",
    "    print(\"String contains special characters.\")\n",
    "else:\n",
    "    print(\"String does not contain special characters.\")\n"
   ]
  },
  {
   "cell_type": "code",
   "execution_count": 12,
   "id": "71871aaa-2edc-4cc7-af65-498fedbb4364",
   "metadata": {},
   "outputs": [
    {
     "name": "stdout",
     "output_type": "stream",
     "text": [
      "Removed word from the string Data science is the and every company have data to improve\n"
     ]
    }
   ],
   "source": [
    "def rem(text, num):\n",
    "    word = text.split()\n",
    "    if 1 <= num <= len(word):\n",
    "        del word[num -1]\n",
    "        return ' '.join(word)\n",
    "    else:\n",
    "        return text\n",
    "\n",
    "A = \"Data science is the future and every company have data to improve\"\n",
    "B = 5\n",
    "print('Removed word from the string',rem(A,B))"
   ]
  },
  {
   "cell_type": "code",
   "execution_count": 23,
   "id": "b1b8eb45-100b-44bc-a5e4-2c1260abae2f",
   "metadata": {},
   "outputs": [
    {
     "name": "stdout",
     "output_type": "stream",
     "text": [
      "Inserted word Data science is the future world and every company have data to improve\n"
     ]
    }
   ],
   "source": [
    "def ins(A , B, C):\n",
    "    word = A.split()\n",
    "    if C <= len(word):\n",
    "        word.insert(C, B)\n",
    "        return ' '.join(word)\n",
    "    else:\n",
    "        return A\n",
    "A = \"Data science is the future and every company have data to improve\"\n",
    "B = 'world'\n",
    "C = 5\n",
    "print('Inserted word',ins(A, B, C))"
   ]
  },
  {
   "cell_type": "code",
   "execution_count": 25,
   "id": "c8d58298-fea4-4d58-9f44-cc796ba94394",
   "metadata": {},
   "outputs": [
    {
     "name": "stdout",
     "output_type": "stream",
     "text": [
      "[['John', 'Doe', '30'], ['Alice', 'Smith', '25'], ['Bob', 'Johnson', '35']]\n"
     ]
    }
   ],
   "source": [
    "import csv\n",
    "def csv_string_to_list(csv_string):\n",
    "    csv_list = list(csv.reader(csv_string.splitlines()))\n",
    "    return csv_list\n",
    "\n",
    "csv_string = \"John,Doe,30\\nAlice,Smith,25\\nBob,Johnson,35\"\n",
    "csv_list = csv_string_to_list(csv_string)\n",
    "print(csv_list)"
   ]
  },
  {
   "cell_type": "raw",
   "id": "bca9d476-bb40-4a95-b2b2-9b0389959915",
   "metadata": {},
   "source": []
  },
  {
   "cell_type": "markdown",
   "id": "b55668aa-7e93-4bab-b70b-c9afd109135d",
   "metadata": {},
   "source": [
    "#List Based Practice Problem"
   ]
  },
  {
   "cell_type": "markdown",
   "id": "eb8927dd-be58-4d96-92c2-111e2d10e9dc",
   "metadata": {},
   "source": [
    "1. Create a list with integers from 1 to 10."
   ]
  },
  {
   "cell_type": "code",
   "execution_count": 29,
   "id": "860224af-0a2c-4cf3-9161-33e974558c55",
   "metadata": {},
   "outputs": [
    {
     "name": "stdout",
     "output_type": "stream",
     "text": [
      "[1, 2, 3, 4, 5, 6, 7, 8, 9, 10]\n"
     ]
    }
   ],
   "source": [
    "A = list(range(1,11))\n",
    "print(A)"
   ]
  },
  {
   "cell_type": "markdown",
   "id": "ba276638-c42f-4de1-bf49-530ef974cd0c",
   "metadata": {},
   "source": [
    "2. Find the length of a list without using the `len()` function."
   ]
  },
  {
   "cell_type": "code",
   "execution_count": 35,
   "id": "3a77f921-e8e3-47b2-8ee3-0850ad78731b",
   "metadata": {},
   "outputs": [
    {
     "name": "stdout",
     "output_type": "stream",
     "text": [
      "Without len function:  10\n"
     ]
    }
   ],
   "source": [
    "A = list(range(1,11))\n",
    "\n",
    "print('Without len function: ', sum(1 for _ in A) )"
   ]
  },
  {
   "cell_type": "markdown",
   "id": "5234b7e3-aed5-4854-a21b-b75cc8460f53",
   "metadata": {},
   "source": [
    "3. Append an element to the end of a list.\n",
    "4. Insert an element at a specific index in a list.\n",
    "5. Remove an element from a list by its value.\n",
    "6. Remove an element from a list by its index."
   ]
  },
  {
   "cell_type": "code",
   "execution_count": 1,
   "id": "eb841659-d223-44ed-8b5c-f09203c85f6b",
   "metadata": {},
   "outputs": [
    {
     "name": "stdout",
     "output_type": "stream",
     "text": [
      "Appended list : None [1, 2, 3, 4, 5, 6, 7, 8, 9, 10, 11]\n",
      "Inserted list : None [1, 2, 3, 12, 4, 5, 6, 7, 8, 9, 10, 11]\n",
      "Remove by value: None [1, 2, 3, 12, 4, 5, 6, 7, 8, 9, 10]\n",
      "Remove by index: 12 [1, 2, 3, 4, 5, 6, 7, 8, 9, 10]\n"
     ]
    }
   ],
   "source": [
    "A = [1,2,3,4,5,6,7,8,9,10]\n",
    "\n",
    "print('Appended list :', A.append(11), A)\n",
    "print('Inserted list :', A.insert(3, 12), A)\n",
    "print('Remove by value:',A.remove(11), A)\n",
    "print('Remove by index:',A.pop(3), A)"
   ]
  },
  {
   "cell_type": "markdown",
   "id": "9053249d-15ef-45f0-965b-ef59f391b062",
   "metadata": {},
   "source": [
    "7. Check if an element exists in a list.\n",
    "8. Find the index of the first occurrence of an element in a list.\n",
    "9. Count the occurrences of an element in a list.\n",
    "10. Reverse the order of elements in a list."
   ]
  },
  {
   "cell_type": "code",
   "execution_count": 29,
   "id": "ca0c23c4-5c36-429e-bb05-e0f474122433",
   "metadata": {},
   "outputs": [
    {
     "name": "stdin",
     "output_type": "stream",
     "text": [
      "Enter a num : 4\n"
     ]
    },
    {
     "name": "stdout",
     "output_type": "stream",
     "text": [
      "Checking element True\n",
      "First Occurrence index:  None 5\n",
      "Occurance  count:  [(0, 1), (1, 1), (2, 1), (3, 2), (3, 2), (4, 1), (5, 1)]\n",
      "Reversed list:  [5, 4, 3, 3, 2, 1, 0]\n"
     ]
    }
   ],
   "source": [
    "A = [0,1,2,3,3,4,5]\n",
    "B = int(input('Enter a num :'))\n",
    "print('Checking element', B in A)\n",
    "print('First Occurrence index: ', A.sort(),A.index(4))\n",
    "print('Occurance  count: ', ([(i,A.count(i)) for i in A]))\n",
    "print('Reversed list: ', list(reversed(A)))"
   ]
  },
  {
   "cell_type": "markdown",
   "id": "70383acd-2185-44ee-9ac3-b514bb037014",
   "metadata": {},
   "source": [
    "11. Sort a list in ascending order.\n",
    "12. Sort a list in descending order.\n",
    "13. Create a list of even numbers from 1 to 20.\n",
    "14. Create a list of odd numbers from 1 to 20.\n",
    "15. Find the sum of all elements in a list.\n",
    "16. Find the maximum value in a list.\n",
    "17. Find the minimum value in a list."
   ]
  },
  {
   "cell_type": "code",
   "execution_count": 21,
   "id": "0af25f30-7e6b-43f3-a9e9-c0cbfd560b33",
   "metadata": {},
   "outputs": [
    {
     "name": "stdout",
     "output_type": "stream",
     "text": [
      "Ascending Order:  None [1, 2, 3, 4, 5, 6, 7, 8, 9, 10]\n",
      "Decending Order:  None [10, 9, 8, 7, 6, 5, 4, 3, 2, 1]\n",
      "Even Number:  [2, 4, 6, 8, 10, 12, 14, 16, 18]\n",
      "Odd Number:  [1, 3, 5, 7, 9, 11, 13, 15, 17, 19]\n",
      "Sum Value:  55\n",
      "Max Value:  10\n",
      "Max Value:  1\n"
     ]
    }
   ],
   "source": [
    "I = [3,6,2,1,5,4,7,9,8,10]\n",
    "\n",
    "print('Ascending Order: ', I.sort(), I)\n",
    "print('Decending Order: ', I.sort(reverse=True), I)\n",
    "print('Even Number: ', list(range(2,20,2)))\n",
    "print('Odd Number: ', list(range(1,20,2)))\n",
    "print('Sum Value: ', sum(i for i in I))\n",
    "print('Max Value: ', max(I))\n",
    "print('Max Value: ', min(I))"
   ]
  },
  {
   "cell_type": "markdown",
   "id": "05e60b61-9033-47fe-ae39-530592eb5e0a",
   "metadata": {},
   "source": [
    "18. Create a list of squares of numbers from 1 to 10.\n",
    "19. Create a list of random numbers.\n",
    "20. Remove duplicates from a list."
   ]
  },
  {
   "cell_type": "code",
   "execution_count": 35,
   "id": "e9f691e4-2523-4e96-a079-c5a68e6e4939",
   "metadata": {},
   "outputs": [
    {
     "name": "stdout",
     "output_type": "stream",
     "text": [
      "Squared Num:  [1, 4, 9, 16, 25, 36, 49, 64, 81, 100]\n",
      "Random num:  [36, 19, 31, 15, 14, 35, 37, 10, 48, 21]\n",
      "Unique num:  {1, 2, 3, 5, 6, 7, 8, 9, 10}\n"
     ]
    }
   ],
   "source": [
    "A = [1,2,3,4,5,6,7,8,9,10]\n",
    "\n",
    "def sq(A):\n",
    "    New = []\n",
    "    for i in A:\n",
    "        S = i*i\n",
    "        New.append(S)\n",
    "    return New\n",
    "\n",
    "print('Squared Num: ',sq(A))      \n",
    "\n",
    "import random\n",
    "print('Random num: ',random.sample(range(1,50),10))\n",
    "\n",
    "I = [2,2,5,6,3,3,8,9,10,2,5,6,7,1]\n",
    "print('Unique num: ',set(I))"
   ]
  },
  {
   "cell_type": "markdown",
   "id": "6a6a0e1a-017d-43ab-9522-c8c8df7d6de8",
   "metadata": {},
   "source": [
    "21. Find the common elements between two lists.\n",
    "22. Find the difference between two lists.\n",
    "23. Merge two lists.\n",
    "24. Multiply all elements in a list by 2.\n",
    "25. Filter out all even numbers from a list."
   ]
  },
  {
   "cell_type": "code",
   "execution_count": 48,
   "id": "1b5cd6a6-3588-4d24-a455-613af54f46cb",
   "metadata": {},
   "outputs": [
    {
     "name": "stdout",
     "output_type": "stream",
     "text": [
      "Common element:  [2, 3, 5, 8]\n",
      "Differ element:  [4, 7, 9, 10, 1, 6, 6, 11]\n",
      "Merger List:  [2, 3, 4, 5, 7, 8, 9, 10, 1, 2, 3, 5, 6, 8, 6, 11]\n",
      "Multiple by 2:  [4, 6, 8, 10, 14, 16, 18, 20]\n",
      "Filterout Even:  [3, 5, 7, 9]\n"
     ]
    }
   ],
   "source": [
    "A = [2,3,4,5,7,8,9,10]\n",
    "B = [1,2,3,5,6,8,6,11]\n",
    "C = list(range(2,10000,2))\n",
    "print('Common element: ', [i for i in A if i in B])\n",
    "print('Differ element: ', ([i for i in A if i not in B]+[i for i in B if i not in A]))\n",
    "print('Merger List: ', A+B)\n",
    "print('Multiple by 2: ', [i*2 for i in A])\n",
    "print('Filterout Even: ',[i for i in A if i not in C])"
   ]
  },
  {
   "cell_type": "markdown",
   "id": "37e7c092-60a2-499b-8fbc-da57cbadf400",
   "metadata": {},
   "source": [
    "26. Convert a list of strings to a list of integers.\n",
    "27. Convert a list of integers to a list of strings."
   ]
  },
  {
   "cell_type": "code",
   "execution_count": 58,
   "id": "773d0753-71b9-4da8-840f-76531f9a21ba",
   "metadata": {},
   "outputs": [
    {
     "name": "stdout",
     "output_type": "stream",
     "text": [
      "String to integer:  [1, 2, 3, 4, 5, 6]\n",
      "integer to String:  ['1', '2', '3', '4', '5', '6']\n"
     ]
    }
   ],
   "source": [
    "S = ['1','2','3','4','5','6']\n",
    "Y = [1,2,3,4,5,6]\n",
    "print('String to integer: ',[int(i) for i in S])\n",
    "print('integer to String: ',[str(i) for i in Y])"
   ]
  },
  {
   "cell_type": "markdown",
   "id": "2bf45480-db22-47f2-8a14-3c5f47b9adf7",
   "metadata": {},
   "source": [
    "28. Flatten a nested list."
   ]
  },
  {
   "cell_type": "code",
   "execution_count": 84,
   "id": "4e8d80c8-2b2e-4974-a32c-ce9e07fb4fce",
   "metadata": {},
   "outputs": [
    {
     "name": "stdout",
     "output_type": "stream",
     "text": [
      "[1, 2, 3, 4, 5, 6, 7, 4, 5, 6, 7, 8]\n"
     ]
    }
   ],
   "source": [
    "A = [1, [2, 3], [4, [5, 6]], 7,[4,5,[6,7,8]]]\n",
    "\n",
    "def flat(A):\n",
    "    new = []\n",
    "    for i in A:\n",
    "        if isinstance(i, list):\n",
    "            new.extend(flat(i))\n",
    "        else:\n",
    "            new.append(i)\n",
    "    return new\n",
    "\n",
    "print(flat(A))"
   ]
  },
  {
   "cell_type": "markdown",
   "id": "523c3b5e-ca52-4bad-86e6-f86fcc8f4c8c",
   "metadata": {},
   "source": [
    "29. Create a list of the first 10 Fibonacci numbers."
   ]
  },
  {
   "cell_type": "code",
   "execution_count": 94,
   "id": "a7c0c680-a07b-45f2-bcb2-9ad06f40bfa4",
   "metadata": {},
   "outputs": [
    {
     "name": "stdout",
     "output_type": "stream",
     "text": [
      "First 10 Fibonacci numbers:  [1, 1, 2, 3, 5, 8, 13, 21, 34, 55]\n"
     ]
    }
   ],
   "source": [
    "def fib (A):\n",
    "    New = [1,1]\n",
    "    for _ in range (A):\n",
    "        B = New[-1]+New[-2]\n",
    "        New.append(B)\n",
    "        if len(New) == A:\n",
    "            break\n",
    "    return New\n",
    "\n",
    "print('First 10 Fibonacci numbers: ',fib(10))"
   ]
  },
  {
   "cell_type": "markdown",
   "id": "16a0e43e-54b6-45f4-a876-760b5523bc85",
   "metadata": {},
   "source": [
    "30. Check if a list is sorted."
   ]
  },
  {
   "cell_type": "code",
   "execution_count": 96,
   "id": "7e161913-9763-4581-acb6-4a2fbb247c8b",
   "metadata": {},
   "outputs": [
    {
     "name": "stdout",
     "output_type": "stream",
     "text": [
      "Is sorted:  True\n",
      "Is sorted:  False\n"
     ]
    }
   ],
   "source": [
    "def SOR(A):\n",
    "    if len(A) <= 1:\n",
    "        return True\n",
    "    for i in range(len(A)-1):\n",
    "        if A[i] > A[i+1]:\n",
    "            return False\n",
    "    return True\n",
    "\n",
    "A = [1,2,3,4,5]\n",
    "B = [2,1,5,6,4]\n",
    "print('Is sorted: ',SOR(A))\n",
    "print('Is sorted: ',SOR(B))"
   ]
  },
  {
   "cell_type": "markdown",
   "id": "3c9b9a93-6ef5-4c32-9416-4406e4d09278",
   "metadata": {},
   "source": [
    "31. Rotate a list to the left by `n` positions.\n",
    "32. Rotate a list to the right by `n` positions."
   ]
  },
  {
   "cell_type": "code",
   "execution_count": 21,
   "id": "305b6e25-b4e8-4780-909a-7af824192a9f",
   "metadata": {},
   "outputs": [
    {
     "name": "stdout",
     "output_type": "stream",
     "text": [
      "[6, 7, 8, 1, 2, 3, 4, 5]\n",
      "[4, 5, 6, 7, 8, 1, 2, 3]\n"
     ]
    }
   ],
   "source": [
    "A = [1,2,3,4,5,6,7,8]\n",
    "\n",
    "def rotate_L(lst, n):\n",
    "    if n > len(lst):\n",
    "        return ('Given value greater than length of index', lst)\n",
    "    else:\n",
    "        rotated_list = lst[n:] + lst[:n]\n",
    "    return rotated_list\n",
    "\n",
    "\n",
    "def rotate_R(lst, n):\n",
    "    if n > len(lst):\n",
    "        return ('Given value greater than length of index', lst)\n",
    "    else:\n",
    "        rotated_list = lst[-n:] + lst[:-n]\n",
    "    return rotated_list\n",
    "\n",
    "print(rotate_L(A, 5))\n",
    "print(rotate_R(A, 5))"
   ]
  },
  {
   "cell_type": "markdown",
   "id": "6cdbe240-f50e-47ab-a004-cc5de9d08906",
   "metadata": {},
   "source": [
    "33. Create a list of prime numbers up to 50."
   ]
  },
  {
   "cell_type": "code",
   "execution_count": 63,
   "id": "597017ed-1920-44aa-b206-7c4a89ebf26f",
   "metadata": {},
   "outputs": [
    {
     "name": "stdout",
     "output_type": "stream",
     "text": [
      "Prime num till 50 is  [2, 3, 5, 7, 11, 13, 17, 19, 23, 29, 31, 37, 41, 43, 47]\n"
     ]
    }
   ],
   "source": [
    "A= 50\n",
    "def prime(A): \n",
    "    def CP(a):\n",
    "        for i in range(2,a):\n",
    "            if (a%i) == 0:\n",
    "                return False\n",
    "        return True\n",
    "\n",
    "    prime_num = []\n",
    "\n",
    "    for i in range(2,A+1):\n",
    "        if CP(i):\n",
    "            prime_num.append(i)\n",
    "    return prime_num\n",
    "\n",
    "print(f\"Prime num till {A} is \",prime(50))\n",
    "        \n",
    "    "
   ]
  },
  {
   "cell_type": "markdown",
   "id": "1b9e8c26-8380-4385-a72e-7c9976477727",
   "metadata": {},
   "source": [
    "34. Split a list into chunks of size `n`."
   ]
  },
  {
   "cell_type": "code",
   "execution_count": 70,
   "id": "b7c0d21b-4677-4cde-875b-3e871d565962",
   "metadata": {},
   "outputs": [
    {
     "name": "stdout",
     "output_type": "stream",
     "text": [
      "Splited list [[1, 2, 3], [4, 5, 6], [7, 8, 9], [10]]\n"
     ]
    }
   ],
   "source": [
    "def split_list(lst, n):\n",
    "    return [lst[i:i + n] for i in range(0, len(lst), n)]\n",
    "\n",
    "A = [1, 2, 3, 4, 5, 6, 7, 8, 9,10]\n",
    "B = 3\n",
    "result = split_list(A, B)\n",
    "print(\"Splited list\",result)\n"
   ]
  },
  {
   "cell_type": "markdown",
   "id": "4377d69e-8720-44b1-8ac4-85593a271e86",
   "metadata": {},
   "source": [
    "35. Find the second largest number in a list.\n",
    "36. Replace every element in a list with its square."
   ]
  },
  {
   "cell_type": "code",
   "execution_count": 75,
   "id": "ecaefa87-f06f-42a3-91ef-24e8e3aecaf8",
   "metadata": {},
   "outputs": [
    {
     "name": "stdout",
     "output_type": "stream",
     "text": [
      "Second Largest Num is :  8\n",
      "Squared Value : [1, 4, 9, 16, 25, 36, 64, 64, 100]\n"
     ]
    }
   ],
   "source": [
    "A = [2,4,6,5,3,8,1,10,8]\n",
    "A.sort()\n",
    "print('Second Largest Num is : ', A[-2])\n",
    "print('Squared Value :',[ i*i for i in A])"
   ]
  },
  {
   "cell_type": "markdown",
   "id": "b36ca5b7-e0d7-44fd-91ee-0c11eedf29a4",
   "metadata": {},
   "source": [
    "37. Convert a list to a dictionary where list elements become keys and their\n",
    "indices become values."
   ]
  },
  {
   "cell_type": "code",
   "execution_count": 78,
   "id": "7f86fc17-5fb6-4847-8ec6-6742b7631888",
   "metadata": {},
   "outputs": [
    {
     "name": "stdout",
     "output_type": "stream",
     "text": [
      "Converted list {'apple': 0, 'banana': 1, 'cherry': 2, 'date': 3}\n"
     ]
    }
   ],
   "source": [
    "A = [\"apple\", \"banana\", \"cherry\", \"date\"]\n",
    "B = {element: index for index, element in enumerate(A)}\n",
    "print(\"Converted list\",B)"
   ]
  },
  {
   "cell_type": "markdown",
   "id": "2a11c793-3fb9-4648-a7ad-c7a81766adc9",
   "metadata": {},
   "source": [
    "38. Shuffle the elements of a list randomly."
   ]
  },
  {
   "cell_type": "code",
   "execution_count": 85,
   "id": "37192328-992a-412d-896b-3c81af326f02",
   "metadata": {},
   "outputs": [
    {
     "name": "stdout",
     "output_type": "stream",
     "text": [
      "Random shuffle : [2, 1, 6, 9, 5, 4, 7, 8, 3]\n"
     ]
    }
   ],
   "source": [
    "import random\n",
    "A=[1,2,3,4,5,6,7,8,9]\n",
    "random.shuffle(A)\n",
    "print('Random shuffle :', A)"
   ]
  },
  {
   "cell_type": "markdown",
   "id": "a918d4ce-d930-431b-88df-f4ce0d2ca324",
   "metadata": {},
   "source": [
    "39. Create a list of the first 10 factorial numbers."
   ]
  },
  {
   "cell_type": "code",
   "execution_count": 3,
   "id": "beb096ea-5059-4b0a-9f0d-109dceeb328b",
   "metadata": {},
   "outputs": [
    {
     "name": "stdout",
     "output_type": "stream",
     "text": [
      "[1, 2, 6, 24, 120, 720, 5040, 40320, 362880, 3628800]\n"
     ]
    }
   ],
   "source": [
    "def Fac(d):\n",
    "    S = []\n",
    "    D = 1\n",
    "    if d <=0:\n",
    "        print('No Factorial')\n",
    "    else:\n",
    "        for i in range(1,d+1):\n",
    "            D = D*i\n",
    "            S.append(D)\n",
    "    return S\n",
    "\n",
    "print(Fac(10))"
   ]
  },
  {
   "cell_type": "markdown",
   "id": "14e68f51-7b75-4fff-8af5-cf19af138d3a",
   "metadata": {},
   "source": [
    "40. Check if two lists have at least one element in common."
   ]
  },
  {
   "cell_type": "code",
   "execution_count": 115,
   "id": "0e9e7a30-da80-4ec4-abd7-b52dee90f1cc",
   "metadata": {},
   "outputs": [
    {
     "name": "stdout",
     "output_type": "stream",
     "text": [
      "Common Element [[4, 7]]\n"
     ]
    }
   ],
   "source": [
    "def com(A , B):\n",
    "    S = []\n",
    "    A = set(A)\n",
    "    B = set(B)\n",
    "    C = [i for i in A if i in B]\n",
    "    S.append(C)\n",
    "    return S\n",
    "\n",
    "A = [1,2,3,4,5,6,7]\n",
    "B = [4,7,8,9,10]\n",
    "print('Common Element',com(A,B))"
   ]
  },
  {
   "cell_type": "markdown",
   "id": "49fb7f24-55f3-4d38-bc1e-0f01b720833a",
   "metadata": {},
   "source": [
    "41. Remove all elements from a list.\n",
    "42. Replace negative numbers in a list with 0."
   ]
  },
  {
   "cell_type": "code",
   "execution_count": 120,
   "id": "03a55452-f38f-4827-9524-4e9ad88921aa",
   "metadata": {},
   "outputs": [
    {
     "name": "stdout",
     "output_type": "stream",
     "text": [
      "Removed all element : []\n",
      "Replaced Negative num : [0, 0, 3, 4, 5, 6, 0]\n"
     ]
    }
   ],
   "source": [
    "A = [1,2,3,4,5,6,7]\n",
    "A.clear()\n",
    "print(\"Removed all element :\",A)\n",
    "\n",
    "B = [-1,-2,3,4,5,6,-7]\n",
    "print(\"Replaced Negative num :\", [i if i >= 0 else 0 for i in B])"
   ]
  },
  {
   "cell_type": "markdown",
   "id": "c4b3f260-9fc2-41c4-8c62-1f3ec74bcb31",
   "metadata": {},
   "source": [
    "43. Convert a string into a list of words.\n",
    "44. Convert a list of words into a string."
   ]
  },
  {
   "cell_type": "code",
   "execution_count": 122,
   "id": "84ecb4b5-1f84-477b-ad7c-8a4f336c57d2",
   "metadata": {},
   "outputs": [
    {
     "name": "stdout",
     "output_type": "stream",
     "text": [
      "String to List : ['Apple', 'Banana', 'Grape', 'Cherry', 'Pineapple', 'Gova']\n",
      "List to String : Apple Banana Grape Cherry Pineapple Gova\n"
     ]
    }
   ],
   "source": [
    "A = \"Apple Banana Grape Cherry Pineapple Gova\"\n",
    "B = A.split()\n",
    "print('String to List :',B)\n",
    "print('List to String :',' '.join(B))"
   ]
  },
  {
   "cell_type": "markdown",
   "id": "e11ecd5f-b61f-495c-90d8-83069670504b",
   "metadata": {},
   "source": [
    "45. Create a list of the first `n` powers of 2."
   ]
  },
  {
   "cell_type": "code",
   "execution_count": 129,
   "id": "cbe916b9-6ef1-4962-af95-d278aa33f1af",
   "metadata": {},
   "outputs": [
    {
     "name": "stdout",
     "output_type": "stream",
     "text": [
      "n power of 2 : [1, 2, 4, 8, 16]\n"
     ]
    }
   ],
   "source": [
    "n = 5\n",
    "D = [2**i for i in range(n)]\n",
    "print('n power of 2 :',D)"
   ]
  },
  {
   "cell_type": "markdown",
   "id": "e0a6ed07-949c-4d8f-aaea-165111cb4586",
   "metadata": {},
   "source": [
    "46. Find the longest string in a list of strings.\n",
    "47. Find the shortest string in a list of strings."
   ]
  },
  {
   "cell_type": "code",
   "execution_count": 148,
   "id": "6428e43f-e011-4012-9056-d69c0f838e06",
   "metadata": {},
   "outputs": [
    {
     "name": "stdout",
     "output_type": "stream",
     "text": [
      "Longest String:  Pineapple\n",
      "Shortest String:  Gova\n"
     ]
    }
   ],
   "source": [
    "A = [\"Apple\",\"Banana\",\"Grape\",\"Cherry\",\"Pineapple\",\"Gova\"]\n",
    "\n",
    "print('Longest String: ', max(A,  key=(lambda c: len(c))))\n",
    "print('Shortest String: ', min(A,  key=(lambda c: len(c))))"
   ]
  },
  {
   "cell_type": "markdown",
   "id": "bb060985-0018-40ed-997c-0632e056950e",
   "metadata": {},
   "source": [
    "48. Create a list of the first `n` triangular numbers."
   ]
  },
  {
   "cell_type": "code",
   "execution_count": 159,
   "id": "b7d1971e-2838-4d3a-942e-ff0bf07c2a9e",
   "metadata": {},
   "outputs": [
    {
     "name": "stdout",
     "output_type": "stream",
     "text": [
      "[1, 3, 6, 10, 15, 21, 28, 36, 45, 55, 66, 78, 91]\n"
     ]
    }
   ],
   "source": [
    "def triangular(n):\n",
    "    L  = []\n",
    "    for i in range(1,10000,1):\n",
    "        a = (int(i*(i+1)/2))\n",
    "        if a <= n:\n",
    "            L.append(a)\n",
    "    return L\n",
    "\n",
    "print(triangular(100))"
   ]
  },
  {
   "cell_type": "markdown",
   "id": "e7d0eae0-dda3-45ae-ad8f-1d9a5e8625f8",
   "metadata": {},
   "source": [
    "49. Check if a list contains another list as a subsequence.\n",
    "50. Swap two elements in a list by their indices."
   ]
  },
  {
   "cell_type": "code",
   "execution_count": 32,
   "id": "96035bd1-8c57-4c75-952f-a89b61fc515e",
   "metadata": {},
   "outputs": [
    {
     "name": "stdout",
     "output_type": "stream",
     "text": [
      "True\n"
     ]
    }
   ],
   "source": [
    "def ss(a, b):\n",
    "    c, d = len(a), len(b)\n",
    "    i = 0\n",
    "    for j in range(d):\n",
    "        if a[i] == b[j]:\n",
    "            i += 1\n",
    "            if i == c:\n",
    "                return True\n",
    "    return i == c\n",
    "\n",
    "a = [1, 2, 3, 4, 5, 6]\n",
    "b = [2,4]\n",
    "\n",
    "print(ss(b, a))"
   ]
  },
  {
   "cell_type": "code",
   "execution_count": 33,
   "id": "41383429-6329-4076-8506-ec8438d268fc",
   "metadata": {},
   "outputs": [
    {
     "name": "stdout",
     "output_type": "stream",
     "text": [
      "List after swapping: [1, 4, 3, 2, 5]\n"
     ]
    }
   ],
   "source": [
    "my_list = [1, 2, 3, 4, 5]\n",
    "index1, index2 = 1, 3\n",
    "\n",
    "if 0 <= index1 < len(my_list) and 0 <= index2 < len(my_list):\n",
    "    my_list[index1], my_list[index2] = my_list[index2], my_list[index1]\n",
    "    print(\"List after swapping:\", my_list)\n",
    "else:\n",
    "    print(\"Invalid indices\")"
   ]
  },
  {
   "cell_type": "markdown",
   "id": "0119a30d-83df-45c4-9d5c-c116f306cf7b",
   "metadata": {
    "tags": []
   },
   "source": [
    "#"
   ]
  },
  {
   "cell_type": "markdown",
   "id": "79fc3a3e-4c89-416f-b7f7-cabfc38ba6f9",
   "metadata": {},
   "source": [
    "#Tuple List Question"
   ]
  },
  {
   "cell_type": "markdown",
   "id": "75c0a69f-b063-4eeb-8c08-93dc56924bb6",
   "metadata": {},
   "source": [
    "1. Create a tuple with integers from 1 to 5.\n",
    "2. Access the third element of a tuple.\n",
    "3. Find the length of a tuple without using the `len()` function.\n",
    "4. Count the occurrences of an element in a tuple."
   ]
  },
  {
   "cell_type": "code",
   "execution_count": 10,
   "id": "70351888-94c5-4128-a521-d829ad129708",
   "metadata": {},
   "outputs": [
    {
     "name": "stdout",
     "output_type": "stream",
     "text": [
      "Tuple List:  (1, 2, 3, 4, 5)\n",
      "Third Element:  3\n",
      "Length of Tuple:  5\n",
      "Occurrence element:  [(1, 1), (2, 1), (3, 1), (4, 1), (5, 1)]\n"
     ]
    }
   ],
   "source": [
    "A = tuple(range(1,6))\n",
    "print('Tuple List: ',A)\n",
    "print('Third Element: ',A[2])\n",
    "print('Length of Tuple: ',sum([A.count(c) for c in A]))\n",
    "print('Occurrence element: ', [(c, A.count(c)) for c in A ])"
   ]
  },
  {
   "cell_type": "markdown",
   "id": "1cd44c24-1fd1-4006-b495-0928538d109e",
   "metadata": {},
   "source": [
    "5. Find the index of the first occurrence of an element in a tuple.\n",
    "6. Check if an element exists in a tuple.\n",
    "7. Convert a tuple to a list.\n",
    "8. Convert a list to a tuple."
   ]
  },
  {
   "cell_type": "code",
   "execution_count": 29,
   "id": "4ee3840f-65f6-4ec6-97e1-58831a0ec7f5",
   "metadata": {},
   "outputs": [
    {
     "name": "stdout",
     "output_type": "stream",
     "text": [
      "Index of the element:  3\n"
     ]
    }
   ],
   "source": [
    "A = (2,3,4,5,1,5,7,8)\n",
    "\n",
    "print('Index of the element: ', A.index(5))"
   ]
  },
  {
   "cell_type": "code",
   "execution_count": 37,
   "id": "894eb25a-bb94-485c-9cfe-db55e2a1b639",
   "metadata": {},
   "outputs": [
    {
     "name": "stdout",
     "output_type": "stream",
     "text": [
      "Checking Result:  True\n"
     ]
    }
   ],
   "source": [
    "A = (1,2,3,4,5,6,7)\n",
    "\n",
    "def CT (e, f):\n",
    "    if f in e:\n",
    "        return True\n",
    "    else:\n",
    "        return False\n",
    "\n",
    "print('Checking Result: ',CT(A, 5))"
   ]
  },
  {
   "cell_type": "code",
   "execution_count": 39,
   "id": "7fc53786-a988-4e1a-aed5-897b6599d55b",
   "metadata": {},
   "outputs": [
    {
     "name": "stdout",
     "output_type": "stream",
     "text": [
      "Tupple to List:  [1, 2, 3, 4, 5, 6, 7]\n",
      "List to Tuple:  (1, 2, 3, 4, 5, 6, 7)\n"
     ]
    }
   ],
   "source": [
    "A=(1,2,3,4,5,6,7)\n",
    "B = [1,2,3,4,5,6,7,]\n",
    "\n",
    "print('Tupple to List: ',list(A))\n",
    "print('List to Tuple: ',tuple(B))"
   ]
  },
  {
   "cell_type": "markdown",
   "id": "ec8f378e-3b45-4ee7-95cc-7f0191581e85",
   "metadata": {},
   "source": [
    "9. Unpack the elements of a tuple into variables.\n",
    "10. Create a tuple of even numbers from 1 to 10.\n",
    "11. Create a tuple of odd numbers from 1 to 10."
   ]
  },
  {
   "cell_type": "code",
   "execution_count": 49,
   "id": "196bd9e6-1f88-4dbc-97f8-13d1eef571ac",
   "metadata": {},
   "outputs": [
    {
     "name": "stdout",
     "output_type": "stream",
     "text": [
      "Unpack the element :  {'Var1': 1, 'Var2': 2, 'Var3': 3, 'Var4': 4, 'Var5': 5}\n",
      "Tuple Even Num:  (2, 4, 6, 8, 10)\n",
      "Tuple Odd Num:  (1, 3, 5, 7, 9)\n"
     ]
    }
   ],
   "source": [
    "A = (1,2,3,4,5)\n",
    "\n",
    "def unpack(a):\n",
    "    Variable = {}\n",
    "    for i, value in enumerate(A, start=1):\n",
    "        Variable[f'Var{i}'] = value\n",
    "    return Variable\n",
    "print('Unpack the element : ',unpack(A))\n",
    "print('Tuple Even Num: ', tuple(range(2,11,2)))\n",
    "print('Tuple Odd Num: ', tuple(range(1,11,2)))"
   ]
  },
  {
   "cell_type": "markdown",
   "id": "cbd71e25-799b-4e7a-a7e6-3b979ec5dcd8",
   "metadata": {},
   "source": [
    "12. Concatenate two tuples.\n",
    "13. Repeat a tuple three times."
   ]
  },
  {
   "cell_type": "code",
   "execution_count": 56,
   "id": "00a98116-b9e7-48a1-a7e1-795540008fdf",
   "metadata": {},
   "outputs": [
    {
     "name": "stdout",
     "output_type": "stream",
     "text": [
      "Concatenate value : (1, 2, 3, 4, 5, 6, 7, 8, 9, 10)\n",
      "Three time :  (1, 2, 3, 4, 5, 1, 2, 3, 4, 5, 1, 2, 3, 4, 5)\n"
     ]
    }
   ],
   "source": [
    "A = (1,2,3,4,5)\n",
    "B = (6,7,8,9,10)\n",
    "C = (A+B)\n",
    "print('Concatenate value :',C)\n",
    "print('Three time : ',A*3)"
   ]
  },
  {
   "cell_type": "markdown",
   "id": "e5c67a67-685a-49bd-a733-e98c4f83735f",
   "metadata": {},
   "source": [
    "14. Check if a tuple is empty."
   ]
  },
  {
   "cell_type": "code",
   "execution_count": 60,
   "id": "cff5b3ff-cbdc-4e5a-8798-0bf8e8c71419",
   "metadata": {},
   "outputs": [
    {
     "name": "stdout",
     "output_type": "stream",
     "text": [
      "Tuple is empty\n"
     ]
    }
   ],
   "source": [
    "A = ()\n",
    "\n",
    "if not A:\n",
    "    print('Tuple is empty')\n",
    "else:\n",
    "    print('Tuple is not empty')"
   ]
  },
  {
   "cell_type": "markdown",
   "id": "d3fab317-ed61-4637-9f86-c99f86ac2109",
   "metadata": {},
   "source": [
    "15. Create a nested tuple."
   ]
  },
  {
   "cell_type": "code",
   "execution_count": 62,
   "id": "26b48ea6-2a82-4be3-a5ac-c224913ecee9",
   "metadata": {},
   "outputs": [
    {
     "name": "stdout",
     "output_type": "stream",
     "text": [
      "Nested Tuple :  ((1, 2, 3), (4, 5, 6), (7, 8, 9))\n"
     ]
    }
   ],
   "source": [
    "B = ((1,2,3),(4,5,6),(7,8,9))\n",
    "\n",
    "print('Nested Tuple : ',B)"
   ]
  },
  {
   "cell_type": "markdown",
   "id": "cfc55ffa-ed4b-4d90-a8e8-6c5a71f6918a",
   "metadata": {},
   "source": [
    "16. Access the first element of a nested tuple.\n",
    "17. Create a tuple with a single element.\n",
    "18. Compare two tuples."
   ]
  },
  {
   "cell_type": "code",
   "execution_count": 76,
   "id": "4ebe7149-1df1-4489-9653-d6375d84c4af",
   "metadata": {},
   "outputs": [
    {
     "name": "stdout",
     "output_type": "stream",
     "text": [
      "first element of nested list:  1\n"
     ]
    }
   ],
   "source": [
    "print('first element of nested list: ',B[0])"
   ]
  },
  {
   "cell_type": "code",
   "execution_count": 77,
   "id": "33f5edf9-0994-4b11-aa1c-3e0871ce4a22",
   "metadata": {},
   "outputs": [
    {
     "name": "stdout",
     "output_type": "stream",
     "text": [
      "Single Element : <class 'tuple'>\n"
     ]
    }
   ],
   "source": [
    "A = (2,)\n",
    "print('Single Element :', type(A))"
   ]
  },
  {
   "cell_type": "code",
   "execution_count": 78,
   "id": "82c550aa-0d86-420b-bf80-ddb3ae79e240",
   "metadata": {},
   "outputs": [
    {
     "name": "stdout",
     "output_type": "stream",
     "text": [
      "Tuples are not equal\n"
     ]
    }
   ],
   "source": [
    "A = (1, 2, 3)\n",
    "B = (1, 2, 4)\n",
    "if A == B:\n",
    "    print(\"Tuples are equal\")\n",
    "else:\n",
    "    print(\"Tuples are not equal\")"
   ]
  },
  {
   "cell_type": "markdown",
   "id": "ad548998-763b-4e33-83cf-1ddda44b0083",
   "metadata": {},
   "source": [
    "19. Delete a tuple.\n",
    "20. Slice a tuple."
   ]
  },
  {
   "cell_type": "code",
   "execution_count": 86,
   "id": "afdf4a9d-c536-4e08-a56a-f93dc9d6783d",
   "metadata": {},
   "outputs": [],
   "source": [
    "A = (1,2,3,4,5)\n",
    "del[A]"
   ]
  },
  {
   "cell_type": "code",
   "execution_count": 89,
   "id": "253fb56f-61af-412b-9fbd-09a6bf814783",
   "metadata": {},
   "outputs": [
    {
     "name": "stdout",
     "output_type": "stream",
     "text": [
      "(1, 2, 3)\n"
     ]
    }
   ],
   "source": [
    "A = (1,2,3,4,5)\n",
    "print(A[:3])"
   ]
  },
  {
   "cell_type": "markdown",
   "id": "9c4eeecd-e8e1-46c8-b2b2-94219faf1a9d",
   "metadata": {},
   "source": [
    "21. Find the maximum value in a tuple.\n",
    "22. Find the minimum value in a tuple."
   ]
  },
  {
   "cell_type": "code",
   "execution_count": 90,
   "id": "379f20d3-0813-4878-ba62-1550899274a3",
   "metadata": {},
   "outputs": [
    {
     "name": "stdout",
     "output_type": "stream",
     "text": [
      "Maximum Number:  5\n",
      "Minimum Number:  1\n"
     ]
    }
   ],
   "source": [
    "A = (1,2,3,4,5)\n",
    "print('Maximum Number: ', max(A))\n",
    "print('Minimum Number: ', min(A))"
   ]
  },
  {
   "cell_type": "markdown",
   "id": "280598b9-a497-4df3-b2aa-adf029978bc5",
   "metadata": {},
   "source": [
    "23. Convert a string to a tuple of characters.\n",
    "24. Convert a tuple of characters to a string."
   ]
  },
  {
   "cell_type": "code",
   "execution_count": 96,
   "id": "939f47ed-997c-47a0-a77e-f7c1924dc382",
   "metadata": {},
   "outputs": [
    {
     "name": "stdout",
     "output_type": "stream",
     "text": [
      "String to tuple:  ('H', 'o', 'w', ' ', 'a', 'r', 'e', ' ', 'y', 'o', 'u')\n",
      "tuple to String:  How are you\n"
     ]
    }
   ],
   "source": [
    "A = 'How are you'\n",
    "B = tuple(A)\n",
    "print('String to tuple: ',B)\n",
    "C= str(''.join(B))\n",
    "print('tuple to String: ',C)"
   ]
  },
  {
   "cell_type": "markdown",
   "id": "57897ebd-10ad-48ed-b42e-0f25822b2dda",
   "metadata": {},
   "source": [
    "25. Create a tuple from multiple data types."
   ]
  },
  {
   "cell_type": "code",
   "execution_count": 102,
   "id": "e985f532-6ddd-472f-801b-6ae412ef14f1",
   "metadata": {},
   "outputs": [
    {
     "name": "stdout",
     "output_type": "stream",
     "text": [
      "Multiple data type : <class 'int'> <class 'str'> <class 'list'>\n"
     ]
    }
   ],
   "source": [
    "A = (1,2,'data',[1,2,3],{4,5},{1:'Q',2:'B'})\n",
    "print('Multiple data type :',type(A[1]),type(A[2]),type(A[3]))"
   ]
  },
  {
   "cell_type": "markdown",
   "id": "bc9ae6e5-2074-44e6-836d-f3d0326ca3f9",
   "metadata": {},
   "source": [
    "26. Check if two tuples are identical."
   ]
  },
  {
   "cell_type": "code",
   "execution_count": 4,
   "id": "41b33663-4045-4eda-9b31-5d6bb1351afb",
   "metadata": {},
   "outputs": [
    {
     "name": "stdout",
     "output_type": "stream",
     "text": [
      "Tuples are identical\n"
     ]
    }
   ],
   "source": [
    "A = (1, 2, 3)\n",
    "B = (1, 2, 3)\n",
    "\n",
    "if A == B:\n",
    "    print(\"Tuples are identical\")\n",
    "else:\n",
    "    print(\"Tuples are not identical\")"
   ]
  },
  {
   "cell_type": "markdown",
   "id": "329fc68f-4b10-414c-a9ec-2fc1997103c7",
   "metadata": {},
   "source": [
    "27. Sort the elements of a tuple."
   ]
  },
  {
   "cell_type": "code",
   "execution_count": 8,
   "id": "61f89392-3f6e-42a7-a26d-749c1a87f148",
   "metadata": {},
   "outputs": [
    {
     "name": "stdout",
     "output_type": "stream",
     "text": [
      "Sorted list :  (1, 2, 3, 4, 5, 6)\n"
     ]
    }
   ],
   "source": [
    "A = (5,4,1,3,2,6)\n",
    "print('Sorted list : ',tuple(sorted(A)))"
   ]
  },
  {
   "cell_type": "markdown",
   "id": "f88dd84e-f06a-4f25-89cb-c1be8a4520b5",
   "metadata": {},
   "source": [
    "28. Convert a tuple of integers to a tuple of strings.\n",
    "29. Convert a tuple of strings to a tuple of integers."
   ]
  },
  {
   "cell_type": "code",
   "execution_count": 12,
   "id": "bea29d39-dccd-4d2a-acb7-1d5744e92712",
   "metadata": {},
   "outputs": [
    {
     "name": "stdout",
     "output_type": "stream",
     "text": [
      "Integer to String : ('1', '2', '3', '4', '5')\n",
      "String to Integer : (1, 2, 3, 4, 5)\n"
     ]
    }
   ],
   "source": [
    "A = (1,2,3,4,5)\n",
    "B = ('1', '2', '3', '4', '5')\n",
    "\n",
    "print('Integer to String :', tuple([str(c) for c in A]))\n",
    "print('String to Integer :', tuple([int(c) for c in A]))"
   ]
  },
  {
   "cell_type": "markdown",
   "id": "914f7e0b-ad79-42f7-bd53-2f72760a1199",
   "metadata": {},
   "source": [
    "30. Merge two tuples."
   ]
  },
  {
   "cell_type": "code",
   "execution_count": 13,
   "id": "0f828a8f-9b45-4448-bfd5-e4dbfe4b66a1",
   "metadata": {},
   "outputs": [
    {
     "name": "stdout",
     "output_type": "stream",
     "text": [
      "Merge two tuple : (1, 2, 3, 4, 5, 6, 7, 8, 9, 10)\n"
     ]
    }
   ],
   "source": [
    "A = (1,2,3,4,5)\n",
    "B = (6,7,8,9,10)\n",
    "C = A+B\n",
    "print('Merge two tuple :',C)"
   ]
  },
  {
   "cell_type": "markdown",
   "id": "5af4e405-b3bd-4e87-a3d9-f133b6ee8233",
   "metadata": {},
   "source": [
    "31. Flatten a nested tuple."
   ]
  },
  {
   "cell_type": "code",
   "execution_count": 19,
   "id": "fb99b3c8-36d1-461e-829c-8c736349ea2f",
   "metadata": {},
   "outputs": [
    {
     "name": "stdout",
     "output_type": "stream",
     "text": [
      "Flatten Nested Tuple : (1, 2, 2, 3, 3, 4)\n"
     ]
    }
   ],
   "source": [
    "A =(1,2,3,(2,3,(4)))\n",
    "\n",
    "def FN(a):\n",
    "    B=[]\n",
    "    for i in a:\n",
    "        if isinstance(i,tuple):\n",
    "            B.extend(FN(i))\n",
    "        else:\n",
    "            B.append(i)\n",
    "    return tuple(sorted(B)) \n",
    "\n",
    "print('Flatten Nested Tuple :',FN(A))"
   ]
  },
  {
   "cell_type": "markdown",
   "id": "25428896-9934-450b-854c-407b5c475816",
   "metadata": {},
   "source": [
    "32. Create a tuple of the first 5 prime numbers."
   ]
  },
  {
   "cell_type": "code",
   "execution_count": 36,
   "id": "bd5baa29-eb78-43ce-9d28-4be368cbcd9e",
   "metadata": {},
   "outputs": [
    {
     "name": "stdout",
     "output_type": "stream",
     "text": [
      "First 5 prime num:  (2, 3, 5, 7, 11)\n"
     ]
    }
   ],
   "source": [
    "def PM(a, b):\n",
    "    \n",
    "    def PMC(a):\n",
    "        for i in range(2,a):\n",
    "            if (a%i==0):\n",
    "                return False\n",
    "        return True\n",
    "    \n",
    "    A = [i for i in range(2, a+1) if PMC(i)][:b]\n",
    "    \n",
    "    return tuple(A)    \n",
    "\n",
    "A = 100\n",
    "B = 5\n",
    "print('First 5 prime num: ',PM(A,B))"
   ]
  },
  {
   "cell_type": "markdown",
   "id": "7740e392-d253-45f4-b28f-8b60d29c0b94",
   "metadata": {},
   "source": [
    "33. Check if a tuple is a palindrome."
   ]
  },
  {
   "cell_type": "code",
   "execution_count": 43,
   "id": "6ee17990-9e9d-4d1c-befd-94a47f3f762d",
   "metadata": {},
   "outputs": [
    {
     "name": "stdout",
     "output_type": "stream",
     "text": [
      "This tuple is palindrome\n"
     ]
    }
   ],
   "source": [
    "A = (1,2,1)\n",
    "\n",
    "def pl(a):\n",
    "    return a ==a[::-1]\n",
    "    \n",
    "if pl(A):\n",
    "    print('This tuple is palindrome')\n",
    "else:\n",
    "    print('This tuple is not palindrome')"
   ]
  },
  {
   "cell_type": "markdown",
   "id": "bb004562-0ac8-4afd-99cb-895e31f3cb26",
   "metadata": {},
   "source": [
    "34. Create a tuple of squares of numbers from 1 to 5.\n",
    "35. Filter out all even numbers from a tuple.\n",
    "36. Multiply all elements in a tuple by 2."
   ]
  },
  {
   "cell_type": "code",
   "execution_count": 53,
   "id": "1239c73e-7582-4d2e-818c-1b39285bacbc",
   "metadata": {},
   "outputs": [
    {
     "name": "stdout",
     "output_type": "stream",
     "text": [
      "Squared value : (1, 4, 9, 16, 25, 36, 49, 64)\n",
      "Even Number : (2, 4, 6, 8)\n",
      "Multiple by 2 : (2, 4, 6, 8, 10, 12, 14, 16)\n"
     ]
    }
   ],
   "source": [
    "A = (1,2,3,4,5,6,7,8)\n",
    "\n",
    "print('Squared value :',tuple([i*i for i in A]))\n",
    "print('Even Number :', tuple([i for i in A if i in range(2,10000,2)]))\n",
    "print('Multiple by 2 :',tuple([i*2 for i in A]))"
   ]
  },
  {
   "cell_type": "markdown",
   "id": "0186cb26-c292-4ffa-8d8a-515eca069c0e",
   "metadata": {},
   "source": [
    "37. Create a tuple of random numbers."
   ]
  },
  {
   "cell_type": "code",
   "execution_count": 57,
   "id": "7c3cf667-e901-46ab-b1f2-0f0083c6f667",
   "metadata": {},
   "outputs": [
    {
     "name": "stdout",
     "output_type": "stream",
     "text": [
      "Random Number:  (57, 55, 91, 29, 26, 67, 51, 95, 34, 10)\n"
     ]
    }
   ],
   "source": [
    "import random\n",
    "A = random.sample(range(1,100),10)\n",
    "print('Random Number: ',tuple(A))"
   ]
  },
  {
   "cell_type": "markdown",
   "id": "d345ef28-9bf6-44e3-bd28-daa510893f2a",
   "metadata": {},
   "source": [
    "38. Check if a tuple is sorted."
   ]
  },
  {
   "cell_type": "code",
   "execution_count": 62,
   "id": "9704ea7e-d3c9-42ce-b82f-d7bad357463b",
   "metadata": {},
   "outputs": [
    {
     "name": "stdout",
     "output_type": "stream",
     "text": [
      "False\n"
     ]
    }
   ],
   "source": [
    "A = (1,2,6,4,5)\n",
    "\n",
    "def sor(a):\n",
    "    if len(a) <= 1:\n",
    "        return True\n",
    "    \n",
    "    for i in range(len(a)-1):\n",
    "        if a[i] > a[i+1]:\n",
    "            return False\n",
    "    return True\n",
    "\n",
    "print(sor(A))"
   ]
  },
  {
   "cell_type": "markdown",
   "id": "9f84da16-7784-4496-8e0c-9ace99ae45de",
   "metadata": {},
   "source": [
    "39. Rotate a tuple to the left by `n` positions.\n",
    "40. Rotate a tuple to the right by `n` positions."
   ]
  },
  {
   "cell_type": "code",
   "execution_count": 63,
   "id": "4a20d28b-178a-42a2-a452-1db6264e7ca1",
   "metadata": {},
   "outputs": [
    {
     "name": "stdout",
     "output_type": "stream",
     "text": [
      "(6, 7, 8, 1, 2, 3, 4, 5)\n",
      "(4, 5, 6, 7, 8, 1, 2, 3)\n"
     ]
    }
   ],
   "source": [
    "A = (1,2,3,4,5,6,7,8)\n",
    "\n",
    "def rotate_L(lst, n):\n",
    "    if n > len(lst):\n",
    "        return ('Given value greater than length of index', lst)\n",
    "    else:\n",
    "        rotated_list = lst[n:] + lst[:n]\n",
    "    return rotated_list\n",
    "\n",
    "\n",
    "def rotate_R(lst, n):\n",
    "    if n > len(lst):\n",
    "        return ('Given value greater than length of index', lst)\n",
    "    else:\n",
    "        rotated_list = lst[-n:] + lst[:-n]\n",
    "    return rotated_list\n",
    "\n",
    "print(rotate_L(A, 5))\n",
    "print(rotate_R(A, 5))"
   ]
  },
  {
   "cell_type": "markdown",
   "id": "02ec506b-cee4-40c1-82a0-08c6c0273f71",
   "metadata": {},
   "source": [
    "41. Create a tuple of the first 5 Fibonacci numbers.\n",
    "42. Create a tuple from user input.\n",
    "43. Swap two elements in a tuple.\n",
    "44. Reverse the elements of a tuple."
   ]
  },
  {
   "cell_type": "code",
   "execution_count": 13,
   "id": "d4d9fa63-46a8-44ba-b6ef-aad87613ca6b",
   "metadata": {},
   "outputs": [
    {
     "name": "stdin",
     "output_type": "stream",
     "text": [
      "Enter a input here : 5\n"
     ]
    },
    {
     "name": "stdout",
     "output_type": "stream",
     "text": [
      "Fibonacci Number : (1, 2, 3, 5, 8)\n",
      "User input : ('5',)\n",
      "Swapped Element:  (2, 1, 3, 4, 5)\n",
      "Reversed element : (5, 4, 3, 2, 1)\n"
     ]
    }
   ],
   "source": [
    "A = (1,2,3,4,5)\n",
    "C = tuple(input(\"Enter a input here :\"))\n",
    "D = list(A)\n",
    "D[0], D[1] = D[1],D[0]\n",
    "\n",
    "def fab(a):\n",
    "    N = [1,2]\n",
    "    for i in range(1,1000000+1):\n",
    "        s = N[-2] + N[-1]\n",
    "        N.append(s)\n",
    "        if len(N) == a:\n",
    "            break\n",
    "    return N\n",
    "print('Fibonacci Number :', tuple(fab(5)))\n",
    "print('User input :', C)\n",
    "print('Swapped Element: ',tuple(D)) \n",
    "print('Reversed element :',A[::-1])"
   ]
  },
  {
   "cell_type": "markdown",
   "id": "f1936666-de0d-4b64-8919-77809324dfd7",
   "metadata": {},
   "source": [
    "45. Create a tuple of the first `n` powers of 2."
   ]
  },
  {
   "cell_type": "code",
   "execution_count": 21,
   "id": "6f5b5dbf-e2ee-48a5-b76f-a5cd6b68938e",
   "metadata": {},
   "outputs": [
    {
     "name": "stdout",
     "output_type": "stream",
     "text": [
      "Power of 2:  (2, 4, 6, 8, 10, 12, 14, 16)\n"
     ]
    }
   ],
   "source": [
    "n = 8\n",
    "B = tuple([2*i for i in range(1,n+1)])\n",
    "print('Power of 2: ',B)"
   ]
  },
  {
   "cell_type": "markdown",
   "id": "fb6fee74-8eec-457e-bb9a-faa6e5f97e19",
   "metadata": {},
   "source": [
    "46. Find the longest string in a tuple of strings.\n",
    "47. Find the shortest string in a tuple of strings."
   ]
  },
  {
   "cell_type": "code",
   "execution_count": 30,
   "id": "a1a8ad8d-0ff3-473e-b199-37fb09dbb048",
   "metadata": {},
   "outputs": [
    {
     "name": "stdout",
     "output_type": "stream",
     "text": [
      "Longest String in the tuple is : Pineapple\n",
      "Shortest String in the tuple is : Gova\n"
     ]
    }
   ],
   "source": [
    "A = ('Apple','Banana','Grape','Pineapple','Gova')\n",
    "\n",
    "print('Longest String in the tuple is :',max(A, key =(lambda c : len(c))))\n",
    "print('Shortest String in the tuple is :',min(A, key =(lambda c : len(c))))"
   ]
  },
  {
   "cell_type": "markdown",
   "id": "06a27ced-9ba7-464c-88ef-9886af8671ee",
   "metadata": {},
   "source": [
    "48. Create a tuple of the first `n` triangular numbers."
   ]
  },
  {
   "cell_type": "code",
   "execution_count": 152,
   "id": "9e81de20-f1d4-4ee3-b57c-a3236d431297",
   "metadata": {},
   "outputs": [
    {
     "name": "stdout",
     "output_type": "stream",
     "text": [
      "Triangular Number : (1, 3, 6, 10, 15, 21, 28, 36)\n"
     ]
    }
   ],
   "source": [
    "n = 8\n",
    "print('Triangular Number :', tuple([(int(i*(i+1)/2)) for i in range(1,n+1)]))"
   ]
  },
  {
   "cell_type": "markdown",
   "id": "07d501e4-13ea-4db7-9ef8-be3fd184367f",
   "metadata": {},
   "source": [
    "49. Check if a tuple contains another tuple as a subsequence."
   ]
  },
  {
   "cell_type": "code",
   "execution_count": 34,
   "id": "6418685f-9c77-48b3-bac7-17461ebaf2c2",
   "metadata": {},
   "outputs": [
    {
     "name": "stdout",
     "output_type": "stream",
     "text": [
      "True\n"
     ]
    }
   ],
   "source": [
    "A = (1,2,3,4,5,6,7,8)\n",
    "B = (1,2,3)\n",
    "\n",
    "def ch(a, b):\n",
    "    a1, b1 = len(a), len(b)\n",
    "    i=0\n",
    "    for j in range(b1):\n",
    "        if a[i]==b[j]:\n",
    "            i+=1\n",
    "            if i == a1:\n",
    "                return True\n",
    "    return i==a1\n",
    "\n",
    "print(ch(B, A))"
   ]
  },
  {
   "cell_type": "markdown",
   "id": "b7f0e139-13ab-4365-b489-69c7772e6532",
   "metadata": {},
   "source": [
    "50. Create a tuple of alternating 1s and 0s of length `n`."
   ]
  },
  {
   "cell_type": "code",
   "execution_count": 36,
   "id": "486e7b34-6dcd-476b-98b3-404002a8baac",
   "metadata": {},
   "outputs": [
    {
     "name": "stdout",
     "output_type": "stream",
     "text": [
      "(1, 0, 1, 0, 1, 0, 1, 0, 1, 0)\n"
     ]
    }
   ],
   "source": [
    "n = 10 \n",
    "D = tuple(1 if i % 2 == 0 else 0 for i in range(n))\n",
    "print(D)"
   ]
  },
  {
   "cell_type": "markdown",
   "id": "b99fb631-b712-451c-9ef5-a44c2cb50b20",
   "metadata": {},
   "source": [
    "#"
   ]
  },
  {
   "cell_type": "markdown",
   "id": "56e64f70-bd3c-4317-b90a-07a86a695a95",
   "metadata": {},
   "source": [
    "Set Based Practice Problem"
   ]
  },
  {
   "cell_type": "markdown",
   "id": "2a74f11a-3cf3-410f-9fc3-aa7b006573c0",
   "metadata": {},
   "source": [
    "1. Create a set with integers from 1 to 5.\n",
    "2. Add an element to a set.\n",
    "3. Remove an element from a set.\n",
    "4. Check if an element exists in a set."
   ]
  },
  {
   "cell_type": "code",
   "execution_count": 55,
   "id": "79ba7df3-96bd-4548-a6e3-88b6cea789c7",
   "metadata": {},
   "outputs": [
    {
     "name": "stdout",
     "output_type": "stream",
     "text": [
      "Set : {1, 2, 3, 4, 5}\n",
      "Added Element : {1, 2, 3, 4, 5, 6}\n",
      "Removed Element : {1, 2, 3, 4, 5}\n"
     ]
    },
    {
     "name": "stdin",
     "output_type": "stream",
     "text": [
      " 3\n"
     ]
    },
    {
     "name": "stdout",
     "output_type": "stream",
     "text": [
      "Element Exist:  [3]\n"
     ]
    }
   ],
   "source": [
    "A = {1,2,3,4,5}\n",
    "print('Set :',A)\n",
    "A.add(6)\n",
    "print('Added Element :',A)\n",
    "A.remove(6)\n",
    "print('Removed Element :',A)\n",
    "\n",
    "c = int(input())\n",
    "print('Element Exist: ', [c if c in A else False])"
   ]
  },
  {
   "cell_type": "markdown",
   "id": "bf62046f-6d99-4daa-987a-72b2d5de5d4e",
   "metadata": {},
   "source": [
    "5. Find the length of a set without using the `len()` function.\n",
    "6. Clear all elements from a set.\n",
    "7. Create a set of even numbers from 1 to 10.\n",
    "8. Create a set of odd numbers from 1 to 10.\n",
    "9. Find the union of two sets."
   ]
  },
  {
   "cell_type": "code",
   "execution_count": 66,
   "id": "094068ad-3c16-40d0-8e74-510c93e11ef0",
   "metadata": {},
   "outputs": [
    {
     "name": "stdout",
     "output_type": "stream",
     "text": [
      "Length of the set:  6\n",
      "Cleared Element : set()\n",
      "Even Number : {2, 4, 6, 8, 10}\n",
      "Odd Number : {1, 3, 5, 7, 9}\n"
     ]
    }
   ],
   "source": [
    "A = {1,2,3,4,5,6}\n",
    "count = 0\n",
    "for _ in A:\n",
    "    count +=1\n",
    "print('Length of the set: ', count )\n",
    "A.clear()\n",
    "print('Cleared Element :',A)\n",
    "B = set(range(2,11,2))\n",
    "print('Even Number :',B)\n",
    "C = set(range(1,11,2))\n",
    "print('Odd Number :',C)"
   ]
  },
  {
   "cell_type": "code",
   "execution_count": 69,
   "id": "95948d55-7f20-4db5-873d-1d7814ae7b15",
   "metadata": {},
   "outputs": [
    {
     "name": "stdout",
     "output_type": "stream",
     "text": [
      "Uninon of Two Set:  {1, 2, 3, 4, 5, 6, 7, 8, 9, 10}\n"
     ]
    }
   ],
   "source": [
    "A = {1,2,3,4,5,6}\n",
    "B = {6,7,8,9,10}\n",
    "C = A.union(B)\n",
    "print('Uninon of Two Set: ',C)"
   ]
  },
  {
   "cell_type": "markdown",
   "id": "7163052e-9bc5-446f-bd3e-324d2a72f7d7",
   "metadata": {},
   "source": [
    "10. Find the intersection of two sets."
   ]
  },
  {
   "cell_type": "code",
   "execution_count": 70,
   "id": "60f9ec96-bfd3-42f2-a12a-07f90f6c950c",
   "metadata": {},
   "outputs": [
    {
     "name": "stdout",
     "output_type": "stream",
     "text": [
      "intersection of Two Set:  {6}\n"
     ]
    }
   ],
   "source": [
    "A = {1,2,3,4,5,6}\n",
    "B = {6,7,8,9,10}\n",
    "C = A.intersection(B)\n",
    "print('intersection of Two Set: ',C)"
   ]
  },
  {
   "cell_type": "markdown",
   "id": "1ccc225c-eede-4718-9e99-b7b50c155305",
   "metadata": {},
   "source": [
    "11. Find the difference between two sets."
   ]
  },
  {
   "cell_type": "code",
   "execution_count": 77,
   "id": "06105d60-c6d3-4e85-bcee-17e7aad54c0b",
   "metadata": {},
   "outputs": [
    {
     "name": "stdout",
     "output_type": "stream",
     "text": [
      "difference of Two Set:  {1, 2, 4, 9, 10}\n"
     ]
    }
   ],
   "source": [
    "A = {1,2,8,4,5,6}\n",
    "B = {6,5,8,9,10}\n",
    "C = A^B\n",
    "print('difference of Two Set: ',C)"
   ]
  },
  {
   "cell_type": "markdown",
   "id": "b630e28a-6981-4ba3-834d-5cefd74d079c",
   "metadata": {},
   "source": [
    "12. Check if a set is a subset of another set.\n",
    "13. Check if a set is a superset of another set."
   ]
  },
  {
   "cell_type": "code",
   "execution_count": 81,
   "id": "c52b3927-3d63-45d2-959e-3006fe10e54f",
   "metadata": {},
   "outputs": [
    {
     "name": "stdout",
     "output_type": "stream",
     "text": [
      "Result Of subset and superset:  True True\n"
     ]
    }
   ],
   "source": [
    "A = {1,2,3}\n",
    "B = {1,2,3,4,5,6}\n",
    "c = A.issubset(B)\n",
    "d = B.issuperset(A)\n",
    "print('Result Of subset and superset: ',c,d)"
   ]
  },
  {
   "cell_type": "markdown",
   "id": "4afd7bed-367f-4c32-a99d-2477e42fbfeb",
   "metadata": {},
   "source": [
    "14. Create a set from a list.\n",
    "15. Convert a set to a list."
   ]
  },
  {
   "cell_type": "code",
   "execution_count": 82,
   "id": "007af67f-cd6a-413b-8ff9-bb85bb67c8f2",
   "metadata": {},
   "outputs": [
    {
     "name": "stdout",
     "output_type": "stream",
     "text": [
      "List to set : {1, 2, 3, 4, 5, 6}\n",
      "Set to List : [1, 2, 3, 4, 5, 6]\n"
     ]
    }
   ],
   "source": [
    "A = [1,2,3,4,5,6]\n",
    "B = {1,2,3,4,5,6}\n",
    "print('List to set :', set(A))\n",
    "print('Set to List :', list(B))"
   ]
  },
  {
   "cell_type": "markdown",
   "id": "6e94ddd7-9c0a-4d7e-b2ad-0f8dd10eabf9",
   "metadata": {},
   "source": [
    "16. Remove a random element from a set.\n",
    "17. Pop an element from a set."
   ]
  },
  {
   "cell_type": "code",
   "execution_count": 84,
   "id": "daf54f28-494b-44e1-9431-f99a2eb821dd",
   "metadata": {},
   "outputs": [
    {
     "name": "stdout",
     "output_type": "stream",
     "text": [
      "Removed Element: {1, 2, 3, 5, 6, 7}\n",
      "Pop Applied: {2, 3, 5, 6, 7}\n"
     ]
    }
   ],
   "source": [
    "A = {1,2,3,4,5,6,7}\n",
    "A.remove(4)\n",
    "print('Removed Element:',A)\n",
    "A.pop()\n",
    "print('Pop Applied:',A)"
   ]
  },
  {
   "cell_type": "markdown",
   "id": "ee2f22eb-18f3-49d1-95aa-4e1bb43fe7bc",
   "metadata": {},
   "source": [
    "18. Check if two sets have no elements in common."
   ]
  },
  {
   "cell_type": "code",
   "execution_count": 88,
   "id": "fd01392e-c124-4a89-a15d-ada467bb8ce7",
   "metadata": {},
   "outputs": [
    {
     "name": "stdout",
     "output_type": "stream",
     "text": [
      "No Common Element : True\n"
     ]
    }
   ],
   "source": [
    "A = {1, 2, 3}\n",
    "B = {4, 5, 6}\n",
    "C = A.isdisjoint(B)\n",
    "print('No Common Element :',C)"
   ]
  },
  {
   "cell_type": "markdown",
   "id": "52cd908b-3c5d-4a7b-af1f-5e0ffbe6df62",
   "metadata": {},
   "source": [
    "19. Find the symmetric difference between two sets."
   ]
  },
  {
   "cell_type": "code",
   "execution_count": 90,
   "id": "e802a57a-f668-406a-a9aa-7519797564ee",
   "metadata": {},
   "outputs": [
    {
     "name": "stdout",
     "output_type": "stream",
     "text": [
      "Symmetric difference between set1 and set2: {1, 2, 3, 6, 7, 8}\n"
     ]
    }
   ],
   "source": [
    "A = {1, 2, 3, 4, 5}\n",
    "B = {4, 5, 6, 7, 8}\n",
    "C = A^B\n",
    "print('Symmetric difference between set1 and set2:', C)"
   ]
  },
  {
   "cell_type": "markdown",
   "id": "01cc1aaa-2da2-4e1a-8f25-340098c20eb2",
   "metadata": {},
   "source": [
    "20. Update a set with elements from another set."
   ]
  },
  {
   "cell_type": "code",
   "execution_count": 93,
   "id": "d231cd1f-1b70-4508-b231-4f5c63b0b934",
   "metadata": {},
   "outputs": [
    {
     "name": "stdout",
     "output_type": "stream",
     "text": [
      "Updated Element : {1, 2, 3, 4, 5, 6, 7, 8}\n"
     ]
    }
   ],
   "source": [
    "A = {1, 2, 3, 4, 5}\n",
    "B = {4, 5, 6, 7, 8}\n",
    "A |= B\n",
    "print('Updated Element :',A)"
   ]
  },
  {
   "cell_type": "markdown",
   "id": "a0ea2669-0783-40a0-875a-27d7f45fbad7",
   "metadata": {},
   "source": [
    "21. Create a set of the first 5 prime numbers."
   ]
  },
  {
   "cell_type": "code",
   "execution_count": 94,
   "id": "a86c6387-363e-4daf-a17c-ace81724ca05",
   "metadata": {},
   "outputs": [
    {
     "name": "stdout",
     "output_type": "stream",
     "text": [
      "First 5 prime num:  {2, 3, 5, 7, 11}\n"
     ]
    }
   ],
   "source": [
    "def PM(a, b):\n",
    "    \n",
    "    def PMC(a):\n",
    "        for i in range(2,a):\n",
    "            if (a%i==0):\n",
    "                return False\n",
    "        return True\n",
    "    \n",
    "    A = [i for i in range(2, a+1) if PMC(i)][:b]\n",
    "    \n",
    "    return set(A)    \n",
    "\n",
    "A = 100\n",
    "B = 5\n",
    "print('First 5 prime num: ',PM(A,B))"
   ]
  },
  {
   "cell_type": "markdown",
   "id": "a8b7e071-eed5-4b8f-8a92-b7311973b959",
   "metadata": {},
   "source": [
    "22. Check if two sets are identical."
   ]
  },
  {
   "cell_type": "code",
   "execution_count": 97,
   "id": "de910f7e-4982-4649-b56a-44f2df412642",
   "metadata": {},
   "outputs": [
    {
     "name": "stdout",
     "output_type": "stream",
     "text": [
      "Both are identical\n"
     ]
    }
   ],
   "source": [
    "A = {1,2,3,4}\n",
    "B = {1,2,3,4}\n",
    "\n",
    "if A == B:\n",
    "    print('Both are identical')\n",
    "else:\n",
    "    print('Both are not identical')"
   ]
  },
  {
   "cell_type": "markdown",
   "id": "f4e26404-8616-46c8-b5c5-79f1f2dc68c1",
   "metadata": {},
   "source": [
    "23. Create a frozen set"
   ]
  },
  {
   "cell_type": "code",
   "execution_count": 98,
   "id": "7e8ad199-b92b-46bc-ac21-5a1016b1e794",
   "metadata": {},
   "outputs": [
    {
     "name": "stdout",
     "output_type": "stream",
     "text": [
      "Forzen Set :  frozenset({1, 2, 3, 4, 5, 6})\n"
     ]
    }
   ],
   "source": [
    "A = {1,2,3,4,5,6}\n",
    "B = frozenset(A)\n",
    "print('Forzen Set : ',B)"
   ]
  },
  {
   "cell_type": "markdown",
   "id": "b0bcf097-0ed6-4f1d-8f55-68b309723603",
   "metadata": {},
   "source": [
    "24. Check if a set is disjoint with another set."
   ]
  },
  {
   "cell_type": "code",
   "execution_count": 105,
   "id": "ae15510b-730b-4254-8eee-f78bc7d3f3c0",
   "metadata": {},
   "outputs": [
    {
     "name": "stdout",
     "output_type": "stream",
     "text": [
      "Disjoint with Another set : True\n"
     ]
    }
   ],
   "source": [
    "A = {1,2,3,4}\n",
    "B = {6,7,8,9}\n",
    "C = A.isdisjoint(B)\n",
    "print('Disjoint with Another set :',C)"
   ]
  },
  {
   "cell_type": "markdown",
   "id": "108bde62-6ade-419a-aa17-75491d8d39d1",
   "metadata": {},
   "source": [
    "25. Create a set of squares of numbers from 1 to 5."
   ]
  },
  {
   "cell_type": "code",
   "execution_count": 110,
   "id": "b9dc2bf3-7fab-42da-9639-02c745902a0a",
   "metadata": {},
   "outputs": [
    {
     "name": "stdout",
     "output_type": "stream",
     "text": [
      "Squared Value : {1, 4, 9, 16, 25}\n"
     ]
    }
   ],
   "source": [
    "A = {1,2,3,4,5}\n",
    "print('Squared Value :',{i*i for i in A})"
   ]
  },
  {
   "cell_type": "markdown",
   "id": "4ad76497-9814-4dc5-bed1-c474e3edc425",
   "metadata": {},
   "source": [
    "26. Filter out all even numbers from a set.\n",
    "27. Multiply all elements in a set by 2."
   ]
  },
  {
   "cell_type": "code",
   "execution_count": 113,
   "id": "29740619-d815-43f5-a692-0098c3a0a714",
   "metadata": {},
   "outputs": [
    {
     "name": "stdout",
     "output_type": "stream",
     "text": [
      "Even Number : {2, 4, 6, 8, 10}\n",
      "Multiply by 2 : {2, 4, 6, 8, 10, 12, 14, 16, 18, 20}\n"
     ]
    }
   ],
   "source": [
    "A = {1,2,3,4,5,6,7,8,9,10}\n",
    "print('Even Number :',{i for i in A if i not in range(1,100000,2)})\n",
    "print('Multiply by 2 :',{i*2 for i in A})"
   ]
  },
  {
   "cell_type": "markdown",
   "id": "93e2bae2-9f4c-4dcf-93fb-be1df1e05015",
   "metadata": {},
   "source": [
    "28. Create a set of random numbers.\n",
    "29. Check if a set is empty.\n",
    "30. Create a nested set (hint: use frozenset)."
   ]
  },
  {
   "cell_type": "code",
   "execution_count": 115,
   "id": "1f7df353-1df8-4299-9d1b-3611299f1c59",
   "metadata": {},
   "outputs": [
    {
     "name": "stdout",
     "output_type": "stream",
     "text": [
      "Random Number : {11, 80, 49, 16, 83, 56, 26, 28, 61, 94}\n"
     ]
    }
   ],
   "source": [
    "import random\n",
    "A = random.sample(range(1,100),10)\n",
    "print('Random Number :',set(A))"
   ]
  },
  {
   "cell_type": "code",
   "execution_count": 116,
   "id": "223758d7-fe51-4f2d-9bc6-56268c7f388e",
   "metadata": {},
   "outputs": [
    {
     "name": "stdout",
     "output_type": "stream",
     "text": [
      "The set is empty\n"
     ]
    }
   ],
   "source": [
    "B = set()\n",
    "\n",
    "if not B:\n",
    "    print('The set is empty')\n",
    "else:\n",
    "    print('The set is not empty')"
   ]
  },
  {
   "cell_type": "code",
   "execution_count": 118,
   "id": "778780f6-c2dc-4e02-b832-73b944378ac2",
   "metadata": {},
   "outputs": [
    {
     "name": "stdout",
     "output_type": "stream",
     "text": [
      "Nested Set: frozenset({frozenset({1, 2, 3}), frozenset({4, 5})})\n"
     ]
    }
   ],
   "source": [
    "nested_set = frozenset([frozenset({1, 2,3}), frozenset({4, 5})])\n",
    "print('Nested Set:', nested_set)"
   ]
  },
  {
   "cell_type": "markdown",
   "id": "561dbff0-bf4d-4792-91c7-a0470ca76d79",
   "metadata": {},
   "source": [
    "31. Remove an element from a set using the discard method."
   ]
  },
  {
   "cell_type": "code",
   "execution_count": 124,
   "id": "0d7e2610-2545-48cc-ba37-83031c570d22",
   "metadata": {},
   "outputs": [
    {
     "name": "stdout",
     "output_type": "stream",
     "text": [
      "Using discard method : {1, 2, 3, 4, 6, 7, 8, 9, 10}\n"
     ]
    }
   ],
   "source": [
    "A = set(range(1,11))\n",
    "A.discard(5)\n",
    "print('Using discard method :',A)"
   ]
  },
  {
   "cell_type": "markdown",
   "id": "596c2a32-c12b-4dc1-8e5d-5edca6f47a24",
   "metadata": {},
   "source": [
    "32. Compare two sets."
   ]
  },
  {
   "cell_type": "code",
   "execution_count": 127,
   "id": "21d827f6-a110-4def-a6ac-ebfb101ba863",
   "metadata": {},
   "outputs": [
    {
     "name": "stdout",
     "output_type": "stream",
     "text": [
      "The sets are equal\n"
     ]
    }
   ],
   "source": [
    "set1 = {1, 2, 3}\n",
    "set2 = {3, 2, 1}\n",
    "\n",
    "if set1 == set2:\n",
    "    print('The sets are equal')\n",
    "else:\n",
    "    print('The sets are not equal')"
   ]
  },
  {
   "cell_type": "markdown",
   "id": "9f1f6021-bfaa-4cf2-a646-5418ebc94f1f",
   "metadata": {},
   "source": [
    "33. Create a set from a string.\n",
    "34. Convert a set of strings to a set of integers.\n",
    "35. Convert a set of integers to a set of strings.\n",
    "36. Create a set from a tuple.\n",
    "37. Convert a set to a tuple.\n",
    "38. Find the maximum value in a set.\n",
    "39. Find the minimum value in a set.\n",
    "40. Create a set from user input."
   ]
  },
  {
   "cell_type": "code",
   "execution_count": 141,
   "id": "1f3df301-cab2-4ecc-8657-7f1be3301dba",
   "metadata": {},
   "outputs": [
    {
     "name": "stdout",
     "output_type": "stream",
     "text": [
      "String to set : {' ', 'i', 'a', 't', 'e', 'n', 'D', 'c', 'S'}\n",
      "Sting to integer: {1, 2, 3, 4, 5, 6}\n",
      "integer to Sting: {'2', '5', '3', '4', '1', '6'}\n",
      "Tuple to Set: {1, 2, 3, 4, 5}\n",
      "Set to Tuple: {1, 2, 3, 4, 5, 6}\n",
      "Maximum Value: 6\n",
      "Minimum Value: 1\n"
     ]
    },
    {
     "name": "stdin",
     "output_type": "stream",
     "text": [
      "Enter a value here  123456\n"
     ]
    },
    {
     "name": "stdout",
     "output_type": "stream",
     "text": [
      "User input:  {'2', '5', '3', '4', '1', '6'}\n"
     ]
    }
   ],
   "source": [
    "A = 'Data Science'\n",
    "C = set([c for c in A])\n",
    "print('String to set :',C)\n",
    "\n",
    "B = {'1','2','3','4','5','6'}\n",
    "D = {1,2,3,4,5,6}\n",
    "E = (1,2,3,4,5)\n",
    "print('Sting to integer:',{int(c) for c in B})\n",
    "print('integer to Sting:',{str(c) for c in D})\n",
    "print('Tuple to Set:', set(E))\n",
    "print('Set to Tuple:', set(D))\n",
    "print('Maximum Value:',max(D))\n",
    "print('Minimum Value:',min(D))\n",
    "print('User input: ', set(input('Enter a value here ')))"
   ]
  },
  {
   "cell_type": "markdown",
   "id": "52cdd02e-2be1-45b2-ac73-ddb6fef09c58",
   "metadata": {},
   "source": [
    "41. Check if the intersection of two sets is empty."
   ]
  },
  {
   "cell_type": "code",
   "execution_count": 144,
   "id": "2f30a9e0-cbc5-424e-835a-00f42a42aedb",
   "metadata": {},
   "outputs": [
    {
     "name": "stdout",
     "output_type": "stream",
     "text": [
      "The intersection of set1 and set2 is empty\n"
     ]
    }
   ],
   "source": [
    "A = {1, 2, 3}\n",
    "B = {4, 5, 6}\n",
    "C = A.isdisjoint(B)\n",
    "\n",
    "if C:\n",
    "    print('The intersection of set1 and set2 is empty')\n",
    "else:\n",
    "    print('The intersection of set1 and set2 is not empty')"
   ]
  },
  {
   "cell_type": "markdown",
   "id": "18fc44a7-901d-4209-8cfe-0f833f0f17ff",
   "metadata": {},
   "source": [
    "42. Create a set of the first 5 Fibonacci numbers."
   ]
  },
  {
   "cell_type": "code",
   "execution_count": 145,
   "id": "14e1bb93-8663-40e9-97e7-f9651948e8be",
   "metadata": {},
   "outputs": [
    {
     "name": "stdout",
     "output_type": "stream",
     "text": [
      "Fibonacci Number : {1, 2, 3, 5, 8}\n"
     ]
    }
   ],
   "source": [
    "def fab(a):\n",
    "    N = [1,2]\n",
    "    for i in range(1,1000000+1):\n",
    "        s = N[-2] + N[-1]\n",
    "        N.append(s)\n",
    "        if len(N) == a:\n",
    "            break\n",
    "    return N\n",
    "print('Fibonacci Number :', set(fab(5)))"
   ]
  },
  {
   "cell_type": "markdown",
   "id": "dc2e8fdd-18c7-4d58-8899-7c9d9319cb29",
   "metadata": {},
   "source": [
    "43. Remove duplicates from a list using sets."
   ]
  },
  {
   "cell_type": "code",
   "execution_count": 146,
   "id": "a516cefd-f005-4928-823d-7ffc5d182d61",
   "metadata": {},
   "outputs": [
    {
     "name": "stdout",
     "output_type": "stream",
     "text": [
      "Removing duplicate from list : {1, 2, 3, 4, 5, 7, 8, 9}\n"
     ]
    }
   ],
   "source": [
    "A = [1,2,2,3,4,4,4,5,7,8,8,9]\n",
    "print('Removing duplicate from list :',set(A))"
   ]
  },
  {
   "cell_type": "markdown",
   "id": "67c58e19-a0e7-4c8e-9988-8a6ee2399069",
   "metadata": {},
   "source": [
    "44. Check if two sets have the same elements, regardless of their count."
   ]
  },
  {
   "cell_type": "code",
   "execution_count": 148,
   "id": "afec8750-2864-4584-8827-8ef1bdd22efd",
   "metadata": {},
   "outputs": [
    {
     "name": "stdout",
     "output_type": "stream",
     "text": [
      "A and B do not have the same elements (regardless of count)\n"
     ]
    }
   ],
   "source": [
    "A = {1, 2, 3}\n",
    "B = {4, 2, 1}\n",
    "C = A == B\n",
    "\n",
    "if C:\n",
    "    print('A and B have the same elements (regardless of count)')\n",
    "else:\n",
    "    print('A and B do not have the same elements (regardless of count)')"
   ]
  },
  {
   "cell_type": "markdown",
   "id": "5449c0d1-db89-4e14-a64f-e5c86155b5cc",
   "metadata": {},
   "source": [
    "45. Create a set of the first `n` powers of 2."
   ]
  },
  {
   "cell_type": "code",
   "execution_count": 149,
   "id": "a3ad03ea-f1e9-41ef-a1aa-680284f0a840",
   "metadata": {},
   "outputs": [
    {
     "name": "stdout",
     "output_type": "stream",
     "text": [
      "Creating set : {0, 2, 4, 6, 8}\n"
     ]
    }
   ],
   "source": [
    "n = 5\n",
    "print('Creating set :',set([i*2 for i in range(n)]))"
   ]
  },
  {
   "cell_type": "markdown",
   "id": "d671d196-36f0-441f-8a38-e6ff5b8c2d27",
   "metadata": {},
   "source": [
    "46. Find the common elements between a set and a list."
   ]
  },
  {
   "cell_type": "code",
   "execution_count": 150,
   "id": "1234c58e-c8bf-424b-bb06-f82e5768a7ca",
   "metadata": {},
   "outputs": [
    {
     "name": "stdout",
     "output_type": "stream",
     "text": [
      "Common Element : [4, 5]\n"
     ]
    }
   ],
   "source": [
    "A = {1,2,3,4,5}\n",
    "B = [4,5,6,7,8]\n",
    "print('Common Element :',[a for a in A if a in B])"
   ]
  },
  {
   "cell_type": "markdown",
   "id": "bacf4a04-68c8-477a-9444-8f8dff379d5b",
   "metadata": {},
   "source": [
    "47. Create a set of the first `n` triangular numbers."
   ]
  },
  {
   "cell_type": "code",
   "execution_count": 151,
   "id": "f5f7b811-4b5d-44f5-905f-f26ce2bf7591",
   "metadata": {},
   "outputs": [
    {
     "name": "stdout",
     "output_type": "stream",
     "text": [
      "Triangle Number : {1, 3, 36, 6, 10, 15, 21, 28}\n"
     ]
    }
   ],
   "source": [
    "n = 8\n",
    "print('Triangle Number :', set([(int(i*(i+1)/2)) for i in range(1,n+1)]))"
   ]
  },
  {
   "cell_type": "markdown",
   "id": "f1ec6c05-50a5-493b-ab09-9d67e159d0af",
   "metadata": {},
   "source": [
    "48. Check if a set contains another set as a subset."
   ]
  },
  {
   "cell_type": "code",
   "execution_count": 153,
   "id": "6fccb40b-f197-45ea-8a91-aca805ce575f",
   "metadata": {},
   "outputs": [
    {
     "name": "stdout",
     "output_type": "stream",
     "text": [
      "C contains D as a subset\n"
     ]
    }
   ],
   "source": [
    "C = {1, 2, 3, 4, 5}\n",
    "D = {3, 4}\n",
    "E = C.issuperset(D)\n",
    "\n",
    "if E:\n",
    "    print('C contains D as a subset')\n",
    "else:\n",
    "    print('C does not contain D as a subset')"
   ]
  },
  {
   "cell_type": "markdown",
   "id": "ebf8872c-fe04-4320-aa26-91b990403062",
   "metadata": {},
   "source": [
    "49. Create a set of alternating 1s and 0s of length `n`."
   ]
  },
  {
   "cell_type": "code",
   "execution_count": 154,
   "id": "a1a9c9d4-6166-4afd-8cdb-e0ebf46d48a3",
   "metadata": {},
   "outputs": [
    {
     "name": "stdout",
     "output_type": "stream",
     "text": [
      "{0, 1}\n"
     ]
    }
   ],
   "source": [
    "n = 10 \n",
    "D = set(1 if i % 2 == 0 else 0 for i in range(n))\n",
    "print(D)"
   ]
  },
  {
   "cell_type": "markdown",
   "id": "e191469e-d4ee-4b02-9b97-1b914350793d",
   "metadata": {},
   "source": [
    "50. Merge multiple sets into one."
   ]
  },
  {
   "cell_type": "code",
   "execution_count": 162,
   "id": "5f7436f4-0c83-4938-b764-7d93836a7f95",
   "metadata": {},
   "outputs": [
    {
     "name": "stdout",
     "output_type": "stream",
     "text": [
      "Merged Dataset:  {1, 2, 3, 4, 5, 6, 7, 8, 9}\n"
     ]
    }
   ],
   "source": [
    "A = {1,2,3}\n",
    "B = {4,5,6}\n",
    "C = {7,8,9}\n",
    "B.update(C)\n",
    "A.update(B)\n",
    "\n",
    "print('Merged Dataset: ',A)"
   ]
  },
  {
   "cell_type": "code",
   "execution_count": null,
   "id": "4aef7c9d-a251-440f-b8c1-d23d54c260a7",
   "metadata": {},
   "outputs": [],
   "source": []
  }
 ],
 "metadata": {
  "kernelspec": {
   "display_name": "Python 3 (ipykernel)",
   "language": "python",
   "name": "python3"
  },
  "language_info": {
   "codemirror_mode": {
    "name": "ipython",
    "version": 3
   },
   "file_extension": ".py",
   "mimetype": "text/x-python",
   "name": "python",
   "nbconvert_exporter": "python",
   "pygments_lexer": "ipython3",
   "version": "3.10.8"
  }
 },
 "nbformat": 4,
 "nbformat_minor": 5
}
