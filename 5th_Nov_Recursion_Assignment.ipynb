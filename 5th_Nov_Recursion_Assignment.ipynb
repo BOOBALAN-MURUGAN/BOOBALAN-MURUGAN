{
 "cells": [
  {
   "cell_type": "markdown",
   "metadata": {},
   "source": [
    "Q.3 Print the max value of the array [ 13, 1, -3, 22, 5]"
   ]
  },
  {
   "cell_type": "code",
   "execution_count": 172,
   "metadata": {},
   "outputs": [
    {
     "name": "stdout",
     "output_type": "stream",
     "text": [
      "22\n"
     ]
    }
   ],
   "source": [
    "number = [13,1,-3,22,5]\n",
    "\n",
    "def maxi(arr, index = 0):\n",
    "    if index == len(arr) - 1:\n",
    "        return arr[index]\n",
    "    max_value = maxi(arr, index + 1)\n",
    "    return arr[index] if arr[index] > max_value else max_value\n",
    "\n",
    "print(maxi(number))"
   ]
  },
  {
   "cell_type": "markdown",
   "metadata": {},
   "source": [
    "Q.4 Find the sum of the values of the array [92, 23, 15, -20, 10]."
   ]
  },
  {
   "cell_type": "code",
   "execution_count": 173,
   "metadata": {},
   "outputs": [
    {
     "name": "stdout",
     "output_type": "stream",
     "text": [
      "120\n"
     ]
    }
   ],
   "source": [
    "number = [92, 23, 15, -20, 10]\n",
    "\n",
    "def sum_arr(arr, index = 0):\n",
    "    if index == len(arr) -1:\n",
    "        return arr[index]\n",
    "    return arr[index]+sum_arr(arr, index+1)\n",
    "\n",
    "print(sum_arr(number))"
   ]
  },
  {
   "cell_type": "markdown",
   "metadata": {},
   "source": [
    "Q.5 Given a number n. Print if it is an armstrong number or not.An armstrong number is a number if the sum\n",
    "of every digit in that number raised to the power of total digits in that number is equal to the number."
   ]
  },
  {
   "cell_type": "code",
   "execution_count": 174,
   "metadata": {},
   "outputs": [
    {
     "data": {
      "text/plain": [
       "False"
      ]
     },
     "execution_count": 174,
     "metadata": {},
     "output_type": "execute_result"
    }
   ],
   "source": [
    "class armstrong1():\n",
    "    def count(self, number):\n",
    "        if number == 0:\n",
    "            return 0\n",
    "        return number%10\n",
    "    \n",
    "    def armstrong2(self, number, last_digit):\n",
    "        if number < 10:\n",
    "            return number ** last_digit\n",
    "        last_value = number % 10\n",
    "        return (last_value ** last_digit) + self.armstrong2(number // 10, last_digit)\n",
    "    \n",
    "    def armstrong(self,number):\n",
    "        last_digit = self.count(number)\n",
    "        result = self.armstrong2(number, last_digit)\n",
    "        if result == number:\n",
    "            return True\n",
    "        else:\n",
    "            return False\n",
    "    \n",
    "arm = armstrong1()\n",
    "arm.armstrong(156)\n",
    "\n",
    "\n",
    "\n",
    "#print(is_armstrong_recursive(153, 3))"
   ]
  },
  {
   "cell_type": "markdown",
   "metadata": {},
   "source": [
    "Q.2 Given two strings word1 and word2, return the minimum number of operations required to convert word1 to word2."
   ]
  },
  {
   "cell_type": "code",
   "execution_count": 167,
   "metadata": {},
   "outputs": [
    {
     "name": "stdout",
     "output_type": "stream",
     "text": [
      "4\n"
     ]
    }
   ],
   "source": [
    "def min_distance(word1, word2):\n",
    "    def helper(i, j):\n",
    "        if i == 0:\n",
    "            return j\n",
    "        if j == 0:\n",
    "            return i\n",
    "\n",
    "        if word1[i - 1] == word2[j - 1]:\n",
    "            return helper(i - 1, j - 1)\n",
    "        else:\n",
    "            insert = helper(i, j - 1)\n",
    "            delete = helper(i - 1, j)\n",
    "            replace = helper(i - 1, j - 1)\n",
    "            return 1 + min(insert, delete, replace)\n",
    "\n",
    "    return helper(len(word1), len(word2))\n",
    "\n",
    "word1 = \"horse\"\n",
    "word2 = \"rox\"\n",
    "result = min_distance(word1, word2)\n",
    "print(result)\n"
   ]
  }
 ],
 "metadata": {
  "kernelspec": {
   "display_name": "Python 3",
   "language": "python",
   "name": "python3"
  },
  "language_info": {
   "codemirror_mode": {
    "name": "ipython",
    "version": 3
   },
   "file_extension": ".py",
   "mimetype": "text/x-python",
   "name": "python",
   "nbconvert_exporter": "python",
   "pygments_lexer": "ipython3",
   "version": "3.12.0"
  }
 },
 "nbformat": 4,
 "nbformat_minor": 2
}
