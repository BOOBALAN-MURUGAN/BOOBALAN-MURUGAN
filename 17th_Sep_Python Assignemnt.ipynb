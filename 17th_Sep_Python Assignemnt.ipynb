{
 "cells": [
  {
   "cell_type": "markdown",
   "id": "af23441f-f7a0-487b-add4-68324c452fd5",
   "metadata": {},
   "source": [
    "##For Loop"
   ]
  },
  {
   "cell_type": "markdown",
   "id": "42fc1730-0a88-4294-8d00-384aab0ef809",
   "metadata": {},
   "source": [
    "1) Write a Python program to print numbers from 1 to 10 using a for loop."
   ]
  },
  {
   "cell_type": "code",
   "execution_count": 16,
   "id": "b241f5c5-ea27-4dbf-a011-e863d359dd4d",
   "metadata": {},
   "outputs": [
    {
     "name": "stdin",
     "output_type": "stream",
     "text": [
      "Enter a num 10\n"
     ]
    },
    {
     "name": "stdout",
     "output_type": "stream",
     "text": [
      "[1, 2, 3, 4, 5, 6, 7, 8, 9, 10]\n"
     ]
    }
   ],
   "source": [
    "s = int(input('Enter a num'))\n",
    "A = [i for i in range(1,s+1)]\n",
    "print(A)"
   ]
  },
  {
   "cell_type": "markdown",
   "id": "f24974d4-13d0-4665-9e91-1a58cb04ceb4",
   "metadata": {},
   "source": [
    "2) Explain the difference between a for loop and a while loop in Python."
   ]
  },
  {
   "cell_type": "code",
   "execution_count": 42,
   "id": "7ae15ffa-b687-466a-99da-5b066c2632b3",
   "metadata": {},
   "outputs": [
    {
     "name": "stdout",
     "output_type": "stream",
     "text": [
      "[1, 2, 3, 4, 5, 6, 7, 8, 9, 10]\n",
      "1 2 3 4 5 "
     ]
    }
   ],
   "source": [
    "#For Loop is to perform till the end but while loop will perform till condition has been fulfilled eg:\n",
    "\n",
    "A = [i for i in range(1,11)]\n",
    "print(A)\n",
    "\n",
    "a = 0\n",
    "while a <5:\n",
    "    a += 1\n",
    "    print(a, end=' ')"
   ]
  },
  {
   "cell_type": "markdown",
   "id": "940a021a-3e06-47e0-b6e4-e74616d1b0f9",
   "metadata": {},
   "source": [
    "3) Write a Python program to calculate the sum of all numbers from 1 to 100 using a for loop."
   ]
  },
  {
   "cell_type": "code",
   "execution_count": 43,
   "id": "cdb1bef7-47af-4aba-80e6-1ee4f32fd018",
   "metadata": {},
   "outputs": [
    {
     "name": "stdout",
     "output_type": "stream",
     "text": [
      "5050\n"
     ]
    }
   ],
   "source": [
    "A = sum(i for i in range(1,101))\n",
    "print(A)"
   ]
  },
  {
   "cell_type": "markdown",
   "id": "7483d7aa-d110-411f-aa9f-bde4b450c118",
   "metadata": {},
   "source": [
    "4) How do you iterate through a list using a for loop in Python?"
   ]
  },
  {
   "cell_type": "code",
   "execution_count": 45,
   "id": "3af5a044-99ce-4f93-a34c-dba2e8fd6937",
   "metadata": {},
   "outputs": [
    {
     "name": "stdout",
     "output_type": "stream",
     "text": [
      "1 2 3 4 5 "
     ]
    }
   ],
   "source": [
    "B = [1,2,3,4,5]\n",
    "for i in B:\n",
    "    print(i, end = ' ')"
   ]
  },
  {
   "cell_type": "markdown",
   "id": "e13dc35f-861e-4ba9-957e-322ecde4267d",
   "metadata": {},
   "source": [
    "5) Write a Python program to find the product of all elements in a list using a for loop."
   ]
  },
  {
   "cell_type": "code",
   "execution_count": 51,
   "id": "4520b3ab-1947-48a1-b5bd-08956c09bacd",
   "metadata": {},
   "outputs": [
    {
     "name": "stdout",
     "output_type": "stream",
     "text": [
      "720\n"
     ]
    }
   ],
   "source": [
    "P = 1\n",
    "L = [2,3,4,5,6]\n",
    "for i in L:\n",
    "    P *=i\n",
    "print(P)"
   ]
  },
  {
   "cell_type": "markdown",
   "id": "eb285a74-19b9-4776-b5a3-4dc7c7589d00",
   "metadata": {},
   "source": [
    "6) Create a Python program that prints all even numbers from 1 to 20 using a for loop."
   ]
  },
  {
   "cell_type": "code",
   "execution_count": 52,
   "id": "7d104111-26fb-4fca-974e-2b3af910bb97",
   "metadata": {},
   "outputs": [
    {
     "name": "stdout",
     "output_type": "stream",
     "text": [
      "[2, 4, 6, 8, 10, 12, 14, 16, 18, 20]\n"
     ]
    }
   ],
   "source": [
    "A = [i for i in range(1,21) if i%2 ==0]\n",
    "print(A)"
   ]
  },
  {
   "cell_type": "markdown",
   "id": "981685e6-4683-463f-bc8c-b6cbcf134d69",
   "metadata": {},
   "source": [
    "7) Write a Python program that calculates the factorial of a number using a for loop."
   ]
  },
  {
   "cell_type": "code",
   "execution_count": 54,
   "id": "46f14d3b-4011-4516-9cb7-a6c4ed6452df",
   "metadata": {},
   "outputs": [
    {
     "name": "stdout",
     "output_type": "stream",
     "text": [
      "120\n"
     ]
    }
   ],
   "source": [
    "P = 1\n",
    "for i in range(1,6):\n",
    "    P *=i\n",
    "print(P)"
   ]
  },
  {
   "cell_type": "markdown",
   "id": "9c35c927-5eee-4863-a400-dc9407725ee0",
   "metadata": {},
   "source": [
    "8) How can you iterate through the characters of a string using a for loop in Python?"
   ]
  },
  {
   "cell_type": "code",
   "execution_count": 56,
   "id": "f9023938-0e60-4f6f-b543-8e1f683c9613",
   "metadata": {},
   "outputs": [
    {
     "name": "stdout",
     "output_type": "stream",
     "text": [
      "P W _ S k i l l s "
     ]
    }
   ],
   "source": [
    "for i in 'PW_Skills':\n",
    "    print(i, end=' ')"
   ]
  },
  {
   "cell_type": "markdown",
   "id": "01f47513-47eb-48e0-8ec8-732880fddb26",
   "metadata": {},
   "source": [
    "9) Write a Python program to find the largest number in a list using a for loop."
   ]
  },
  {
   "cell_type": "code",
   "execution_count": 59,
   "id": "e84faf32-5a63-40af-b017-41752fd43a89",
   "metadata": {},
   "outputs": [
    {
     "data": {
      "text/plain": [
       "9"
      ]
     },
     "execution_count": 59,
     "metadata": {},
     "output_type": "execute_result"
    }
   ],
   "source": [
    "max(i for i in range(1,10))"
   ]
  },
  {
   "cell_type": "markdown",
   "id": "12ee82a3-7817-4b47-9c6c-abb0198de4d4",
   "metadata": {},
   "source": [
    "10) Create a Python program that prints the Fibonacci sequence up to a specified limit using a for loop."
   ]
  },
  {
   "cell_type": "code",
   "execution_count": 78,
   "id": "4bca886e-da77-4f24-ad2f-ed5b52dbc3d9",
   "metadata": {},
   "outputs": [
    {
     "name": "stdout",
     "output_type": "stream",
     "text": [
      "[1, 1, 2, 3, 5, 8]\n"
     ]
    }
   ],
   "source": [
    "def fib (A):\n",
    "    New = [1,1]\n",
    "    for _ in range (1,A):\n",
    "        B = New[-1]+New[-2]\n",
    "        if B >= A:\n",
    "            break\n",
    "        New.append(B)\n",
    "    return New\n",
    "print(fib(10))"
   ]
  },
  {
   "cell_type": "markdown",
   "id": "2e162e3c-6d08-4ae7-b5c7-bf44242ff3c3",
   "metadata": {},
   "source": [
    "11) Write a Python program to count the number of vowels in a given string using a for loop."
   ]
  },
  {
   "cell_type": "code",
   "execution_count": 5,
   "id": "f722d72c-fdb9-4874-b5d1-03c1c8de4126",
   "metadata": {},
   "outputs": [
    {
     "name": "stdout",
     "output_type": "stream",
     "text": [
      "2\n"
     ]
    }
   ],
   "source": [
    "def VW(a):\n",
    "    A = 'aeiou'\n",
    "    S=[]\n",
    "    for i in a:\n",
    "        if i.lower() in A:\n",
    "            S.append(i)\n",
    "    return len(S)\n",
    "print(VW('Ravi'))"
   ]
  },
  {
   "cell_type": "markdown",
   "id": "f0e713fc-cad6-4e0f-b8da-2d984edabbf9",
   "metadata": {},
   "source": [
    "12) Create a Python program that generates a multiplication table for a given number using a for loop."
   ]
  },
  {
   "cell_type": "code",
   "execution_count": 6,
   "id": "510144ca-a03d-44fd-a51e-b31ec3525132",
   "metadata": {},
   "outputs": [
    {
     "name": "stdout",
     "output_type": "stream",
     "text": [
      "Multiplication table of 5\n",
      "5 x 1 = 5 \n",
      "5 x 2 = 10 \n",
      "5 x 3 = 15 \n",
      "5 x 4 = 20 \n",
      "5 x 5 = 25 \n"
     ]
    }
   ],
   "source": [
    "def mul(a,b):\n",
    "    print(f'Multiplication table of {a}')\n",
    "    for i in range(1,b+1):\n",
    "        c = i*a\n",
    "        print(f'{a} x {i} = {c} ')\n",
    "    return\n",
    "\n",
    "mul(5,5)"
   ]
  },
  {
   "cell_type": "markdown",
   "id": "daa1fe75-9a28-453a-ae2f-f65db2eb64ad",
   "metadata": {},
   "source": [
    "13) Write a Python program to reverse a list using a for loop."
   ]
  },
  {
   "cell_type": "code",
   "execution_count": 14,
   "id": "1e8feacf-d52e-432d-9856-56b3a8207c39",
   "metadata": {},
   "outputs": [
    {
     "name": "stdout",
     "output_type": "stream",
     "text": [
      "[6, 5, 4, 3, 2, 1]\n"
     ]
    }
   ],
   "source": [
    "A = [1,2,3,4,5,6]\n",
    "B = []\n",
    "for i in A:\n",
    "    B.insert(0,i)\n",
    "print(B)"
   ]
  },
  {
   "cell_type": "markdown",
   "id": "fc889757-bb45-44d7-a2f3-fd62ac7955b2",
   "metadata": {},
   "source": [
    "14) Write a Python program to find the common elements between two lists using a for loop."
   ]
  },
  {
   "cell_type": "code",
   "execution_count": 17,
   "id": "d9314b08-053a-4d78-964a-04a4e985d91c",
   "metadata": {},
   "outputs": [
    {
     "name": "stdout",
     "output_type": "stream",
     "text": [
      "5 6 7 "
     ]
    }
   ],
   "source": [
    "A = [1,2,3,4,5,6,7]\n",
    "B = [5,6,7,8,9,10]\n",
    "for i in A:\n",
    "    if i in B:\n",
    "        print(i, end=' ')"
   ]
  },
  {
   "cell_type": "markdown",
   "id": "de166e7d-5b49-4fa3-b5b1-0b87547a80dd",
   "metadata": {},
   "source": [
    "15) Explain how to use a for loop to iterate through the keys and values of a dictionary in Python."
   ]
  },
  {
   "cell_type": "markdown",
   "id": "172b2285-c489-4cae-9889-8b3bad989e66",
   "metadata": {},
   "source": [
    "Generally we give one temp variable but for dict we need to give two variable like A, b. (E.g). A = {1:2, 3:4}\n",
    "for a, b in A.items():"
   ]
  },
  {
   "cell_type": "markdown",
   "id": "fa298e4a-fa31-4337-beaf-6ca9ac80bf6a",
   "metadata": {},
   "source": [
    "16) Write a Python program to find the GCD (Greatest Common Divisor) of two numbers using a for loop."
   ]
  },
  {
   "cell_type": "code",
   "execution_count": 21,
   "id": "ee97f30e-4c15-4ded-955a-661e944cc0d2",
   "metadata": {},
   "outputs": [
    {
     "name": "stdin",
     "output_type": "stream",
     "text": [
      "Enter the first number:  12\n",
      "Enter the second number:  36\n"
     ]
    },
    {
     "name": "stdout",
     "output_type": "stream",
     "text": [
      "The GCD of 12 and 36 is 12\n"
     ]
    }
   ],
   "source": [
    "def find_gcd(a, b):\n",
    "    while b:\n",
    "        a, b = b, a % b\n",
    "    return a\n",
    "num1 = int(input(\"Enter the first number: \"))\n",
    "num2 = int(input(\"Enter the second number: \"))\n",
    "gcd = find_gcd(num1, num2)\n",
    "print(\"The GCD of\", num1, \"and\", num2, \"is\", gcd)"
   ]
  },
  {
   "cell_type": "markdown",
   "id": "2d91e208-effb-4302-8134-5f9f80119a0c",
   "metadata": {},
   "source": [
    "17) Create a Python program that checks if a string is a palindrome using a for loop."
   ]
  },
  {
   "cell_type": "code",
   "execution_count": 32,
   "id": "d3c494b3-8fa6-48e0-8e4e-27ae577adfaf",
   "metadata": {},
   "outputs": [
    {
     "data": {
      "text/plain": [
       "True"
      ]
     },
     "execution_count": 32,
     "metadata": {},
     "output_type": "execute_result"
    }
   ],
   "source": [
    "def pal(a):\n",
    "    return a == a[::-1]\n",
    "pal('level')"
   ]
  },
  {
   "cell_type": "markdown",
   "id": "9402994b-f5b7-47bc-948d-9675212f6dad",
   "metadata": {},
   "source": [
    "18) Write a Python program to remove duplicates from a list using a for loop."
   ]
  },
  {
   "cell_type": "code",
   "execution_count": 34,
   "id": "ac7687cc-12d7-4ca7-9821-91d42dba0be2",
   "metadata": {},
   "outputs": [
    {
     "name": "stdout",
     "output_type": "stream",
     "text": [
      "[1, 2, 3, 4, 5, 6, 7]\n"
     ]
    }
   ],
   "source": [
    "A = [1,1,2,3,4,4,5,6,7,7]\n",
    "B = []\n",
    "for i in A:\n",
    "    if i not in B:\n",
    "        B.append(i)\n",
    "print(B)"
   ]
  },
  {
   "cell_type": "markdown",
   "id": "3158aeb6-b07c-4f6d-b110-9aef2c1d6900",
   "metadata": {},
   "source": [
    "19) Create a Python program that counts the number of words in a sentence using a for loop."
   ]
  },
  {
   "cell_type": "code",
   "execution_count": 43,
   "id": "0ae54e67-cd0a-4338-9f1f-b4ba07c9b2a5",
   "metadata": {},
   "outputs": [
    {
     "name": "stdout",
     "output_type": "stream",
     "text": [
      "Number of word is  8\n"
     ]
    }
   ],
   "source": [
    "A = \"I am working on the data science project\"\n",
    "B = sum([1 for i in A.split()])\n",
    "print('Number of word is ', B)"
   ]
  },
  {
   "cell_type": "markdown",
   "id": "7d3b9306-99de-4018-b381-102553157904",
   "metadata": {},
   "source": [
    "20) Write a Python program to find the sum of all odd numbers from 1 to 50 using a for loop."
   ]
  },
  {
   "cell_type": "code",
   "execution_count": 44,
   "id": "919f2da2-09cd-4a0a-9097-161c9fcaf759",
   "metadata": {},
   "outputs": [
    {
     "name": "stdout",
     "output_type": "stream",
     "text": [
      "[1, 3, 5, 7, 9, 11, 13, 15, 17, 19, 21, 23, 25, 27, 29, 31, 33, 35, 37, 39, 41, 43, 45, 47, 49]\n"
     ]
    }
   ],
   "source": [
    "A = [i for i in range(1,51) if i%2 !=0]\n",
    "print(A)"
   ]
  },
  {
   "cell_type": "markdown",
   "id": "e304d542-9bf3-419d-bff4-129473e6913d",
   "metadata": {},
   "source": [
    "21) Write a Python program that checks if a given year is a leap year using a for loop."
   ]
  },
  {
   "cell_type": "code",
   "execution_count": 49,
   "id": "eea663b2-afa8-4744-a3ed-b729d3bab57a",
   "metadata": {},
   "outputs": [
    {
     "name": "stdin",
     "output_type": "stream",
     "text": [
      "Enter a year 2016\n"
     ]
    },
    {
     "name": "stdout",
     "output_type": "stream",
     "text": [
      "[True]\n"
     ]
    }
   ],
   "source": [
    "A = int(input('Enter a year'))\n",
    "B = [True if A%4 ==0 else False]\n",
    "print(B)"
   ]
  },
  {
   "cell_type": "markdown",
   "id": "d0949f8d-8b1e-4890-ade5-19dd86583ceb",
   "metadata": {},
   "source": [
    "22) Create a Python program that calculates the square root of a number using a for loop."
   ]
  },
  {
   "cell_type": "code",
   "execution_count": 50,
   "id": "ad30ea26-0197-4656-a24b-4bb02d3d45f6",
   "metadata": {},
   "outputs": [
    {
     "name": "stdout",
     "output_type": "stream",
     "text": [
      "[1, 4, 9, 16, 25, 36, 49, 64, 81]\n"
     ]
    }
   ],
   "source": [
    "A= [i*i for i in range(1,10)]\n",
    "print(A)"
   ]
  },
  {
   "cell_type": "markdown",
   "id": "e9f079fb-1505-40e9-a435-68b6435b166d",
   "metadata": {},
   "source": [
    "23) Write a Python program to find the LCM (Least Common Multiple) of two numbers using a for loop."
   ]
  },
  {
   "cell_type": "code",
   "execution_count": 61,
   "id": "850a05c2-3777-4cd4-8513-a854ad856018",
   "metadata": {},
   "outputs": [
    {
     "name": "stdin",
     "output_type": "stream",
     "text": [
      "Enter the first number:  12\n",
      "Enter the second number:  18\n"
     ]
    },
    {
     "name": "stdout",
     "output_type": "stream",
     "text": [
      "The LCM of 12 and 18 is 36\n"
     ]
    }
   ],
   "source": [
    "def find_lcm(a, b):\n",
    "    max_num = max(a, b)\n",
    "    while True:\n",
    "        if max_num % a == 0 and max_num % b == 0:\n",
    "            lcm = max_num\n",
    "            break\n",
    "        max_num += 1\n",
    "    return lcm\n",
    "\n",
    "num1 = int(input(\"Enter the first number: \"))\n",
    "num2 = int(input(\"Enter the second number: \"))\n",
    "lcm = find_lcm(num1, num2)\n",
    "print(\"The LCM of\", num1, \"and\", num2, \"is\", lcm)"
   ]
  },
  {
   "cell_type": "markdown",
   "id": "68a4074d-745d-4dea-971a-33b54d620229",
   "metadata": {},
   "source": [
    "#If else"
   ]
  },
  {
   "cell_type": "markdown",
   "id": "4a663580-af77-4f75-ac16-5d3b51db88bf",
   "metadata": {},
   "source": [
    "1) Write a Python program to check if a number is positive, negative, or zero using an if-else statement."
   ]
  },
  {
   "cell_type": "code",
   "execution_count": 5,
   "id": "36d8d79f-651e-4ecc-815b-4384aba0ab30",
   "metadata": {},
   "outputs": [
    {
     "name": "stdin",
     "output_type": "stream",
     "text": [
      " 0\n"
     ]
    },
    {
     "name": "stdout",
     "output_type": "stream",
     "text": [
      "Zero\n"
     ]
    }
   ],
   "source": [
    "A = int(input())\n",
    "if A == 0:\n",
    "    print('Zero')\n",
    "elif A < 0:\n",
    "    print('Nagative')\n",
    "else:\n",
    "    print('Positive')"
   ]
  },
  {
   "cell_type": "markdown",
   "id": "bdde9e0e-624d-4978-b23d-0ea9382cadc3",
   "metadata": {},
   "source": [
    "2) Create a Python program that checks if a given number is even or odd using an if-else statement."
   ]
  },
  {
   "cell_type": "code",
   "execution_count": 7,
   "id": "03720d29-3b1c-4ef0-ae72-68c8f374f4d1",
   "metadata": {},
   "outputs": [
    {
     "name": "stdin",
     "output_type": "stream",
     "text": [
      " 5\n"
     ]
    },
    {
     "name": "stdout",
     "output_type": "stream",
     "text": [
      "['Odd']\n"
     ]
    }
   ],
   "source": [
    "a = int(input())\n",
    "A = ['Even' if a%2 == 0 else 'Odd']\n",
    "print(A)"
   ]
  },
  {
   "cell_type": "markdown",
   "id": "f14a5c41-297f-405c-9738-4fc247259a68",
   "metadata": {},
   "source": [
    "3) How can you use nested if-else statements in Python, and provide an example?"
   ]
  },
  {
   "cell_type": "markdown",
   "id": "accd5f9c-2705-4d78-807a-0c67e4ec5ac4",
   "metadata": {},
   "source": [
    "There is an outer if statement, and inside it another if – else statement is present and such type of statement is known as nested if statement.\n",
    "(Eg): \n",
    "if a== 'orange':\n",
    "    if size == 'Circle':\n",
    "        print('Orange')\n",
    "    else:\n",
    "        print('Wrongly Named')\n",
    "else:\n",
    "    print('provide a correct fruit name')"
   ]
  },
  {
   "cell_type": "markdown",
   "id": "61101a08-7806-4349-8b66-cc18a7e04c9e",
   "metadata": {},
   "source": [
    "4) Write a Python program to determine the largest of three numbers using if-else."
   ]
  },
  {
   "cell_type": "code",
   "execution_count": 14,
   "id": "e39f1c56-af7c-4a6e-92df-a073829beedf",
   "metadata": {},
   "outputs": [
    {
     "name": "stdout",
     "output_type": "stream",
     "text": [
      "10\n"
     ]
    }
   ],
   "source": [
    "A = [10,5,7]\n",
    "if A[0] < A[1] < A[2]:\n",
    "    print(A[2])\n",
    "elif A[0] < A[1] > A[2]:\n",
    "    print(A[1])\n",
    "else:\n",
    "    print(A[0])"
   ]
  },
  {
   "cell_type": "markdown",
   "id": "d8afe9c3-c0a5-41ea-b25c-eb27729a5ad8",
   "metadata": {},
   "source": [
    "5) Write a Python program that calculates the absolute value of a number using if-else."
   ]
  },
  {
   "cell_type": "code",
   "execution_count": 16,
   "id": "5a5de5a3-7f6c-492d-af56-eed5dfdc8e72",
   "metadata": {},
   "outputs": [
    {
     "name": "stdin",
     "output_type": "stream",
     "text": [
      " -5\n"
     ]
    },
    {
     "name": "stdout",
     "output_type": "stream",
     "text": [
      "5\n"
     ]
    }
   ],
   "source": [
    "A = int(input())\n",
    "if A < 0:\n",
    "    print(A*-1)\n",
    "else:\n",
    "    print(A)"
   ]
  },
  {
   "cell_type": "markdown",
   "id": "b88d85a4-2daf-4171-b642-f05242300462",
   "metadata": {},
   "source": [
    "6) Create a Python program that checks if a given character is a vowel or consonant using if-else."
   ]
  },
  {
   "cell_type": "code",
   "execution_count": 20,
   "id": "2e4e4240-f3c5-4e5a-964a-36eb4930e5d4",
   "metadata": {},
   "outputs": [
    {
     "name": "stdin",
     "output_type": "stream",
     "text": [
      " e\n"
     ]
    },
    {
     "name": "stdout",
     "output_type": "stream",
     "text": [
      "Vowels\n"
     ]
    }
   ],
   "source": [
    "a = str(input())\n",
    "\n",
    "if a.lower() in 'aeiou':\n",
    "    print('Vowels')\n",
    "else:\n",
    "    print('Consonant')"
   ]
  },
  {
   "cell_type": "markdown",
   "id": "0f75ed13-813d-4bb6-b350-341f7db61bea",
   "metadata": {},
   "source": [
    "7) Write a Python program to determine if a user is eligible to vote based on their age using if-else."
   ]
  },
  {
   "cell_type": "code",
   "execution_count": 22,
   "id": "c3eca6f3-fb93-4910-a40d-169dc397aeb2",
   "metadata": {},
   "outputs": [
    {
     "name": "stdin",
     "output_type": "stream",
     "text": [
      " 29\n"
     ]
    },
    {
     "name": "stdout",
     "output_type": "stream",
     "text": [
      "Eligible for Vote\n"
     ]
    }
   ],
   "source": [
    "A = int(input())\n",
    "if A > 18:\n",
    "    print('Eligible for Vote')\n",
    "else:\n",
    "    print('Not Eligible for vote')"
   ]
  },
  {
   "cell_type": "markdown",
   "id": "321a5bd8-a212-498e-af9d-6668ba5ffbaf",
   "metadata": {},
   "source": [
    "8) Create a Python program that calculates the discount amount based on the purchase amount using if-else."
   ]
  },
  {
   "cell_type": "code",
   "execution_count": 28,
   "id": "81880141-6da7-4138-afbc-5a50ea2d8c0a",
   "metadata": {},
   "outputs": [
    {
     "name": "stdin",
     "output_type": "stream",
     "text": [
      "Enter amount here  1500\n"
     ]
    },
    {
     "name": "stdout",
     "output_type": "stream",
     "text": [
      "10% discount applied - 1350\n"
     ]
    }
   ],
   "source": [
    "A = int(input('Enter amount here '))\n",
    "\n",
    "if A > 1000:\n",
    "    print(f'10% discount applied - {int(A-(A*10/100))}')\n",
    "elif A > 500:\n",
    "    print(f'5% discount applied - {int(A-(A*5/100))}')\n",
    "else:\n",
    "    print(f'Discount is not for eligible')"
   ]
  },
  {
   "cell_type": "markdown",
   "id": "ed4b6569-52c5-4af3-8834-d74b7561685c",
   "metadata": {},
   "source": [
    "9) Write a Python program to check if a number is within a specified range using if-else."
   ]
  },
  {
   "cell_type": "code",
   "execution_count": 1,
   "id": "01480281-96de-47ed-9411-024c8b81085c",
   "metadata": {},
   "outputs": [
    {
     "name": "stdin",
     "output_type": "stream",
     "text": [
      " 100\n"
     ]
    },
    {
     "name": "stdout",
     "output_type": "stream",
     "text": [
      "Out of the range\n"
     ]
    }
   ],
   "source": [
    "A = int(input())\n",
    "\n",
    "if A in range(1,100):\n",
    "    print('Within Range')\n",
    "else:\n",
    "    print('Out of the range')"
   ]
  },
  {
   "cell_type": "markdown",
   "id": "a0710f4a-a443-41a6-ac27-70ae6d69d4df",
   "metadata": {},
   "source": [
    "10) Create a Python program that determines the grade of a student based on their score using if-else."
   ]
  },
  {
   "cell_type": "code",
   "execution_count": 7,
   "id": "d27083a7-88db-42b7-b2b5-ae80f8cf6dfc",
   "metadata": {},
   "outputs": [
    {
     "name": "stdin",
     "output_type": "stream",
     "text": [
      " 73\n"
     ]
    },
    {
     "name": "stdout",
     "output_type": "stream",
     "text": [
      "B1\n"
     ]
    }
   ],
   "source": [
    "A = int(input())\n",
    "\n",
    "if A >= 91:\n",
    "    print('A1')\n",
    "elif 81 <= A < 91:\n",
    "    print('A2')\n",
    "elif 71 <= A < 81:\n",
    "    print('B1')\n",
    "elif 61 <= A < 71:\n",
    "    print('B2')\n",
    "else:\n",
    "    print('C')"
   ]
  },
  {
   "cell_type": "markdown",
   "id": "785e952e-4634-4f86-a3e0-dd5fa4d24645",
   "metadata": {},
   "source": [
    "11) Write a Python program to check if a string is empty or not using if-else."
   ]
  },
  {
   "cell_type": "code",
   "execution_count": 11,
   "id": "d0e875c5-642c-4b70-b436-fff044e4b1cb",
   "metadata": {},
   "outputs": [
    {
     "name": "stdin",
     "output_type": "stream",
     "text": [
      " yes\n"
     ]
    },
    {
     "name": "stdout",
     "output_type": "stream",
     "text": [
      "String is not empty\n"
     ]
    }
   ],
   "source": [
    "A = str(input())\n",
    "\n",
    "if len(A) > 0:\n",
    "    print('String is not empty')\n",
    "else:\n",
    "    print('String is empty')"
   ]
  },
  {
   "cell_type": "markdown",
   "id": "b91a0069-edfb-4cbf-a3c0-68b4fe1cc5c4",
   "metadata": {},
   "source": [
    "12) Create a Python program that identifies the type of a triangle (e.g., equilateral, isosceles, or scalene) based on input values using if-else."
   ]
  },
  {
   "cell_type": "code",
   "execution_count": 16,
   "id": "08eff680-f136-42ae-abaf-f745215a3344",
   "metadata": {},
   "outputs": [
    {
     "name": "stdin",
     "output_type": "stream",
     "text": [
      " 7\n",
      " 8\n",
      " 9\n"
     ]
    },
    {
     "name": "stdout",
     "output_type": "stream",
     "text": [
      "This is Scalene\n"
     ]
    }
   ],
   "source": [
    "A = int(input())\n",
    "B = int(input())\n",
    "C = int(input())\n",
    "\n",
    "if A == B == C:\n",
    "    print('This is Equilateral')\n",
    "elif A == B or A == C or B == C:\n",
    "    print('This is Isosceles')\n",
    "else:\n",
    "    print('This is Scalene')"
   ]
  },
  {
   "cell_type": "markdown",
   "id": "0fabb06e-af18-4b75-9f0f-3ea5b6a5e70d",
   "metadata": {},
   "source": [
    "13) Write a Python program to determine the day of the week based on a user-provided number using if-else."
   ]
  },
  {
   "cell_type": "code",
   "execution_count": 17,
   "id": "adf8a3ad-8e0b-4604-81df-05fc6c2802e5",
   "metadata": {},
   "outputs": [
    {
     "name": "stdin",
     "output_type": "stream",
     "text": [
      "Enter a number from 1 to 7 : 6\n"
     ]
    },
    {
     "name": "stdout",
     "output_type": "stream",
     "text": [
      "Saturday\n"
     ]
    }
   ],
   "source": [
    "A = int(input('Enter a number from 1 to 7 :'))\n",
    "\n",
    "if A == 1:\n",
    "    print('Monday')\n",
    "elif A == 2:\n",
    "    print('Tuesday')\n",
    "elif A == 3:\n",
    "    print('Wednesday')\n",
    "elif A == 4:\n",
    "    print('Thrusday')\n",
    "elif A == 5:\n",
    "    print('Friday')\n",
    "elif A == 6:\n",
    "    print('Saturday')\n",
    "else:\n",
    "    print('Sunday')"
   ]
  },
  {
   "cell_type": "markdown",
   "id": "4feeb45a-27f8-46f4-8290-36b81778dc63",
   "metadata": {},
   "source": [
    "14) Create a Python program that checks if a given year is a leap year using both if-else and a function."
   ]
  },
  {
   "cell_type": "code",
   "execution_count": 19,
   "id": "5e273ac5-25fc-4a2d-8a15-edf786e796d2",
   "metadata": {},
   "outputs": [
    {
     "name": "stdin",
     "output_type": "stream",
     "text": [
      " 2023\n"
     ]
    },
    {
     "name": "stdout",
     "output_type": "stream",
     "text": [
      "['Not Leap Year']\n"
     ]
    }
   ],
   "source": [
    "a = int(input())\n",
    "A = ['Leap Year' if a%4 == 0 else 'Not Leap Year']\n",
    "print(A)"
   ]
  },
  {
   "cell_type": "markdown",
   "id": "0fc68044-459b-418f-bfed-a98e2f97d028",
   "metadata": {},
   "source": [
    "15) How do you use the \"assert\" statement in Python to add debugging checks within if-else blocks?"
   ]
  },
  {
   "cell_type": "code",
   "execution_count": 33,
   "id": "4cbb928b-df66-4d35-acd2-4669b7f6dde2",
   "metadata": {},
   "outputs": [
    {
     "name": "stdout",
     "output_type": "stream",
     "text": [
      "Area of rectangle with length 5 and width 6 is 30\n"
     ]
    },
    {
     "ename": "AssertionError",
     "evalue": "Length and width must be positive",
     "output_type": "error",
     "traceback": [
      "\u001b[0;31m---------------------------------------------------------------------------\u001b[0m",
      "\u001b[0;31mAssertionError\u001b[0m                            Traceback (most recent call last)",
      "Cell \u001b[0;32mIn[33], line 9\u001b[0m\n\u001b[1;32m      6\u001b[0m area1 \u001b[38;5;241m=\u001b[39m calculate_area(\u001b[38;5;241m5\u001b[39m, \u001b[38;5;241m6\u001b[39m)\n\u001b[1;32m      7\u001b[0m \u001b[38;5;28mprint\u001b[39m(\u001b[38;5;124m\"\u001b[39m\u001b[38;5;124mArea of rectangle with length 5 and width 6 is\u001b[39m\u001b[38;5;124m\"\u001b[39m, area1)\n\u001b[0;32m----> 9\u001b[0m area2 \u001b[38;5;241m=\u001b[39m \u001b[43mcalculate_area\u001b[49m\u001b[43m(\u001b[49m\u001b[38;5;241;43m-\u001b[39;49m\u001b[38;5;241;43m5\u001b[39;49m\u001b[43m,\u001b[49m\u001b[43m \u001b[49m\u001b[38;5;241;43m6\u001b[39;49m\u001b[43m)\u001b[49m\n\u001b[1;32m     10\u001b[0m \u001b[38;5;28mprint\u001b[39m(\u001b[38;5;124m\"\u001b[39m\u001b[38;5;124mArea of rectangle with length -5 and width 6 is\u001b[39m\u001b[38;5;124m\"\u001b[39m, area2)\n",
      "Cell \u001b[0;32mIn[33], line 2\u001b[0m, in \u001b[0;36mcalculate_area\u001b[0;34m(length, width)\u001b[0m\n\u001b[1;32m      1\u001b[0m \u001b[38;5;28;01mdef\u001b[39;00m \u001b[38;5;21mcalculate_area\u001b[39m(length, width):\n\u001b[0;32m----> 2\u001b[0m \t\u001b[38;5;28;01massert\u001b[39;00m length \u001b[38;5;241m>\u001b[39m \u001b[38;5;241m0\u001b[39m \u001b[38;5;129;01mand\u001b[39;00m width \u001b[38;5;241m>\u001b[39m \u001b[38;5;241m0\u001b[39m, \u001b[38;5;124m\"\u001b[39m\u001b[38;5;124mLength and width must be positive\u001b[39m\u001b[38;5;124m\"\u001b[39m\n\u001b[1;32m      3\u001b[0m \tarea \u001b[38;5;241m=\u001b[39m length \u001b[38;5;241m*\u001b[39m width\n\u001b[1;32m      4\u001b[0m \t\u001b[38;5;28;01mreturn\u001b[39;00m area\n",
      "\u001b[0;31mAssertionError\u001b[0m: Length and width must be positive"
     ]
    }
   ],
   "source": [
    "def calculate_area(length, width):\n",
    "\tassert length > 0 and width > 0, \"Length and width must be positive\"\n",
    "\tarea = length * width\n",
    "\treturn area\n",
    "\n",
    "area1 = calculate_area(5, 6)\n",
    "print(\"Area of rectangle with length 5 and width 6 is\", area1)\n",
    "\n",
    "area2 = calculate_area(-5, 6)\n",
    "print(\"Area of rectangle with length -5 and width 6 is\", area2)"
   ]
  },
  {
   "cell_type": "markdown",
   "id": "ec7d0bdf-971a-48d6-bd2d-7dda4e3110b1",
   "metadata": {},
   "source": [
    "16) Create a Python program that determines the eligibility of a person for a senior citizen discount based on age using if-else."
   ]
  },
  {
   "cell_type": "code",
   "execution_count": 34,
   "id": "f847c11f-d497-4e01-a8c6-5adb2b7a1b4a",
   "metadata": {},
   "outputs": [
    {
     "name": "stdin",
     "output_type": "stream",
     "text": [
      "Enter a age is :  57\n"
     ]
    },
    {
     "name": "stdout",
     "output_type": "stream",
     "text": [
      "Not Eligible\n"
     ]
    }
   ],
   "source": [
    "Age = int(input('Enter a age is : '))\n",
    "\n",
    "if Age >= 60:\n",
    "    print('Eligible for Senior Citizen discount')\n",
    "else:\n",
    "    print('Not Eligible')"
   ]
  },
  {
   "cell_type": "markdown",
   "id": "228cf613-9ed8-4e09-8f5a-0624841a1fd8",
   "metadata": {},
   "source": [
    "17) Write a Python program to categorize a given character as uppercase, lowercase, or neither using if-else."
   ]
  },
  {
   "cell_type": "code",
   "execution_count": 38,
   "id": "d107fa42-6ecb-47a3-a8e5-95647b796c87",
   "metadata": {},
   "outputs": [
    {
     "name": "stdin",
     "output_type": "stream",
     "text": [
      "Enter a word : 123\n"
     ]
    },
    {
     "name": "stdout",
     "output_type": "stream",
     "text": [
      "Neither\n"
     ]
    }
   ],
   "source": [
    "case = str(input('Enter a word :'))\n",
    "\n",
    "if case.isupper():\n",
    "    print('Upper Case')\n",
    "elif case.islower():\n",
    "    print('Lower Case')\n",
    "else:\n",
    "    print('Neither')"
   ]
  },
  {
   "cell_type": "markdown",
   "id": "84ddf8f1-c276-4c7f-bc71-5a3683576dea",
   "metadata": {},
   "source": [
    "19) Create a Python program that checks if a given year is a century year or not using if-else."
   ]
  },
  {
   "cell_type": "code",
   "execution_count": 39,
   "id": "34445b94-f6cd-4700-8b74-51fa6476bdeb",
   "metadata": {},
   "outputs": [
    {
     "name": "stdin",
     "output_type": "stream",
     "text": [
      "Enter a year 2000\n"
     ]
    },
    {
     "name": "stdout",
     "output_type": "stream",
     "text": [
      "['Century Year']\n"
     ]
    }
   ],
   "source": [
    "a = int(input('Enter a year'))\n",
    "A = ['Century Year' if a%100 == 0 else 'Not Century Year']\n",
    "print(A)"
   ]
  },
  {
   "cell_type": "markdown",
   "id": "f63339b7-a85b-4e01-a157-d9cced52d7d5",
   "metadata": {},
   "source": [
    "20) Write a Python program to determine if a given number is a perfect square using if-else."
   ]
  },
  {
   "cell_type": "code",
   "execution_count": 50,
   "id": "1d0d63be-ddb1-4612-b2ef-0d2f96930443",
   "metadata": {},
   "outputs": [
    {
     "name": "stdin",
     "output_type": "stream",
     "text": [
      "Enter a num here 2500\n"
     ]
    },
    {
     "name": "stdout",
     "output_type": "stream",
     "text": [
      "Perfect Square\n"
     ]
    }
   ],
   "source": [
    "Num = int(input('Enter a num here'))\n",
    "\n",
    "A = int(Num**0.5)\n",
    "if A*A == Num:\n",
    "    print('Perfect Square')\n",
    "else:\n",
    "    print('Not Perfect Square')"
   ]
  },
  {
   "cell_type": "markdown",
   "id": "02ace3d6-31f7-4ae5-8c94-f9a575491794",
   "metadata": {},
   "source": [
    "21) Explain the purpose of the \"continue\" and \"break\" statements within if-else loops."
   ]
  },
  {
   "cell_type": "markdown",
   "id": "92b94bb6-4515-4022-932d-5f28d289e05d",
   "metadata": {},
   "source": [
    "#Continue - is help to skip the condition in the statement while running the loop   \n",
    "#Break - is used to stop the loop if condition is fulfilled in the statement"
   ]
  },
  {
   "cell_type": "markdown",
   "id": "0a626577-8514-4de7-b951-e2e9a1873ed3",
   "metadata": {},
   "source": [
    "22) Create a Python program that calculates the BMI (Body Mass Index) of a person based on their weight and height using if-else."
   ]
  },
  {
   "cell_type": "code",
   "execution_count": 74,
   "id": "f2f98f15-f73c-4ea4-b95e-9a26b438b0ff",
   "metadata": {},
   "outputs": [
    {
     "name": "stdin",
     "output_type": "stream",
     "text": [
      "Enter a weight here 55\n",
      "Enter a height in inch 165\n"
     ]
    },
    {
     "name": "stdout",
     "output_type": "stream",
     "text": [
      "It is Healthy weight\n"
     ]
    }
   ],
   "source": [
    "W = (2.205*int(input('Enter a weight here')))\n",
    "H = (0.39*int(input('Enter a height in inch')))\n",
    "BMI = (703*W/(H*H))\n",
    "if BMI > 30:\n",
    "    print('It is Obese')\n",
    "elif 25 <= BMI < 30:\n",
    "    print('It is Overweight')\n",
    "elif 18 <= BMI < 25:\n",
    "    print('It is Healthy weight')\n",
    "else:\n",
    "    print('It is under weight')"
   ]
  },
  {
   "cell_type": "markdown",
   "id": "15123b42-4d93-41f4-bb66-7d9f9cdf9eeb",
   "metadata": {},
   "source": [
    "23) How can you use the \"filter()\" function with if-else statements to filter elements from a list?"
   ]
  },
  {
   "cell_type": "code",
   "execution_count": 82,
   "id": "3a4927aa-0fab-4666-8ddf-7537b99da160",
   "metadata": {},
   "outputs": [
    {
     "name": "stdout",
     "output_type": "stream",
     "text": [
      "[2, 4, 6, 8, 10]\n"
     ]
    }
   ],
   "source": [
    "numbers = [1, 2, 3, 4, 5, 6, 7, 8, 9, 10]\n",
    "A = filter(lambda s: s%2==0, numbers)\n",
    "print(list(A))"
   ]
  },
  {
   "cell_type": "markdown",
   "id": "43c56988-bc34-4a35-8c55-41b237448c4e",
   "metadata": {},
   "source": [
    "24) Write a Python program to determine if a given number is prime or not using if-else."
   ]
  },
  {
   "cell_type": "code",
   "execution_count": 104,
   "id": "2b94fa29-c13d-4747-9f86-e9250bfa7813",
   "metadata": {},
   "outputs": [
    {
     "data": {
      "text/plain": [
       "False"
      ]
     },
     "execution_count": 104,
     "metadata": {},
     "output_type": "execute_result"
    }
   ],
   "source": [
    "def prime(a):\n",
    "    for i in range(2,a):\n",
    "        if (a%i) == 0:\n",
    "            return False\n",
    "    return True\n",
    "prime(6)"
   ]
  },
  {
   "cell_type": "markdown",
   "id": "d591dd31-f203-413b-8b87-d397083849c8",
   "metadata": {},
   "source": [
    "#"
   ]
  },
  {
   "cell_type": "markdown",
   "id": "cf6bdf62-8f3f-4113-9d28-36154e0ca6b1",
   "metadata": {},
   "source": [
    "##Map "
   ]
  },
  {
   "cell_type": "markdown",
   "id": "d2ac89fd-8968-4b06-9df1-40b66dc47b7d",
   "metadata": {},
   "source": [
    "1) Explain the purpose of the `map()` function in Python and provide an example of how it can be used to apply a function to each element of an iterable."
   ]
  },
  {
   "cell_type": "code",
   "execution_count": 11,
   "id": "d06332b7-0595-4828-a60b-15f365dfc512",
   "metadata": {},
   "outputs": [
    {
     "name": "stdout",
     "output_type": "stream",
     "text": [
      "[2, 4, 6, 8, 10, 12, 14, 16, 18, 20]\n"
     ]
    }
   ],
   "source": [
    "'''The map() function in Python is used to apply a specified function to each item in an iterable'''\n",
    "def even(s):\n",
    "    return s*2\n",
    "B = [1,2,3,4,5,6,7,8,9,10]\n",
    "A = map(even, B)\n",
    "print(list(A))"
   ]
  },
  {
   "cell_type": "markdown",
   "id": "a9d715cb-a807-4f6c-b088-2c721f2ad1d0",
   "metadata": {},
   "source": [
    "2) Write a Python program that uses the `map()` function to square each element of a list of numbers."
   ]
  },
  {
   "cell_type": "code",
   "execution_count": 13,
   "id": "7f33291f-6741-43b4-9efd-55862216c695",
   "metadata": {},
   "outputs": [
    {
     "name": "stdout",
     "output_type": "stream",
     "text": [
      "[1, 4, 9, 16, 25, 36, 49, 64]\n"
     ]
    }
   ],
   "source": [
    "a = [1,2,3,4,5,6,7,8]\n",
    "s = list(map(lambda s: s*s, a))\n",
    "print(s)"
   ]
  },
  {
   "cell_type": "markdown",
   "id": "4802904a-1fae-4943-8a54-a06f33cd89f2",
   "metadata": {},
   "source": [
    "3) How does the `map()` function differ from a list comprehension in Python, and when would you choose one over the other?"
   ]
  },
  {
   "cell_type": "code",
   "execution_count": null,
   "id": "968ed84e-e6d9-4ba3-8ab0-7b525b0af5c9",
   "metadata": {},
   "outputs": [],
   "source": [
    "''' Both map() and list comprehensions are transforming iterables. \n",
    "List comprehensions are generally preferred for simple, straightforward transformations due to their concise and readable syntax. \n",
    "map() may be more suitable when you need to apply a function that's defined separately or when you're working with complex transformations'''"
   ]
  },
  {
   "cell_type": "markdown",
   "id": "78adc209-0dbe-4670-97c1-4a7b02a9b11c",
   "metadata": {},
   "source": [
    "4) Create a Python program that uses the `map()` function to convert a list of names to uppercase."
   ]
  },
  {
   "cell_type": "code",
   "execution_count": 20,
   "id": "c7bc8ca7-3251-448e-bda7-c854f90135e7",
   "metadata": {},
   "outputs": [
    {
     "name": "stdout",
     "output_type": "stream",
     "text": [
      "['RAVI', 'JAYA', 'BALA']\n"
     ]
    }
   ],
   "source": [
    "D = ['Ravi','Jaya','Bala']\n",
    "A = map(lambda s: s.upper(), D)\n",
    "print(list(A))"
   ]
  },
  {
   "cell_type": "markdown",
   "id": "002c2761-cdcc-42be-9d53-6afb40856f8c",
   "metadata": {},
   "source": [
    "5) Write a Python program that uses the `map()` function to calculate the length of each word in a list of strings."
   ]
  },
  {
   "cell_type": "code",
   "execution_count": 21,
   "id": "dd8f05ee-6b64-4a24-9784-f4f56dc11861",
   "metadata": {},
   "outputs": [
    {
     "name": "stdout",
     "output_type": "stream",
     "text": [
      "[4, 4, 5]\n"
     ]
    }
   ],
   "source": [
    "D = ['Ravi','Jaya','Balan']\n",
    "A = list(map(lambda x: len(x), D))\n",
    "print(A)"
   ]
  },
  {
   "cell_type": "markdown",
   "id": "76f69060-84f2-4a78-ae86-8223c80e1bba",
   "metadata": {},
   "source": [
    "6) How can you use the `map()` function to apply a custom function to elements of multiple lists simultaneously in Python?"
   ]
  },
  {
   "cell_type": "code",
   "execution_count": 28,
   "id": "fd91cfe9-d370-40e3-996c-0bba00950415",
   "metadata": {},
   "outputs": [
    {
     "name": "stdout",
     "output_type": "stream",
     "text": [
      "['John Doe', 'Alice Smith', 'Bob Johnson']\n"
     ]
    }
   ],
   "source": [
    "A = [\"John\", \"Alice\", \"Bob\"]\n",
    "B = [\"Doe\", \"Smith\", \"Johnson\"]\n",
    "C = list(map(lambda a,b: a+' '+b , A, B))\n",
    "print(C)"
   ]
  },
  {
   "cell_type": "markdown",
   "id": "d6fa35a0-6103-4cc2-a258-3294b7f92841",
   "metadata": {},
   "source": [
    "7) Create a Python program that uses `map()` to convert a list of temperatures from Celsius to Fahrenheit."
   ]
  },
  {
   "cell_type": "code",
   "execution_count": 33,
   "id": "0ce2c81d-88e3-41e0-bedd-e1cff6d50838",
   "metadata": {},
   "outputs": [
    {
     "name": "stdout",
     "output_type": "stream",
     "text": [
      "[36, 72, 124, 109, 73]\n"
     ]
    }
   ],
   "source": [
    "A = [2,22,51,43,23]\n",
    "D = list(map(lambda x: round(x*1.8+32), A))\n",
    "print(D)"
   ]
  },
  {
   "cell_type": "markdown",
   "id": "8ac7f565-af56-4a0d-99db-7113bc53a834",
   "metadata": {},
   "source": [
    "8) Write a Python program that uses the `map()` function to round each element of a list of floating-point numbers to the nearest integer."
   ]
  },
  {
   "cell_type": "code",
   "execution_count": 32,
   "id": "05818b5f-71c5-4462-998c-fa20953945a8",
   "metadata": {},
   "outputs": [
    {
     "name": "stdout",
     "output_type": "stream",
     "text": [
      "[36, 72, 124, 109, 73]\n"
     ]
    }
   ],
   "source": [
    "A = [35.6, 71.6, 123.8, 109.4, 73.4]\n",
    "B = list(map(lambda x: round(x), A))\n",
    "print(B)"
   ]
  },
  {
   "cell_type": "markdown",
   "id": "7d3975e5-b8d7-4fc8-9922-594f5377fdc5",
   "metadata": {},
   "source": [
    "#"
   ]
  },
  {
   "cell_type": "markdown",
   "id": "57efbaea-c2a2-49f4-9104-5ab7ab4515a3",
   "metadata": {},
   "source": [
    "#Reduce"
   ]
  },
  {
   "cell_type": "code",
   "execution_count": 36,
   "id": "874db31d-42a6-44c8-8aaa-972977bfa2fc",
   "metadata": {},
   "outputs": [],
   "source": [
    "from functools import reduce"
   ]
  },
  {
   "cell_type": "markdown",
   "id": "49c2210c-6b42-4c2c-9d9b-4ed1fa52e670",
   "metadata": {},
   "source": [
    "1) What is the `reduce()` function in Python, and what module should you import to use it? Provide an example of its basic usage."
   ]
  },
  {
   "cell_type": "code",
   "execution_count": null,
   "id": "6da8a059-11ad-4ea3-8156-db0d4de794c8",
   "metadata": {},
   "outputs": [],
   "source": [
    "'''The reduce() function in Python is a built-in function that is used to apply \n",
    "a specified function to the elements of an iterable in a cumulative way.'''\n",
    "\n",
    "#from functools import reduce"
   ]
  },
  {
   "cell_type": "markdown",
   "id": "c30a9ed8-e9b7-4cd7-81c4-3c5e21deb792",
   "metadata": {},
   "source": [
    "2) Write a Python program that uses the `reduce()` function to find the product of all elements in a list."
   ]
  },
  {
   "cell_type": "code",
   "execution_count": 37,
   "id": "93566882-3e54-4a64-b6f2-e9724e749198",
   "metadata": {},
   "outputs": [
    {
     "name": "stdout",
     "output_type": "stream",
     "text": [
      "The product of all elements in the list is: 120\n"
     ]
    }
   ],
   "source": [
    "def multiply(x, y):\n",
    "    return x * y\n",
    "numbers = [1, 2, 3, 4, 5]\n",
    "result = reduce(multiply, numbers)\n",
    "\n",
    "print(f\"The product of all elements in the list is: {result}\")"
   ]
  },
  {
   "cell_type": "markdown",
   "id": "b09c68f4-67af-4ac3-8cd8-d31368df4a08",
   "metadata": {},
   "source": [
    "3) Create a Python program that uses `reduce()` to find the maximum element in a list of numbers."
   ]
  },
  {
   "cell_type": "code",
   "execution_count": 38,
   "id": "7c662a25-3142-49f5-9a8f-3e9f25236656",
   "metadata": {},
   "outputs": [
    {
     "name": "stdout",
     "output_type": "stream",
     "text": [
      "26\n"
     ]
    }
   ],
   "source": [
    "A = [21,24,26,17,10]\n",
    "B = reduce(lambda x, y: max(x,y), A)\n",
    "print(B)"
   ]
  },
  {
   "cell_type": "markdown",
   "id": "13075e6e-999f-4c01-96be-0dacc5e2ead7",
   "metadata": {},
   "source": [
    "4) How can you use the `reduce()` function to concatenate a list of strings into a single string?"
   ]
  },
  {
   "cell_type": "code",
   "execution_count": 40,
   "id": "f38945b2-439d-4abe-8dc2-8741c3fb8ef8",
   "metadata": {},
   "outputs": [
    {
     "name": "stdout",
     "output_type": "stream",
     "text": [
      "Ravi Jaya Balan\n"
     ]
    }
   ],
   "source": [
    "D = ['Ravi','Jaya','Balan']\n",
    "S = reduce(lambda x,y: x+' '+y, D)\n",
    "print(S)"
   ]
  },
  {
   "cell_type": "markdown",
   "id": "0623c749-482b-401a-84c9-726d9e2c972c",
   "metadata": {},
   "source": [
    "5) Write a Python program that calculates the factorial of a number using the `reduce()` function."
   ]
  },
  {
   "cell_type": "code",
   "execution_count": 47,
   "id": "f2d4499c-3a47-493f-b709-b5b2635a4a76",
   "metadata": {},
   "outputs": [
    {
     "name": "stdout",
     "output_type": "stream",
     "text": [
      "24\n"
     ]
    }
   ],
   "source": [
    "B = list(range(1,5))\n",
    "A = reduce(lambda x,y : x*y, B)\n",
    "print(A)"
   ]
  },
  {
   "cell_type": "markdown",
   "id": "cc49f6ea-9fcb-459c-adab-cbd6c4d192dd",
   "metadata": {},
   "source": [
    "6) Create a Python program that uses `reduce()` to find the GCD (Greatest Common Divisor) of a list of numbers."
   ]
  },
  {
   "cell_type": "code",
   "execution_count": 57,
   "id": "5c40ed11-a32d-4a00-be67-7b9b36c656e9",
   "metadata": {},
   "outputs": [
    {
     "name": "stdout",
     "output_type": "stream",
     "text": [
      "The GCD of the numbers is: 2\n"
     ]
    }
   ],
   "source": [
    "def GCD(x, y):\n",
    "    while y != 0:\n",
    "        x, y = y, x % y\n",
    "    return x\n",
    "A = [18, 24, 32]\n",
    "\n",
    "GCD = reduce(GCD, A)\n",
    "\n",
    "print(f\"The GCD of the numbers is: {GCD}\")\n"
   ]
  },
  {
   "cell_type": "markdown",
   "id": "ebd043bc-656c-4551-856e-107230ba89fc",
   "metadata": {},
   "source": [
    "7) Write a Python program that uses the `reduce()` function to find the sum of the digits of a given number."
   ]
  },
  {
   "cell_type": "code",
   "execution_count": 59,
   "id": "aaaa17d9-7e26-40c9-9ebf-c6fa1347f09c",
   "metadata": {},
   "outputs": [
    {
     "name": "stdin",
     "output_type": "stream",
     "text": [
      "Enter a number:  435\n"
     ]
    },
    {
     "name": "stdout",
     "output_type": "stream",
     "text": [
      "The sum of the digits of 435 is: 12\n"
     ]
    }
   ],
   "source": [
    "def digit(x, y):\n",
    "    return x + y\n",
    "\n",
    "number = int(input(\"Enter a number: \"))\n",
    "\n",
    "digits = [int(digit) for digit in str(number)]\n",
    "sum_of_digits = reduce(digit, digits)\n",
    "\n",
    "print(f\"The sum of the digits of {number} is: {sum_of_digits}\")"
   ]
  },
  {
   "cell_type": "markdown",
   "id": "f2d41c6e-bdcb-4209-9257-06925b2d0cc2",
   "metadata": {},
   "source": [
    "#"
   ]
  },
  {
   "cell_type": "markdown",
   "id": "ca44b8bf-1546-4463-a42b-0616d6fa18cf",
   "metadata": {},
   "source": [
    "##Filter :-"
   ]
  },
  {
   "cell_type": "markdown",
   "id": "aefaca2f-1735-4d38-b7ae-932f2bbc7d6d",
   "metadata": {},
   "source": [
    "1) Explain the purpose of the `filter()` function in Python and provide an example of how it can be used to filter elements from an iterable."
   ]
  },
  {
   "cell_type": "code",
   "execution_count": 61,
   "id": "1ced5a6b-c5a8-4659-8412-c71356dd5830",
   "metadata": {},
   "outputs": [
    {
     "data": {
      "text/plain": [
       "[2, 4, 6, 8, 10]"
      ]
     },
     "execution_count": 61,
     "metadata": {},
     "output_type": "execute_result"
    }
   ],
   "source": [
    "'''The filter() function in Python is a built-in function used for filtering elements from an iterable'''\n",
    "B = [1, 2, 3, 4, 5, 6, 7, 8, 9, 10]\n",
    "A = list(filter(lambda x: x%2==0, B))\n",
    "A"
   ]
  },
  {
   "cell_type": "markdown",
   "id": "9280b576-95e9-4ca8-93e8-8e9b1b865f68",
   "metadata": {},
   "source": [
    "2) Write a Python program that uses the `filter()` function to select even numbers from a list of integers."
   ]
  },
  {
   "cell_type": "code",
   "execution_count": 62,
   "id": "431c981d-a5e1-45b2-885f-4ef555561464",
   "metadata": {},
   "outputs": [
    {
     "data": {
      "text/plain": [
       "[2, 4, 6, 8, 10]"
      ]
     },
     "execution_count": 62,
     "metadata": {},
     "output_type": "execute_result"
    }
   ],
   "source": [
    "B = [1, 2, 3, 4, 5, 6, 7, 8, 9, 10]\n",
    "A = list(filter(lambda x: x%2==0, B))\n",
    "A"
   ]
  },
  {
   "cell_type": "markdown",
   "id": "39c3c2cc-6b8c-443d-86fe-a17935827fc3",
   "metadata": {},
   "source": [
    "3) Create a Python program that uses the `filter()` function to select names that start with a specific letter from a list of strings."
   ]
  },
  {
   "cell_type": "code",
   "execution_count": 69,
   "id": "88260ea9-43b8-4cdf-9f41-0201496f3a2a",
   "metadata": {},
   "outputs": [
    {
     "data": {
      "text/plain": [
       "['Bala', 'Balaji']"
      ]
     },
     "execution_count": 69,
     "metadata": {},
     "output_type": "execute_result"
    }
   ],
   "source": [
    "A = ['Ravi','Bala','Sanjai','Vijay','Balaji']\n",
    "B = list(filter(lambda x: x.lower().startswith('b'),A))\n",
    "B"
   ]
  },
  {
   "cell_type": "markdown",
   "id": "ce82eea2-7d2a-4b64-b20b-039c4631760c",
   "metadata": {},
   "source": [
    "4) Write a Python program that uses the `filter()` function to select prime numbers from a list of integers."
   ]
  },
  {
   "cell_type": "code",
   "execution_count": 73,
   "id": "9a27939b-d36e-4064-9135-3bd4b4941e23",
   "metadata": {},
   "outputs": [
    {
     "data": {
      "text/plain": [
       "[1, 2, 3, 5, 7]"
      ]
     },
     "execution_count": 73,
     "metadata": {},
     "output_type": "execute_result"
    }
   ],
   "source": [
    "A = list(range(1,11))\n",
    "B = list(filter(lambda x: all(x%i != 0 for i in range(2,x)), A))\n",
    "B"
   ]
  },
  {
   "cell_type": "markdown",
   "id": "5dc10943-5083-4fd7-a8f9-bcf024a38c0f",
   "metadata": {},
   "source": [
    "5) How can you use the `filter()` function to remove None values from a list in Python?"
   ]
  },
  {
   "cell_type": "code",
   "execution_count": 74,
   "id": "27d9134d-3bd0-46d2-9c0f-fd121cb05faf",
   "metadata": {},
   "outputs": [
    {
     "name": "stdout",
     "output_type": "stream",
     "text": [
      "[1, 2, 3, 4, 5]\n"
     ]
    }
   ],
   "source": [
    "lis = [1, None, 2, None, 3, None, 4, None, 5]\n",
    "FL = list(filter(lambda x: x is not None, lis))\n",
    "print(FL)"
   ]
  },
  {
   "cell_type": "markdown",
   "id": "28683cd8-39cc-4bbd-b3c3-be1decbaf969",
   "metadata": {},
   "source": [
    "6) Create a Python program that uses `filter()` to select words longer than a certain length from a list of strings."
   ]
  },
  {
   "cell_type": "code",
   "execution_count": 76,
   "id": "9c9d64da-7d14-4e4b-80e0-8b3e1a306883",
   "metadata": {},
   "outputs": [
    {
     "name": "stdout",
     "output_type": "stream",
     "text": [
      "Words longer than 5 characters: ['banana', 'cherry', 'elderberry']\n"
     ]
    }
   ],
   "source": [
    "words = [\"apple\", \"banana\", \"cherry\", \"date\", \"elderberry\", \"fig\"]\n",
    "min_length = 5\n",
    "\n",
    "filtered_words = list(filter(lambda word: len(word) > min_length, words))\n",
    "print(f\"Words longer than {min_length} characters: {filtered_words}\")"
   ]
  },
  {
   "cell_type": "markdown",
   "id": "4d83c240-c033-4bd8-9924-d3ba02a1bd50",
   "metadata": {},
   "source": [
    "7) Write a Python program that uses the `filter()` function to select elements greater than a specified threshold from a list of values."
   ]
  },
  {
   "cell_type": "code",
   "execution_count": 77,
   "id": "e73c709b-2b0a-4b2a-a515-d89ef53bb44e",
   "metadata": {},
   "outputs": [
    {
     "name": "stdout",
     "output_type": "stream",
     "text": [
      "Values greater than 20: [25, 30, 40]\n"
     ]
    }
   ],
   "source": [
    "values = [15, 25, 10, 30, 5, 40, 20]\n",
    "threshold = 20\n",
    "filtered_values = list(filter(lambda x: x > threshold, values))\n",
    "print(f\"Values greater than {threshold}: {filtered_values}\")"
   ]
  },
  {
   "cell_type": "markdown",
   "id": "f6f66768-82c8-4f32-9e28-38592548fa8b",
   "metadata": {},
   "source": [
    "#"
   ]
  },
  {
   "cell_type": "markdown",
   "id": "b6d1414f-1d80-4c2a-a747-76f2dca6c425",
   "metadata": {},
   "source": [
    "Recursion:-"
   ]
  },
  {
   "cell_type": "markdown",
   "id": "9ca736b0-98b3-4243-a382-00643a56c7d8",
   "metadata": {},
   "source": [
    "1) Explain the concept of recursion in Python. How does it differ from iteration?"
   ]
  },
  {
   "cell_type": "markdown",
   "id": "c2035f83-a87b-4f06-a0c5-f7753480e9f4",
   "metadata": {},
   "source": [
    "'''Recursion is type of define function and it is type of loop. \n",
    "Also, iteration is differ from the problem-solving process is expressed, memory usage, and the use of the call stack'''"
   ]
  },
  {
   "cell_type": "markdown",
   "id": "4fd6bfac-398b-4fb5-9166-f08eeaf2693c",
   "metadata": {},
   "source": [
    "2) Write a Python program to calculate the factorial of a number using recursion."
   ]
  },
  {
   "cell_type": "code",
   "execution_count": 79,
   "id": "af66814a-8a40-4fe3-9a87-77ed094363f0",
   "metadata": {},
   "outputs": [
    {
     "name": "stdin",
     "output_type": "stream",
     "text": [
      "Enter a non-negative integer:  5\n"
     ]
    },
    {
     "name": "stdout",
     "output_type": "stream",
     "text": [
      "The factorial of 5 is: 120\n"
     ]
    }
   ],
   "source": [
    "def factorial(n):\n",
    "    if n == 0:\n",
    "        return 1\n",
    "    else:\n",
    "        return n * factorial(n - 1)\n",
    "\n",
    "n = int(input(\"Enter a non-negative integer: \"))\n",
    "if n < 0:\n",
    "    print(\"Factorial is undefined for negative numbers.\")\n",
    "else:\n",
    "    result = factorial(n)\n",
    "    print(f\"The factorial of {n} is: {result}\")"
   ]
  },
  {
   "cell_type": "markdown",
   "id": "3686b414-0835-46af-b020-8f992fd9badf",
   "metadata": {},
   "source": [
    "3) Create a recursive Python function to find the nth Fibonacci number."
   ]
  },
  {
   "cell_type": "code",
   "execution_count": 96,
   "id": "7381ceb7-0be5-4854-ae24-3c3e91fb255e",
   "metadata": {},
   "outputs": [
    {
     "name": "stdin",
     "output_type": "stream",
     "text": [
      "Enter a non-negative integer n:  7\n"
     ]
    },
    {
     "name": "stdout",
     "output_type": "stream",
     "text": [
      "The 7th Fibonacci number is: 13\n"
     ]
    }
   ],
   "source": [
    "def fibonacci(n):\n",
    "    if n <= 0:\n",
    "        return 0\n",
    "    elif n == 1:\n",
    "        return 1\n",
    "    else:\n",
    "        return fibonacci(n - 1) + fibonacci(n - 2)\n",
    "\n",
    "n = int(input(\"Enter a non-negative integer n: \"))\n",
    "if n < 0:\n",
    "    print(\"Please enter a non-negative integer.\")\n",
    "else:\n",
    "    result = fibonacci(n)\n",
    "    print(f\"The {n}th Fibonacci number is: {result}\")"
   ]
  },
  {
   "cell_type": "markdown",
   "id": "71b07c9c-e38b-4671-9b38-b0f77d6cf63d",
   "metadata": {},
   "source": [
    "4) Write a recursive Python function to calculate the sum of all elements in a list."
   ]
  },
  {
   "cell_type": "code",
   "execution_count": 97,
   "id": "2d872767-a8e9-464c-9ee4-ff5e8e6b5984",
   "metadata": {},
   "outputs": [
    {
     "name": "stdout",
     "output_type": "stream",
     "text": [
      "The sum of the elements in the list is: 15\n"
     ]
    }
   ],
   "source": [
    "def recursive_sum(lst):\n",
    "    if not lst:\n",
    "        return 0  \n",
    "    else:\n",
    "        return lst[0] + recursive_sum(lst[1:])\n",
    "\n",
    "input_list = [1, 2, 3, 4, 5]\n",
    "result = recursive_sum(input_list)\n",
    "print(f\"The sum of the elements in the list is: {result}\")"
   ]
  },
  {
   "cell_type": "markdown",
   "id": "230fdebf-c33c-46d4-aceb-2b2fd3a5fbc7",
   "metadata": {},
   "source": [
    "5) How can you prevent a recursive function from running indefinitely, causing a stack overflow error?"
   ]
  },
  {
   "cell_type": "code",
   "execution_count": 98,
   "id": "26d6deb4-7ac6-42ba-ab7f-068a59552973",
   "metadata": {},
   "outputs": [
    {
     "name": "stdout",
     "output_type": "stream",
     "text": [
      "5\n",
      "4\n",
      "3\n",
      "2\n",
      "1\n",
      "Blastoff!\n"
     ]
    }
   ],
   "source": [
    "def countdown(n):\n",
    "    if n <= 0: \n",
    "        print(\"Blastoff!\")\n",
    "    else:\n",
    "        print(n)\n",
    "        countdown(n - 1)\n",
    "\n",
    "countdown(5)"
   ]
  },
  {
   "cell_type": "markdown",
   "id": "f8fd7928-d59d-4357-a0b3-cbec6c128ab0",
   "metadata": {},
   "source": [
    "6) Create a recursive Python function to find the greatest common divisor (GCD) of two numbers using the Euclidean algorithm."
   ]
  },
  {
   "cell_type": "code",
   "execution_count": 99,
   "id": "82c51ccc-cad2-47be-9196-bdde37bf610f",
   "metadata": {},
   "outputs": [
    {
     "name": "stdin",
     "output_type": "stream",
     "text": [
      "Enter the first number:  24\n",
      "Enter the second number:  36\n"
     ]
    },
    {
     "name": "stdout",
     "output_type": "stream",
     "text": [
      "The GCD of 24 and 36 is: 12\n"
     ]
    }
   ],
   "source": [
    "def euclidean_gcd(a, b):\n",
    "    if b == 0:\n",
    "        return a \n",
    "    else:\n",
    "        return euclidean_gcd(b, a % b) \n",
    "\n",
    "a = int(input(\"Enter the first number: \"))\n",
    "b = int(input(\"Enter the second number: \"))\n",
    "\n",
    "result = euclidean_gcd(a, b)\n",
    "print(f\"The GCD of {a} and {b} is: {result}\")"
   ]
  },
  {
   "cell_type": "markdown",
   "id": "c5c4edbf-c168-4cde-a728-99bb70edd1a8",
   "metadata": {},
   "source": [
    "7) Write a recursive Python function to reverse a string."
   ]
  },
  {
   "cell_type": "code",
   "execution_count": 100,
   "id": "c9bd2c2a-bea4-44f9-a3f0-2505df848166",
   "metadata": {},
   "outputs": [
    {
     "name": "stdin",
     "output_type": "stream",
     "text": [
      "Enter a string:  science\n"
     ]
    },
    {
     "name": "stdout",
     "output_type": "stream",
     "text": [
      "The reversed string is: ecneics\n"
     ]
    }
   ],
   "source": [
    "def reverse_string(s):\n",
    "    if len(s) == 0:\n",
    "        return s\n",
    "    else:\n",
    "        return reverse_string(s[1:]) + s[0]\n",
    "\n",
    "input_string = input(\"Enter a string: \")\n",
    "result = reverse_string(input_string)\n",
    "print(f\"The reversed string is: {result}\")"
   ]
  },
  {
   "cell_type": "markdown",
   "id": "6c61e650-e4ce-4499-bbad-e16cf7c253b6",
   "metadata": {},
   "source": [
    "8) Create a recursive Python function to calculate the power of a number (x^n)."
   ]
  },
  {
   "cell_type": "code",
   "execution_count": 106,
   "id": "e699dcac-45d1-4f43-9255-64a23006476d",
   "metadata": {},
   "outputs": [
    {
     "name": "stdin",
     "output_type": "stream",
     "text": [
      "Enter the base (x):  2\n",
      "Enter the exponent (n):  2\n"
     ]
    },
    {
     "name": "stdout",
     "output_type": "stream",
     "text": [
      "2.0^2 is: 4.0\n"
     ]
    }
   ],
   "source": [
    "def power(x, n):\n",
    "    if n == 0:\n",
    "        return 1\n",
    "    else:\n",
    "        return x * power(x, n - 1) \n",
    "\n",
    "x = float(input(\"Enter the base (x): \"))\n",
    "n = int(input(\"Enter the exponent (n): \"))\n",
    "\n",
    "result = power(x, n)\n",
    "print(f\"{x}^{n} is: {result}\")"
   ]
  },
  {
   "cell_type": "markdown",
   "id": "4d18024e-5845-4e52-a1ba-018f6bcd4d3f",
   "metadata": {},
   "source": [
    "9) Write a recursive Python function to find all permutations of a given string."
   ]
  },
  {
   "cell_type": "code",
   "execution_count": 42,
   "id": "2a52bf9e-d3be-4083-bead-7a8e876e059e",
   "metadata": {},
   "outputs": [
    {
     "name": "stdout",
     "output_type": "stream",
     "text": [
      "['nb', 'bn']\n"
     ]
    }
   ],
   "source": [
    "def per(a):\n",
    "    if len(a) == 1:\n",
    "        return [a]\n",
    "\n",
    "    permutations = []\n",
    "    for i in range(len(a)):\n",
    "        first_char = a[i]\n",
    "        remaining_chars = a[:i] + a[i + 1:]\n",
    "        sub_permutations = per(remaining_chars)\n",
    "        \n",
    "        for perm in sub_permutations:\n",
    "            permutations.append(first_char + perm)\n",
    "\n",
    "    return permutations\n",
    "\n",
    "result = per('nb')\n",
    "print(result)"
   ]
  },
  {
   "cell_type": "markdown",
   "id": "85161a52-82b6-4349-ba6c-4e089cb62bfa",
   "metadata": {},
   "source": [
    "10) Write a recursive Python function to check if a string is a palindrome."
   ]
  },
  {
   "cell_type": "code",
   "execution_count": 44,
   "id": "3f353f9d-e706-46db-8602-b403f016b1c1",
   "metadata": {},
   "outputs": [
    {
     "name": "stdout",
     "output_type": "stream",
     "text": [
      "True\n"
     ]
    }
   ],
   "source": [
    "def is_palindrome(s):\n",
    "    if len(s) <= 1:\n",
    "        return True\n",
    "    \n",
    "    first_char = s[0].lower()\n",
    "    last_char = s[-1].lower()\n",
    "    \n",
    "    if first_char != last_char:\n",
    "        return False\n",
    "    \n",
    "    return is_palindrome(s[1:-1])\n",
    "\n",
    "input_string = \"level\"\n",
    "result = is_palindrome(input_string)\n",
    "print(result)"
   ]
  },
  {
   "cell_type": "markdown",
   "id": "91d19c6b-4e93-4d69-88e1-3ff411e02f77",
   "metadata": {},
   "source": [
    "11) Create a recursive Python function to generate all possible combinations of a list of elements."
   ]
  },
  {
   "cell_type": "code",
   "execution_count": 47,
   "id": "dd1aa72c-5ded-4807-aab7-3fd37d3e42e4",
   "metadata": {},
   "outputs": [
    {
     "name": "stdout",
     "output_type": "stream",
     "text": [
      "[[1, 2, 3], [1, 2], [1, 3], [1], [2, 3], [2], [3], []]\n"
     ]
    }
   ],
   "source": [
    "def generate_combinations(elements):\n",
    "    if not elements:\n",
    "        return [[]]      \n",
    "    first_element = elements[0]\n",
    "    rest_elements = elements[1:]\n",
    "    \n",
    "    combinations_without_first = generate_combinations(rest_elements)\n",
    "    combinations_with_first = [ [first_element] + combo for combo in combinations_without_first ]\n",
    "    return combinations_with_first + combinations_without_first\n",
    "\n",
    "input_list = [1, 2, 3]\n",
    "result = generate_combinations(input_list)\n",
    "print(result)"
   ]
  },
  {
   "cell_type": "markdown",
   "id": "acd6c22b-6b7c-4ca3-a197-65fa1e0ee79c",
   "metadata": {},
   "source": [
    "#"
   ]
  },
  {
   "cell_type": "markdown",
   "id": "69d1bfb6-9835-4e8a-b0b2-c99ad743a081",
   "metadata": {},
   "source": [
    "#Basics of Functions:"
   ]
  },
  {
   "cell_type": "markdown",
   "id": "f14eecd7-0a20-43b0-9036-9d20b7bc1731",
   "metadata": {},
   "source": [
    "1) What is a function in Python, and why is it used?"
   ]
  },
  {
   "cell_type": "markdown",
   "id": "4aeb1211-3e9e-4bca-bbeb-0da711e5b595",
   "metadata": {},
   "source": [
    "'''In Python, a function is a reusable block of code that performs a specific task or a set of tasks.  \n",
    "Functions are used to organize code into smaller, more manageable pieces, \n",
    "\n",
    "Functions also allow you to break down complex problems into smaller, more understandable parts.'''"
   ]
  },
  {
   "cell_type": "markdown",
   "id": "555403fa-2650-4b8c-a79e-6bd1c3dbeb3f",
   "metadata": {},
   "source": [
    "2) How do you define a function in Python? Provide an example."
   ]
  },
  {
   "cell_type": "code",
   "execution_count": 49,
   "id": "3731fab8-b33a-498a-840b-be4e1c2ba000",
   "metadata": {},
   "outputs": [
    {
     "name": "stdout",
     "output_type": "stream",
     "text": [
      "Hello, Bala!\n"
     ]
    }
   ],
   "source": [
    "#We can define a function in Python using the def keyword followed by the function name, parameters (if any), and a colon\n",
    "def greet(name):\n",
    "    print(f\"Hello, {name}!\")\n",
    "greet(\"Bala\")"
   ]
  },
  {
   "cell_type": "markdown",
   "id": "4bac6465-e413-499a-af36-837c2e9d7c00",
   "metadata": {},
   "source": [
    "3) Explain the difference between a function definition and a function call."
   ]
  },
  {
   "cell_type": "markdown",
   "id": "7f1fcbc9-7fc8-46d8-ac4c-3143aab0fdd9",
   "metadata": {},
   "source": [
    "'''Function Definition: \n",
    "A function definition is where you define the structure and behavior of a function. It defines how the function will behave when called.\n",
    "\n",
    "Function Call: \n",
    "A function call is when you use the function by its name along with the necessary arguments. It triggers the execution of the function's code block'''"
   ]
  },
  {
   "cell_type": "markdown",
   "id": "4f3a7b62-7460-4aec-aa90-30d60e88e460",
   "metadata": {},
   "source": [
    "4) Write a Python program that defines a function to calculate the sum of two numbers and then calls the function."
   ]
  },
  {
   "cell_type": "code",
   "execution_count": 51,
   "id": "58e6d673-cf2c-4cfd-b761-1c4121c1d209",
   "metadata": {},
   "outputs": [
    {
     "name": "stdout",
     "output_type": "stream",
     "text": [
      "The sum of 5 and 3 is 8\n"
     ]
    }
   ],
   "source": [
    "def add_numbers(a, b):\n",
    "    return a + b\n",
    "num1 = 5\n",
    "num2 = 3\n",
    "result = add_numbers(num1, num2)\n",
    "print(f\"The sum of {num1} and {num2} is {result}\")"
   ]
  },
  {
   "cell_type": "markdown",
   "id": "648375fa-cbe4-4dc7-b63c-beadb2ca39de",
   "metadata": {},
   "source": [
    "5) What is a function signature, and what information does it typically include?"
   ]
  },
  {
   "cell_type": "markdown",
   "id": "63938aed-2e25-4b8d-bee0-40e1d8a192e9",
   "metadata": {},
   "source": [
    "'''A function signature is a part of a function's definition and typically includes:\n",
    "\n",
    "The function name: The name used to call the function.\n",
    "Parameters (if any): The input values or arguments that the function accepts.\n",
    "Return type (if specified): The data type of the value the function returns.''"
   ]
  },
  {
   "cell_type": "markdown",
   "id": "d9cc72af-8c9c-42ef-a436-00ff62602588",
   "metadata": {},
   "source": [
    "6) Create a Python function that takes two arguments and returns their product."
   ]
  },
  {
   "cell_type": "code",
   "execution_count": 52,
   "id": "1a5c9747-fbc2-48d2-9479-e4ee5fc57415",
   "metadata": {},
   "outputs": [
    {
     "name": "stdout",
     "output_type": "stream",
     "text": [
      "The product of 5 and 4 is 20\n"
     ]
    }
   ],
   "source": [
    "def multiply(a, b):\n",
    "    return a * b\n",
    "num1 = 5\n",
    "num2 = 4\n",
    "result = multiply(num1, num2)\n",
    "print(f\"The product of {num1} and {num2} is {result}\")"
   ]
  },
  {
   "cell_type": "markdown",
   "id": "a0fc9e67-6df0-479d-8988-62010684f539",
   "metadata": {},
   "source": [
    "#"
   ]
  },
  {
   "cell_type": "markdown",
   "id": "f39b54d0-2ef4-40a0-911b-9fc6b6f9b1c9",
   "metadata": {},
   "source": [
    "#Function Parameters and Arguments:"
   ]
  },
  {
   "cell_type": "markdown",
   "id": "91c74520-d42f-40c3-9178-d6604c505a4e",
   "metadata": {},
   "source": [
    "1) Explain the concepts of formal parameters and actual arguments in Python functions."
   ]
  },
  {
   "cell_type": "markdown",
   "id": "2b15118c-9c62-4c04-9696-985683af95b7",
   "metadata": {},
   "source": [
    "'''Formal Parameters:   \n",
    "Formal parameters are the placeholders or variables defined in the function header. \n",
    "They represent the values that the function expects to receive when it's called. \n",
    "These parameters are like labels that the function uses to work with the input data.\n",
    "\n",
    "Actual Arguments: \n",
    "Actual arguments, also known as arguments or parameters, are the values or expressions that are passed to a function when it's called. \n",
    "They correspond to the formal parameters defined in the function. Actual arguments provide the values for the function to operate on.'''"
   ]
  },
  {
   "cell_type": "markdown",
   "id": "830eaad9-b00e-4536-a89e-0e5a81fdd36a",
   "metadata": {},
   "source": [
    "2) Write a Python program that defines a function with default argument values."
   ]
  },
  {
   "cell_type": "code",
   "execution_count": 55,
   "id": "34501fee-d9a1-4714-bcb2-f76a14bfc3a8",
   "metadata": {},
   "outputs": [
    {
     "name": "stdout",
     "output_type": "stream",
     "text": [
      "Hello, Balan!\n",
      "Hi, Bala!\n"
     ]
    }
   ],
   "source": [
    "def greet(name, greeting=\"Hello\"):\n",
    "    print(f\"{greeting}, {name}!\")\n",
    "\n",
    "greet(\"Balan\") \n",
    "greet(\"Bala\", \"Hi\")"
   ]
  },
  {
   "cell_type": "markdown",
   "id": "e76d91ce-9ec0-4bd8-afb9-b50411d1aed9",
   "metadata": {},
   "source": [
    "3) How do you use keyword arguments in Python function calls? Provide an example."
   ]
  },
  {
   "cell_type": "code",
   "execution_count": 56,
   "id": "1afd792e-03d7-470d-808d-ceef2d3c0282",
   "metadata": {},
   "outputs": [
    {
     "name": "stdout",
     "output_type": "stream",
     "text": [
      "The final price is $108.00\n"
     ]
    }
   ],
   "source": [
    "def calculate_total(price, tax_rate):\n",
    "    total = price + (price * tax_rate)\n",
    "    return total\n",
    "\n",
    "final_price = calculate_total(price=100, tax_rate=0.08)\n",
    "print(f\"The final price is ${final_price:.2f}\")"
   ]
  },
  {
   "cell_type": "markdown",
   "id": "1a419759-0a21-436a-b95e-a64cd49a0dc1",
   "metadata": {},
   "source": [
    "4) Create a Python function that accepts a variable number of arguments and calculates their sum."
   ]
  },
  {
   "cell_type": "code",
   "execution_count": 57,
   "id": "a4efceef-e2bd-4df0-bd35-9eeff122ad36",
   "metadata": {},
   "outputs": [
    {
     "name": "stdout",
     "output_type": "stream",
     "text": [
      "The sum is 15\n"
     ]
    }
   ],
   "source": [
    "def calculate_sum(*args):\n",
    "    total = sum(args)\n",
    "    return total\n",
    "\n",
    "result = calculate_sum(1, 2, 3, 4, 5)\n",
    "print(f\"The sum is {result}\")"
   ]
  },
  {
   "cell_type": "markdown",
   "id": "a5bfb935-7f9c-480e-9f14-a187a96f260d",
   "metadata": {},
   "source": [
    "5) What is the purpose of the `*args` and `**kwargs` syntax in function parameter lists?"
   ]
  },
  {
   "cell_type": "markdown",
   "id": "1b280c0a-7031-40a4-bdbd-3f4a73e2a0df",
   "metadata": {},
   "source": [
    "'''*args (Arbitrary Positional Arguments): \n",
    "It allows you to pass a variable number of positional arguments to a function. These arguments are collected into a tuple inside the function.\n",
    "\n",
    "**kwargs (Arbitrary Keyword Arguments): \n",
    "It allows you to pass a variable number of keyword arguments (key-value pairs) to a function. \n",
    "These arguments are collected into a dictionary inside the function.'''"
   ]
  },
  {
   "cell_type": "markdown",
   "id": "fa34b378-a9e4-4f46-8269-0efadf51430e",
   "metadata": {},
   "source": [
    "#"
   ]
  },
  {
   "cell_type": "markdown",
   "id": "00b2fe8c-e301-434d-bd5d-1484d808934c",
   "metadata": {},
   "source": [
    "#Built-in Functions:"
   ]
  },
  {
   "cell_type": "markdown",
   "id": "26acfd65-ffbe-4381-8503-6894a8a1875d",
   "metadata": {},
   "source": [
    "1) Describe the role of built-in functions like `len()`, `max()`, and `min()` in Python."
   ]
  },
  {
   "cell_type": "markdown",
   "id": "77066258-d7f0-4409-b23e-bd66a8bc3f94",
   "metadata": {},
   "source": [
    "'''len(): \n",
    "The len() function is used to determine the length (number of items) of various data structures like strings, lists, dictionaries, and more.\n",
    "\n",
    "max(): \n",
    "The max() function is used to find the maximum value among the elements of an iterable. You can also use it to find the maximum value among multiple arguments.\n",
    "\n",
    "min(): \n",
    "The min() function is used to find the minimum value among the elements of an iterable or among multiple arguments, similar to max()'''"
   ]
  },
  {
   "cell_type": "markdown",
   "id": "f44bd606-ccbd-4ba1-b661-40fe43528a53",
   "metadata": {},
   "source": [
    "2) Write a Python program that uses the `map()` function to apply a function to each element of a list."
   ]
  },
  {
   "cell_type": "code",
   "execution_count": 58,
   "id": "98c8934a-604c-414b-94d0-22e15af1b462",
   "metadata": {},
   "outputs": [
    {
     "name": "stdout",
     "output_type": "stream",
     "text": [
      "[1, 4, 9, 16, 25]\n"
     ]
    }
   ],
   "source": [
    "def square(x):\n",
    "    return x ** 2\n",
    "\n",
    "numbers = [1, 2, 3, 4, 5]\n",
    "squared_numbers = map(square, numbers)\n",
    "squared_numbers_list = list(squared_numbers)\n",
    "print(squared_numbers_list)"
   ]
  },
  {
   "cell_type": "markdown",
   "id": "284feace-237a-4b33-b452-08a14a3d1dea",
   "metadata": {},
   "source": [
    "3) How does the `filter()` function work in Python, and when would you use it?"
   ]
  },
  {
   "cell_type": "code",
   "execution_count": 59,
   "id": "738a0160-4936-4100-92a5-5e51ab66eec1",
   "metadata": {},
   "outputs": [
    {
     "name": "stdout",
     "output_type": "stream",
     "text": [
      "[2, 4, 6, 8]\n"
     ]
    }
   ],
   "source": [
    "def is_even(x):\n",
    "    return x % 2 == 0\n",
    "\n",
    "numbers = [1, 2, 3, 4, 5, 6, 7, 8, 9]\n",
    "even_numbers = filter(is_even, numbers)\n",
    "even_numbers_list = list(even_numbers)\n",
    "print(even_numbers_list)"
   ]
  },
  {
   "cell_type": "markdown",
   "id": "f08912f7-eb83-4cbf-9513-5af8ccb82257",
   "metadata": {},
   "source": [
    "4) Create a Python program that uses the `reduce()` function to find the product of all elements in a list."
   ]
  },
  {
   "cell_type": "code",
   "execution_count": 60,
   "id": "7a68edf9-5c62-4986-b422-4f966ab28fe8",
   "metadata": {},
   "outputs": [
    {
     "name": "stdout",
     "output_type": "stream",
     "text": [
      "The product of all elements is 120\n"
     ]
    }
   ],
   "source": [
    "from functools import reduce\n",
    "def multiply(x, y):\n",
    "    return x * y\n",
    "\n",
    "numbers = [1, 2, 3, 4, 5]\n",
    "product = reduce(multiply, numbers)\n",
    "print(f\"The product of all elements is {product}\")"
   ]
  },
  {
   "cell_type": "markdown",
   "id": "3e887a82-009e-4e69-aca0-20ae45c6c8bf",
   "metadata": {},
   "source": [
    "#"
   ]
  },
  {
   "cell_type": "markdown",
   "id": "79990bfd-cb18-460c-82e4-5d979315d1be",
   "metadata": {},
   "source": [
    "#Function Documentation and Best Practices:"
   ]
  },
  {
   "cell_type": "markdown",
   "id": "9c2590f2-5082-4049-8407-ae875d013edc",
   "metadata": {},
   "source": [
    "1) Explain the purpose of docstrings in Python functions and how to write them."
   ]
  },
  {
   "cell_type": "code",
   "execution_count": 63,
   "id": "da84d214-df5c-4eab-b920-690d0667de95",
   "metadata": {},
   "outputs": [
    {
     "name": "stdout",
     "output_type": "stream",
     "text": [
      "Help on function my_function in module __main__:\n",
      "\n",
      "my_function(param1, param2)\n",
      "    This is a docstring for my_function.\n",
      "    \n",
      "    This function takes two parameters:\n",
      "    - param1: A description of parameter 1.\n",
      "    - param2: A description of parameter 2.\n",
      "    \n",
      "    It does something useful and returns a result.\n",
      "    \n",
      "    Example:\n",
      "    >>> my_function(3, 5)\n",
      "    8\n",
      "\n"
     ]
    }
   ],
   "source": [
    "def my_function(param1, param2):\n",
    "    \"\"\"\n",
    "    This is a docstring for my_function.\n",
    "\n",
    "    This function takes two parameters:\n",
    "    - param1: A description of parameter 1.\n",
    "    - param2: A description of parameter 2.\n",
    "\n",
    "    It does something useful and returns a result.\n",
    "\n",
    "    Example:\n",
    "    >>> my_function(3, 5)\n",
    "    8\n",
    "    \"\"\"\n",
    "    # Function code here\n",
    "    return param1 + param2\n",
    "help(my_function)"
   ]
  }
 ],
 "metadata": {
  "kernelspec": {
   "display_name": "Python 3 (ipykernel)",
   "language": "python",
   "name": "python3"
  },
  "language_info": {
   "codemirror_mode": {
    "name": "ipython",
    "version": 3
   },
   "file_extension": ".py",
   "mimetype": "text/x-python",
   "name": "python",
   "nbconvert_exporter": "python",
   "pygments_lexer": "ipython3",
   "version": "3.10.8"
  }
 },
 "nbformat": 4,
 "nbformat_minor": 5
}
