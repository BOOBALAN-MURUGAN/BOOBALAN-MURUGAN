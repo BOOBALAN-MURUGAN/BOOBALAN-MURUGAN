{
 "cells": [
  {
   "cell_type": "markdown",
   "id": "7d276e8e",
   "metadata": {},
   "source": [
    "1. Given an array, check if it contains any duplicates or not.\n",
    "arr = [1, 2, 4, 2, 5, 9]\n",
    "Output = True"
   ]
  },
  {
   "cell_type": "code",
   "execution_count": 17,
   "id": "46b33ea2",
   "metadata": {},
   "outputs": [
    {
     "name": "stdout",
     "output_type": "stream",
     "text": [
      "True\n"
     ]
    }
   ],
   "source": [
    "#Creating a define function to check the duplicate\n",
    "def duplicatevalue(arr):\n",
    "    arr.sort()\n",
    "    new_record=[]\n",
    "    for i in arr:\n",
    "        if i in new_record:\n",
    "            return True\n",
    "        else:\n",
    "            new_record.append(i)\n",
    "    return False\n",
    "                 \n",
    "arr = [1, 2, 4, 2, 5, 9]\n",
    "print(duplicatevalue(arr))\n",
    "\n",
    "#Above logic was written to find the duplicate value\n",
    "#Time complexity is O(n) becasue I am using loop function\n",
    "#Space complexity is O(n) becasue I was created new list"
   ]
  },
  {
   "cell_type": "markdown",
   "id": "9fc7cc60",
   "metadata": {},
   "source": [
    "2. Given an array and an integer k, rotate the array to the right by k steps.\n",
    "arr = [1, 2, 3, 4, 5, 6, 7] k = 3\n",
    "Output = [5, 6, 7, 1, 2, 3, 4]"
   ]
  },
  {
   "cell_type": "code",
   "execution_count": 20,
   "id": "382db25b",
   "metadata": {},
   "outputs": [
    {
     "name": "stdout",
     "output_type": "stream",
     "text": [
      "[5, 6, 7, 1, 2, 3, 4]\n"
     ]
    }
   ],
   "source": [
    "#Creating a function to rotate the array\n",
    "\n",
    "def rotate(arr, k):\n",
    "    return arr[k:]+arr[:k]\n",
    "\n",
    "arr = [1, 2, 3, 4, 5, 6, 7]\n",
    "k = -3\n",
    "print(rotate(arr,k))\n",
    "\n",
    "#Above logic was written to rotate the value\n",
    "#Time complexity is O(1) becasue I didn't use loop function\n",
    "#Space complexity is O(1) becasue I didn't created new list"
   ]
  },
  {
   "cell_type": "markdown",
   "id": "87c04324",
   "metadata": {},
   "source": [
    "3. Reverse the given array in-place, means without using any extra data structure.\n",
    "arr = [2, 4, 5, 7, 9, 12]\n",
    "Output = [12, 9, 7, 5, 4, 2]"
   ]
  },
  {
   "cell_type": "code",
   "execution_count": 21,
   "id": "e07d6fff",
   "metadata": {},
   "outputs": [
    {
     "name": "stdout",
     "output_type": "stream",
     "text": [
      "[12, 9, 7, 5, 4, 2]\n"
     ]
    }
   ],
   "source": [
    "#Creating a function to reverse the array\n",
    "\n",
    "def reverse(arr):\n",
    "    return arr[::-1]\n",
    "\n",
    "arr = [2, 4, 5, 7, 9, 12] \n",
    "print(reverse(arr))\n",
    "\n",
    "#Above logic was written to reverse the value\n",
    "#Time complexity is O(1) becasue I didn't use loop function\n",
    "#Space complexity is O(1) becasue I didn't created new list"
   ]
  },
  {
   "cell_type": "markdown",
   "id": "75a9a9f6",
   "metadata": {},
   "source": [
    "4. Given an array of integers, find the maximum element in an array\n",
    "arr = [10, 5, 20, 8, 15]\n",
    "Output = 20"
   ]
  },
  {
   "cell_type": "code",
   "execution_count": 22,
   "id": "d0c773d2",
   "metadata": {},
   "outputs": [
    {
     "name": "stdout",
     "output_type": "stream",
     "text": [
      "20\n"
     ]
    }
   ],
   "source": [
    "#Creating a function to find the maximum element of array\n",
    "\n",
    "def maxi(arr):\n",
    "    maximum = 1\n",
    "    for i in arr:\n",
    "        if i > maximum:\n",
    "            maximum = i        \n",
    "    return maximum\n",
    "\n",
    "arr = [10, 5, 20, 8, 15]\n",
    "print(maxi(arr))\n",
    "\n",
    "#Above logic was written to find the maximun value\n",
    "#Time complexity is O(n) becasue I am using loop function\n",
    "#Space complexity is O(1) becasue I didn't created new list"
   ]
  },
  {
   "cell_type": "markdown",
   "id": "3b0fd3a5",
   "metadata": {},
   "source": [
    "5. Given a sorted array, remove the duplicate element without using any extra data structure.\n",
    "arr = [1, 1, 2, 2, 2, 3, 3, 4, 4, 4, 5, 5]\n",
    "Output = [1, 2, 3, 4, 5]"
   ]
  },
  {
   "cell_type": "code",
   "execution_count": 29,
   "id": "0474a2bf",
   "metadata": {},
   "outputs": [
    {
     "name": "stdout",
     "output_type": "stream",
     "text": [
      "[1, 2, 3, 4, 5]\n"
     ]
    }
   ],
   "source": [
    "#Creating a function to remove duplicate of array\n",
    "\n",
    "def Remov_dupl(arr):\n",
    "    return list(set(arr))\n",
    "   \n",
    "arr = [1, 1, 2, 2, 2, 3, 3, 4, 4, 4, 5, 5] \n",
    "print(Remov_dupl(arr))\n",
    "\n",
    "#Above logic was written to remove duplicate value\n",
    "#Time complexity is O(1) becasue I didn't use loop function\n",
    "#Space complexity is O(1) becasue I didn't created new list"
   ]
  }
 ],
 "metadata": {
  "kernelspec": {
   "display_name": "Python 3 (ipykernel)",
   "language": "python",
   "name": "python3"
  },
  "language_info": {
   "codemirror_mode": {
    "name": "ipython",
    "version": 3
   },
   "file_extension": ".py",
   "mimetype": "text/x-python",
   "name": "python",
   "nbconvert_exporter": "python",
   "pygments_lexer": "ipython3",
   "version": "3.11.5"
  }
 },
 "nbformat": 4,
 "nbformat_minor": 5
}
